{
 "cells": [
  {
   "cell_type": "code",
   "execution_count": 2,
   "metadata": {},
   "outputs": [],
   "source": [
    "import requests\n",
    "import pandas as pd"
   ]
  },
  {
   "cell_type": "code",
   "execution_count": 3,
   "metadata": {},
   "outputs": [
    {
     "name": "stdout",
     "output_type": "stream",
     "text": [
      "Requirement already satisfied: plotly==4.8.1 in /opt/conda/lib/python3.8/site-packages (4.8.1)\n",
      "Requirement already satisfied: retrying>=1.3.3 in /opt/conda/lib/python3.8/site-packages (from plotly==4.8.1) (1.3.3)\n",
      "Requirement already satisfied: six in /opt/conda/lib/python3.8/site-packages (from plotly==4.8.1) (1.15.0)\n",
      "Building jupyterlab assets (build:prod:minimize)\n"
     ]
    }
   ],
   "source": [
    "!pip install plotly==4.8.1\n",
    "!jupyter labextension install jupyterlab-plotly@4.8.1"
   ]
  },
  {
   "cell_type": "code",
   "execution_count": 4,
   "metadata": {},
   "outputs": [],
   "source": [
    "# Project config\n",
    "\n",
    "API_KEY = \"17f1316f61671c97431a42fc7587f05c\"\n",
    "\n",
    "# Defining result path and file\n",
    "HOTELS_FILE_PATH = 'results/hotels.csv'"
   ]
  },
  {
   "cell_type": "code",
   "execution_count": 13,
   "metadata": {},
   "outputs": [],
   "source": [
    "cities = [\"Mont Saint Michel\",\n",
    "          \"St Malo\",\n",
    "          \"Bayeux\",\n",
    "          \"Le Havre\",\n",
    "          \"Rouen\",\n",
    "          \"Paris\",\n",
    "          \"Amiens\",\n",
    "          \"Lille\",\n",
    "          \"Strasbourg\",\n",
    "          \"Chateau du Haut Koenigsbourg\",\n",
    "          \"Colmar\",\n",
    "          \"Eguisheim\",\n",
    "          \"Besancon\",\n",
    "          \"Dijon\",\n",
    "          \"Annecy\",\n",
    "          \"Grenoble\",\n",
    "          \"Lyon\",\n",
    "          \"Gorges du Verdon\",\n",
    "          \"Bormes les Mimosas\",\n",
    "          \"Cassis\",\n",
    "          \"Marseille\",\n",
    "          \"Aix en Provence\",\n",
    "          \"Avignon\",\n",
    "          \"Uzes\",\n",
    "          \"Nimes\",\n",
    "          \"Aigues Mortes\",\n",
    "          \"Saintes Maries de la mer\",\n",
    "          \"Collioure\",\n",
    "          \"Carcassonne\",\n",
    "          \"Ariege\",\n",
    "          \"Toulouse\",\n",
    "          \"Montauban\",\n",
    "          \"Biarritz\",\n",
    "          \"Bayonne\",\n",
    "          \"La Rochelle\"]"
   ]
  },
  {
   "cell_type": "code",
   "execution_count": 14,
   "metadata": {},
   "outputs": [
    {
     "data": {
      "text/plain": [
       "'Le Mont-Saint-Michel, Avranches, Manche, Normandie, France métropolitaine, 50170, France'"
      ]
     },
     "metadata": {},
     "output_type": "display_data"
    },
    {
     "data": {
      "text/plain": [
       "'Saint-Malo, Ille-et-Vilaine, Bretagne, France métropolitaine, 35400, France'"
      ]
     },
     "metadata": {},
     "output_type": "display_data"
    },
    {
     "data": {
      "text/plain": [
       "'Bayeux, Calvados, Normandie, France métropolitaine, 14400, France'"
      ]
     },
     "metadata": {},
     "output_type": "display_data"
    },
    {
     "data": {
      "text/plain": [
       "'Le Havre, Seine-Maritime, Normandie, France métropolitaine, France'"
      ]
     },
     "metadata": {},
     "output_type": "display_data"
    },
    {
     "data": {
      "text/plain": [
       "'Rouen, Seine-Maritime, Normandie, France métropolitaine, France'"
      ]
     },
     "metadata": {},
     "output_type": "display_data"
    },
    {
     "data": {
      "text/plain": [
       "'Paris, Île-de-France, France métropolitaine, France'"
      ]
     },
     "metadata": {},
     "output_type": "display_data"
    },
    {
     "data": {
      "text/plain": [
       "'Amiens, Somme, Hauts-de-France, France métropolitaine, France'"
      ]
     },
     "metadata": {},
     "output_type": "display_data"
    },
    {
     "data": {
      "text/plain": [
       "'Lille, Nord, Hauts-de-France, France métropolitaine, France'"
      ]
     },
     "metadata": {},
     "output_type": "display_data"
    },
    {
     "data": {
      "text/plain": [
       "'Strasbourg, Bas-Rhin, Grand Est, France métropolitaine, France'"
      ]
     },
     "metadata": {},
     "output_type": "display_data"
    },
    {
     "data": {
      "text/plain": [
       "'Château du Haut-Kœnigsbourg, Chemin fermé suite  à travaux, Château du Haut-Kœnigsbourg, Orschwiller, Sélestat-Erstein, Bas-Rhin, Grand Est, France métropolitaine, 67600, France'"
      ]
     },
     "metadata": {},
     "output_type": "display_data"
    },
    {
     "data": {
      "text/plain": [
       "'Colmar, Colmar-Ribeauvillé, Haut-Rhin, Grand Est, France métropolitaine, 68000, France'"
      ]
     },
     "metadata": {},
     "output_type": "display_data"
    },
    {
     "data": {
      "text/plain": [
       "'Eguisheim, Colmar-Ribeauvillé, Haut-Rhin, Grand Est, France métropolitaine, 68420, France'"
      ]
     },
     "metadata": {},
     "output_type": "display_data"
    },
    {
     "data": {
      "text/plain": [
       "'Besançon, Doubs, Bourgogne-Franche-Comté, France métropolitaine, 25000, France'"
      ]
     },
     "metadata": {},
     "output_type": "display_data"
    },
    {
     "data": {
      "text/plain": [
       "\"Dijon, Côte-d'Or, Bourgogne-Franche-Comté, France métropolitaine, 21000, France\""
      ]
     },
     "metadata": {},
     "output_type": "display_data"
    },
    {
     "data": {
      "text/plain": [
       "'Annecy, Haute-Savoie, Auvergne-Rhône-Alpes, France métropolitaine, France'"
      ]
     },
     "metadata": {},
     "output_type": "display_data"
    },
    {
     "data": {
      "text/plain": [
       "'Grenoble, Isère, Auvergne-Rhône-Alpes, France métropolitaine, France'"
      ]
     },
     "metadata": {},
     "output_type": "display_data"
    },
    {
     "data": {
      "text/plain": [
       "'Lyon, Métropole de Lyon, Circonscription départementale du Rhône, Auvergne-Rhône-Alpes, France métropolitaine, France'"
      ]
     },
     "metadata": {},
     "output_type": "display_data"
    },
    {
     "data": {
      "text/plain": [
       "\"Gorges du Verdon, La Palud-sur-Verdon, Castellane, Alpes-de-Haute-Provence, Provence-Alpes-Côte d'Azur, France métropolitaine, 04120, France\""
      ]
     },
     "metadata": {},
     "output_type": "display_data"
    },
    {
     "data": {
      "text/plain": [
       "\"Bormes-les-Mimosas, Toulon, Var, Provence-Alpes-Côte d'Azur, France métropolitaine, 83230, France\""
      ]
     },
     "metadata": {},
     "output_type": "display_data"
    },
    {
     "data": {
      "text/plain": [
       "\"Cassis, Marseille, Bouches-du-Rhône, Provence-Alpes-Côte d'Azur, France métropolitaine, 13260, France\""
      ]
     },
     "metadata": {},
     "output_type": "display_data"
    },
    {
     "data": {
      "text/plain": [
       "\"Marseille, Bouches-du-Rhône, Provence-Alpes-Côte d'Azur, France métropolitaine, 13000, France\""
      ]
     },
     "metadata": {},
     "output_type": "display_data"
    },
    {
     "data": {
      "text/plain": [
       "\"Aix-en-Provence, Bouches-du-Rhône, Provence-Alpes-Côte d'Azur, France métropolitaine, France\""
      ]
     },
     "metadata": {},
     "output_type": "display_data"
    },
    {
     "data": {
      "text/plain": [
       "\"Avignon, Vaucluse, Provence-Alpes-Côte d'Azur, France métropolitaine, France\""
      ]
     },
     "metadata": {},
     "output_type": "display_data"
    },
    {
     "data": {
      "text/plain": [
       "'Uzès, Nîmes, Gard, Occitanie, France métropolitaine, 30700, France'"
      ]
     },
     "metadata": {},
     "output_type": "display_data"
    },
    {
     "data": {
      "text/plain": [
       "'Nîmes, Gard, Occitanie, France métropolitaine, France'"
      ]
     },
     "metadata": {},
     "output_type": "display_data"
    },
    {
     "data": {
      "text/plain": [
       "'Aigues-Mortes, Nîmes, Gard, Occitanie, France métropolitaine, 30220, France'"
      ]
     },
     "metadata": {},
     "output_type": "display_data"
    },
    {
     "data": {
      "text/plain": [
       "\"Saintes-Maries-de-la-Mer, Arles, Bouches-du-Rhône, Provence-Alpes-Côte d'Azur, France métropolitaine, 13460, France\""
      ]
     },
     "metadata": {},
     "output_type": "display_data"
    },
    {
     "data": {
      "text/plain": [
       "'Collioure, Céret, Pyrénées-Orientales, Occitanie, France métropolitaine, 66190, France'"
      ]
     },
     "metadata": {},
     "output_type": "display_data"
    },
    {
     "data": {
      "text/plain": [
       "'Carcassonne, Aude, Occitanie, France métropolitaine, 11000, France'"
      ]
     },
     "metadata": {},
     "output_type": "display_data"
    },
    {
     "data": {
      "text/plain": [
       "'Ariège, Occitanie, France métropolitaine, France'"
      ]
     },
     "metadata": {},
     "output_type": "display_data"
    },
    {
     "data": {
      "text/plain": [
       "'Toulouse, Haute-Garonne, Occitanie, France métropolitaine, France'"
      ]
     },
     "metadata": {},
     "output_type": "display_data"
    },
    {
     "data": {
      "text/plain": [
       "'Montauban, Tarn-et-Garonne, Occitanie, France métropolitaine, 82000, France'"
      ]
     },
     "metadata": {},
     "output_type": "display_data"
    },
    {
     "data": {
      "text/plain": [
       "'Biarritz, Bayonne, Pyrénées-Atlantiques, Nouvelle-Aquitaine, France métropolitaine, 64200, France'"
      ]
     },
     "metadata": {},
     "output_type": "display_data"
    },
    {
     "data": {
      "text/plain": [
       "'Bayonne, Pyrénées-Atlantiques, Nouvelle-Aquitaine, France métropolitaine, 64100, France'"
      ]
     },
     "metadata": {},
     "output_type": "display_data"
    },
    {
     "data": {
      "text/plain": [
       "'La Rochelle, Charente-Maritime, Nouvelle-Aquitaine, France métropolitaine, 17000, France'"
      ]
     },
     "metadata": {},
     "output_type": "display_data"
    }
   ],
   "source": [
    "def filter_weather(city_id, json_weather):\n",
    "    rework = [\"temp\", 'feels_like']\n",
    "    rework_dict = {key + \"_\" + cat: value for cat in rework for key, value in json_weather.pop(cat).items()}\n",
    "    weather_dict = {key + \"_weather\": value for key, value in json_weather.pop(\"weather\")[0].items() if key not in [\"id\", \"icon\"]}\n",
    "    return {**{\"city_id\": city_id}, **json_weather, **rework_dict, **weather_dict}\n",
    "\n",
    "def get_weather(cities, unit=\"metric\"):\n",
    "    res_cities = []\n",
    "    res_weather = []\n",
    "    for city_id, city in enumerate(cities):\n",
    "        city_dict = requests.get(\"https://nominatim.openstreetmap.org/search/%s France?format=json\" % city).json()[0]\n",
    "        lat = float(city_dict['lat'])\n",
    "        lon = float(city_dict['lon'])\n",
    "        weather_forecast = requests.get(\"https://api.openweathermap.org/data/2.5/onecall?lat=%f&lon=%f&units=%s&exclude=current,minutely,hourly,alerts&appid=%s\" % (lat, lon, unit, API_KEY)).json()[\"daily\"] \n",
    "        res_cities += [{\"city_id\": city_id, \"city_name\": city, \"display_name\": city_dict['display_name'], \"lat\": lat, \"lon\": lon}]\n",
    "        res_weather += [filter_weather(city_id, weather) for weather in weather_forecast]\n",
    "        display(city_dict['display_name'])\n",
    "    return res_cities, res_weather\n",
    "\n",
    "cities_infos, weather_infos = get_weather(cities)\n",
    "df_cities = pd.DataFrame.from_records(cities_infos, index=\"city_id\")\n",
    "df_weather = pd.DataFrame.from_records(weather_infos)"
   ]
  },
  {
   "cell_type": "code",
   "execution_count": 15,
   "metadata": {},
   "outputs": [
    {
     "data": {
      "text/html": [
       "<div>\n",
       "<style scoped>\n",
       "    .dataframe tbody tr th:only-of-type {\n",
       "        vertical-align: middle;\n",
       "    }\n",
       "\n",
       "    .dataframe tbody tr th {\n",
       "        vertical-align: top;\n",
       "    }\n",
       "\n",
       "    .dataframe thead th {\n",
       "        text-align: right;\n",
       "    }\n",
       "</style>\n",
       "<table border=\"1\" class=\"dataframe\">\n",
       "  <thead>\n",
       "    <tr style=\"text-align: right;\">\n",
       "      <th></th>\n",
       "      <th>city_id</th>\n",
       "      <th>dt</th>\n",
       "      <th>sunrise</th>\n",
       "      <th>sunset</th>\n",
       "      <th>pressure</th>\n",
       "      <th>humidity</th>\n",
       "      <th>dew_point</th>\n",
       "      <th>wind_speed</th>\n",
       "      <th>wind_deg</th>\n",
       "      <th>clouds</th>\n",
       "      <th>...</th>\n",
       "      <th>eve_temp</th>\n",
       "      <th>morn_temp</th>\n",
       "      <th>day_feels_like</th>\n",
       "      <th>night_feels_like</th>\n",
       "      <th>eve_feels_like</th>\n",
       "      <th>morn_feels_like</th>\n",
       "      <th>main_weather</th>\n",
       "      <th>description_weather</th>\n",
       "      <th>snow</th>\n",
       "      <th>day_light_duration</th>\n",
       "    </tr>\n",
       "  </thead>\n",
       "  <tbody>\n",
       "    <tr>\n",
       "      <th>0</th>\n",
       "      <td>0</td>\n",
       "      <td>2021-01-26 12:00:00</td>\n",
       "      <td>2021-01-26 07:42:58</td>\n",
       "      <td>2021-01-26 16:54:00</td>\n",
       "      <td>1021</td>\n",
       "      <td>72</td>\n",
       "      <td>0.06</td>\n",
       "      <td>7.43</td>\n",
       "      <td>185</td>\n",
       "      <td>100</td>\n",
       "      <td>...</td>\n",
       "      <td>3.81</td>\n",
       "      <td>1.29</td>\n",
       "      <td>-2.61</td>\n",
       "      <td>-1.71</td>\n",
       "      <td>-3.92</td>\n",
       "      <td>-3.78</td>\n",
       "      <td>Rain</td>\n",
       "      <td>light rain</td>\n",
       "      <td>NaN</td>\n",
       "      <td>0 days 09:11:02</td>\n",
       "    </tr>\n",
       "    <tr>\n",
       "      <th>1</th>\n",
       "      <td>0</td>\n",
       "      <td>2021-01-27 12:00:00</td>\n",
       "      <td>2021-01-27 07:41:49</td>\n",
       "      <td>2021-01-27 16:55:36</td>\n",
       "      <td>1017</td>\n",
       "      <td>90</td>\n",
       "      <td>9.77</td>\n",
       "      <td>3.51</td>\n",
       "      <td>227</td>\n",
       "      <td>100</td>\n",
       "      <td>...</td>\n",
       "      <td>11.41</td>\n",
       "      <td>8.63</td>\n",
       "      <td>8.70</td>\n",
       "      <td>7.50</td>\n",
       "      <td>8.20</td>\n",
       "      <td>5.83</td>\n",
       "      <td>Rain</td>\n",
       "      <td>moderate rain</td>\n",
       "      <td>NaN</td>\n",
       "      <td>0 days 09:13:47</td>\n",
       "    </tr>\n",
       "    <tr>\n",
       "      <th>2</th>\n",
       "      <td>0</td>\n",
       "      <td>2021-01-28 12:00:00</td>\n",
       "      <td>2021-01-28 07:40:37</td>\n",
       "      <td>2021-01-28 16:57:12</td>\n",
       "      <td>1012</td>\n",
       "      <td>82</td>\n",
       "      <td>10.28</td>\n",
       "      <td>7.18</td>\n",
       "      <td>254</td>\n",
       "      <td>99</td>\n",
       "      <td>...</td>\n",
       "      <td>11.98</td>\n",
       "      <td>11.98</td>\n",
       "      <td>8.18</td>\n",
       "      <td>6.43</td>\n",
       "      <td>7.54</td>\n",
       "      <td>7.72</td>\n",
       "      <td>Rain</td>\n",
       "      <td>light rain</td>\n",
       "      <td>NaN</td>\n",
       "      <td>0 days 09:16:35</td>\n",
       "    </tr>\n",
       "    <tr>\n",
       "      <th>3</th>\n",
       "      <td>0</td>\n",
       "      <td>2021-01-29 12:00:00</td>\n",
       "      <td>2021-01-29 07:39:23</td>\n",
       "      <td>2021-01-29 16:58:49</td>\n",
       "      <td>1010</td>\n",
       "      <td>80</td>\n",
       "      <td>8.06</td>\n",
       "      <td>6.61</td>\n",
       "      <td>263</td>\n",
       "      <td>72</td>\n",
       "      <td>...</td>\n",
       "      <td>8.78</td>\n",
       "      <td>8.87</td>\n",
       "      <td>6.26</td>\n",
       "      <td>4.48</td>\n",
       "      <td>5.16</td>\n",
       "      <td>5.20</td>\n",
       "      <td>Rain</td>\n",
       "      <td>light rain</td>\n",
       "      <td>NaN</td>\n",
       "      <td>0 days 09:19:26</td>\n",
       "    </tr>\n",
       "    <tr>\n",
       "      <th>4</th>\n",
       "      <td>0</td>\n",
       "      <td>2021-01-30 12:00:00</td>\n",
       "      <td>2021-01-30 07:38:07</td>\n",
       "      <td>2021-01-30 17:00:27</td>\n",
       "      <td>1009</td>\n",
       "      <td>82</td>\n",
       "      <td>6.63</td>\n",
       "      <td>1.80</td>\n",
       "      <td>123</td>\n",
       "      <td>97</td>\n",
       "      <td>...</td>\n",
       "      <td>7.98</td>\n",
       "      <td>5.65</td>\n",
       "      <td>7.47</td>\n",
       "      <td>3.95</td>\n",
       "      <td>4.78</td>\n",
       "      <td>3.29</td>\n",
       "      <td>Clouds</td>\n",
       "      <td>overcast clouds</td>\n",
       "      <td>NaN</td>\n",
       "      <td>0 days 09:22:20</td>\n",
       "    </tr>\n",
       "    <tr>\n",
       "      <th>...</th>\n",
       "      <td>...</td>\n",
       "      <td>...</td>\n",
       "      <td>...</td>\n",
       "      <td>...</td>\n",
       "      <td>...</td>\n",
       "      <td>...</td>\n",
       "      <td>...</td>\n",
       "      <td>...</td>\n",
       "      <td>...</td>\n",
       "      <td>...</td>\n",
       "      <td>...</td>\n",
       "      <td>...</td>\n",
       "      <td>...</td>\n",
       "      <td>...</td>\n",
       "      <td>...</td>\n",
       "      <td>...</td>\n",
       "      <td>...</td>\n",
       "      <td>...</td>\n",
       "      <td>...</td>\n",
       "      <td>...</td>\n",
       "      <td>...</td>\n",
       "    </tr>\n",
       "    <tr>\n",
       "      <th>275</th>\n",
       "      <td>34</td>\n",
       "      <td>2021-01-29 12:00:00</td>\n",
       "      <td>2021-01-29 07:30:49</td>\n",
       "      <td>2021-01-29 17:04:30</td>\n",
       "      <td>1014</td>\n",
       "      <td>94</td>\n",
       "      <td>9.88</td>\n",
       "      <td>7.21</td>\n",
       "      <td>260</td>\n",
       "      <td>100</td>\n",
       "      <td>...</td>\n",
       "      <td>9.67</td>\n",
       "      <td>10.91</td>\n",
       "      <td>5.68</td>\n",
       "      <td>7.51</td>\n",
       "      <td>6.70</td>\n",
       "      <td>6.68</td>\n",
       "      <td>Rain</td>\n",
       "      <td>moderate rain</td>\n",
       "      <td>NaN</td>\n",
       "      <td>0 days 09:33:41</td>\n",
       "    </tr>\n",
       "    <tr>\n",
       "      <th>276</th>\n",
       "      <td>34</td>\n",
       "      <td>2021-01-30 12:00:00</td>\n",
       "      <td>2021-01-30 07:29:41</td>\n",
       "      <td>2021-01-30 17:06:00</td>\n",
       "      <td>1008</td>\n",
       "      <td>97</td>\n",
       "      <td>9.60</td>\n",
       "      <td>1.69</td>\n",
       "      <td>145</td>\n",
       "      <td>100</td>\n",
       "      <td>...</td>\n",
       "      <td>10.47</td>\n",
       "      <td>9.16</td>\n",
       "      <td>8.72</td>\n",
       "      <td>6.71</td>\n",
       "      <td>8.58</td>\n",
       "      <td>5.48</td>\n",
       "      <td>Rain</td>\n",
       "      <td>light rain</td>\n",
       "      <td>NaN</td>\n",
       "      <td>0 days 09:36:19</td>\n",
       "    </tr>\n",
       "    <tr>\n",
       "      <th>277</th>\n",
       "      <td>34</td>\n",
       "      <td>2021-01-31 12:00:00</td>\n",
       "      <td>2021-01-31 07:28:31</td>\n",
       "      <td>2021-01-31 17:07:29</td>\n",
       "      <td>1003</td>\n",
       "      <td>87</td>\n",
       "      <td>10.40</td>\n",
       "      <td>16.02</td>\n",
       "      <td>243</td>\n",
       "      <td>91</td>\n",
       "      <td>...</td>\n",
       "      <td>10.61</td>\n",
       "      <td>10.57</td>\n",
       "      <td>1.24</td>\n",
       "      <td>-1.24</td>\n",
       "      <td>-1.02</td>\n",
       "      <td>3.97</td>\n",
       "      <td>Rain</td>\n",
       "      <td>light rain</td>\n",
       "      <td>NaN</td>\n",
       "      <td>0 days 09:38:58</td>\n",
       "    </tr>\n",
       "    <tr>\n",
       "      <th>278</th>\n",
       "      <td>34</td>\n",
       "      <td>2021-02-01 12:00:00</td>\n",
       "      <td>2021-02-01 07:27:19</td>\n",
       "      <td>2021-02-01 17:08:59</td>\n",
       "      <td>1014</td>\n",
       "      <td>85</td>\n",
       "      <td>8.64</td>\n",
       "      <td>9.70</td>\n",
       "      <td>246</td>\n",
       "      <td>100</td>\n",
       "      <td>...</td>\n",
       "      <td>11.06</td>\n",
       "      <td>9.89</td>\n",
       "      <td>3.76</td>\n",
       "      <td>3.36</td>\n",
       "      <td>3.30</td>\n",
       "      <td>3.87</td>\n",
       "      <td>Rain</td>\n",
       "      <td>moderate rain</td>\n",
       "      <td>NaN</td>\n",
       "      <td>0 days 09:41:40</td>\n",
       "    </tr>\n",
       "    <tr>\n",
       "      <th>279</th>\n",
       "      <td>34</td>\n",
       "      <td>2021-02-02 12:00:00</td>\n",
       "      <td>2021-02-02 07:26:06</td>\n",
       "      <td>2021-02-02 17:10:29</td>\n",
       "      <td>1011</td>\n",
       "      <td>88</td>\n",
       "      <td>9.83</td>\n",
       "      <td>10.19</td>\n",
       "      <td>233</td>\n",
       "      <td>100</td>\n",
       "      <td>...</td>\n",
       "      <td>10.86</td>\n",
       "      <td>11.33</td>\n",
       "      <td>4.40</td>\n",
       "      <td>5.25</td>\n",
       "      <td>4.61</td>\n",
       "      <td>5.08</td>\n",
       "      <td>Rain</td>\n",
       "      <td>light rain</td>\n",
       "      <td>NaN</td>\n",
       "      <td>0 days 09:44:23</td>\n",
       "    </tr>\n",
       "  </tbody>\n",
       "</table>\n",
       "<p>280 rows × 27 columns</p>\n",
       "</div>"
      ],
      "text/plain": [
       "     city_id                  dt             sunrise              sunset  \\\n",
       "0          0 2021-01-26 12:00:00 2021-01-26 07:42:58 2021-01-26 16:54:00   \n",
       "1          0 2021-01-27 12:00:00 2021-01-27 07:41:49 2021-01-27 16:55:36   \n",
       "2          0 2021-01-28 12:00:00 2021-01-28 07:40:37 2021-01-28 16:57:12   \n",
       "3          0 2021-01-29 12:00:00 2021-01-29 07:39:23 2021-01-29 16:58:49   \n",
       "4          0 2021-01-30 12:00:00 2021-01-30 07:38:07 2021-01-30 17:00:27   \n",
       "..       ...                 ...                 ...                 ...   \n",
       "275       34 2021-01-29 12:00:00 2021-01-29 07:30:49 2021-01-29 17:04:30   \n",
       "276       34 2021-01-30 12:00:00 2021-01-30 07:29:41 2021-01-30 17:06:00   \n",
       "277       34 2021-01-31 12:00:00 2021-01-31 07:28:31 2021-01-31 17:07:29   \n",
       "278       34 2021-02-01 12:00:00 2021-02-01 07:27:19 2021-02-01 17:08:59   \n",
       "279       34 2021-02-02 12:00:00 2021-02-02 07:26:06 2021-02-02 17:10:29   \n",
       "\n",
       "     pressure  humidity  dew_point  wind_speed  wind_deg  clouds  ...  \\\n",
       "0        1021        72       0.06        7.43       185     100  ...   \n",
       "1        1017        90       9.77        3.51       227     100  ...   \n",
       "2        1012        82      10.28        7.18       254      99  ...   \n",
       "3        1010        80       8.06        6.61       263      72  ...   \n",
       "4        1009        82       6.63        1.80       123      97  ...   \n",
       "..        ...       ...        ...         ...       ...     ...  ...   \n",
       "275      1014        94       9.88        7.21       260     100  ...   \n",
       "276      1008        97       9.60        1.69       145     100  ...   \n",
       "277      1003        87      10.40       16.02       243      91  ...   \n",
       "278      1014        85       8.64        9.70       246     100  ...   \n",
       "279      1011        88       9.83       10.19       233     100  ...   \n",
       "\n",
       "     eve_temp  morn_temp  day_feels_like  night_feels_like  eve_feels_like  \\\n",
       "0        3.81       1.29           -2.61             -1.71           -3.92   \n",
       "1       11.41       8.63            8.70              7.50            8.20   \n",
       "2       11.98      11.98            8.18              6.43            7.54   \n",
       "3        8.78       8.87            6.26              4.48            5.16   \n",
       "4        7.98       5.65            7.47              3.95            4.78   \n",
       "..        ...        ...             ...               ...             ...   \n",
       "275      9.67      10.91            5.68              7.51            6.70   \n",
       "276     10.47       9.16            8.72              6.71            8.58   \n",
       "277     10.61      10.57            1.24             -1.24           -1.02   \n",
       "278     11.06       9.89            3.76              3.36            3.30   \n",
       "279     10.86      11.33            4.40              5.25            4.61   \n",
       "\n",
       "     morn_feels_like  main_weather  description_weather  snow  \\\n",
       "0              -3.78          Rain           light rain   NaN   \n",
       "1               5.83          Rain        moderate rain   NaN   \n",
       "2               7.72          Rain           light rain   NaN   \n",
       "3               5.20          Rain           light rain   NaN   \n",
       "4               3.29        Clouds      overcast clouds   NaN   \n",
       "..               ...           ...                  ...   ...   \n",
       "275             6.68          Rain        moderate rain   NaN   \n",
       "276             5.48          Rain           light rain   NaN   \n",
       "277             3.97          Rain           light rain   NaN   \n",
       "278             3.87          Rain        moderate rain   NaN   \n",
       "279             5.08          Rain           light rain   NaN   \n",
       "\n",
       "     day_light_duration  \n",
       "0       0 days 09:11:02  \n",
       "1       0 days 09:13:47  \n",
       "2       0 days 09:16:35  \n",
       "3       0 days 09:19:26  \n",
       "4       0 days 09:22:20  \n",
       "..                  ...  \n",
       "275     0 days 09:33:41  \n",
       "276     0 days 09:36:19  \n",
       "277     0 days 09:38:58  \n",
       "278     0 days 09:41:40  \n",
       "279     0 days 09:44:23  \n",
       "\n",
       "[280 rows x 27 columns]"
      ]
     },
     "metadata": {},
     "output_type": "display_data"
    }
   ],
   "source": [
    "df_weather['dt'] = pd.to_datetime(df_weather['dt'], unit='s')\n",
    "df_weather['sunrise'] = pd.to_datetime(df_weather['sunrise'], unit='s')\n",
    "df_weather['sunset'] = pd.to_datetime(df_weather['sunset'], unit='s')\n",
    "df_weather['day_light_duration'] = df_weather['sunset'] - df_weather['sunrise']\n",
    "display(df_weather)"
   ]
  },
  {
   "cell_type": "code",
   "execution_count": 16,
   "metadata": {},
   "outputs": [
    {
     "data": {
      "text/html": [
       "<div>\n",
       "<style scoped>\n",
       "    .dataframe tbody tr th:only-of-type {\n",
       "        vertical-align: middle;\n",
       "    }\n",
       "\n",
       "    .dataframe tbody tr th {\n",
       "        vertical-align: top;\n",
       "    }\n",
       "\n",
       "    .dataframe thead th {\n",
       "        text-align: right;\n",
       "    }\n",
       "</style>\n",
       "<table border=\"1\" class=\"dataframe\">\n",
       "  <thead>\n",
       "    <tr style=\"text-align: right;\">\n",
       "      <th></th>\n",
       "      <th>city_id</th>\n",
       "      <th>humidity</th>\n",
       "      <th>wind_speed</th>\n",
       "      <th>clouds</th>\n",
       "      <th>pop</th>\n",
       "      <th>rain</th>\n",
       "      <th>uvi</th>\n",
       "      <th>day_temp</th>\n",
       "      <th>day_feels_like</th>\n",
       "      <th>main_weather</th>\n",
       "      <th>snow</th>\n",
       "    </tr>\n",
       "  </thead>\n",
       "  <tbody>\n",
       "    <tr>\n",
       "      <th>0</th>\n",
       "      <td>0</td>\n",
       "      <td>72</td>\n",
       "      <td>7.43</td>\n",
       "      <td>100</td>\n",
       "      <td>0.71</td>\n",
       "      <td>0.56</td>\n",
       "      <td>0.63</td>\n",
       "      <td>4.58</td>\n",
       "      <td>-2.61</td>\n",
       "      <td>Rain</td>\n",
       "      <td>0.0</td>\n",
       "    </tr>\n",
       "    <tr>\n",
       "      <th>1</th>\n",
       "      <td>0</td>\n",
       "      <td>90</td>\n",
       "      <td>3.51</td>\n",
       "      <td>100</td>\n",
       "      <td>1.00</td>\n",
       "      <td>2.59</td>\n",
       "      <td>0.55</td>\n",
       "      <td>11.21</td>\n",
       "      <td>8.70</td>\n",
       "      <td>Rain</td>\n",
       "      <td>0.0</td>\n",
       "    </tr>\n",
       "    <tr>\n",
       "      <th>2</th>\n",
       "      <td>0</td>\n",
       "      <td>82</td>\n",
       "      <td>7.18</td>\n",
       "      <td>99</td>\n",
       "      <td>0.85</td>\n",
       "      <td>3.65</td>\n",
       "      <td>0.68</td>\n",
       "      <td>13.13</td>\n",
       "      <td>8.18</td>\n",
       "      <td>Rain</td>\n",
       "      <td>0.0</td>\n",
       "    </tr>\n",
       "    <tr>\n",
       "      <th>3</th>\n",
       "      <td>0</td>\n",
       "      <td>80</td>\n",
       "      <td>6.61</td>\n",
       "      <td>72</td>\n",
       "      <td>1.00</td>\n",
       "      <td>2.14</td>\n",
       "      <td>0.93</td>\n",
       "      <td>11.35</td>\n",
       "      <td>6.26</td>\n",
       "      <td>Rain</td>\n",
       "      <td>0.0</td>\n",
       "    </tr>\n",
       "    <tr>\n",
       "      <th>4</th>\n",
       "      <td>0</td>\n",
       "      <td>82</td>\n",
       "      <td>1.80</td>\n",
       "      <td>97</td>\n",
       "      <td>0.02</td>\n",
       "      <td>0.00</td>\n",
       "      <td>0.66</td>\n",
       "      <td>9.52</td>\n",
       "      <td>7.47</td>\n",
       "      <td>Clouds</td>\n",
       "      <td>0.0</td>\n",
       "    </tr>\n",
       "    <tr>\n",
       "      <th>...</th>\n",
       "      <td>...</td>\n",
       "      <td>...</td>\n",
       "      <td>...</td>\n",
       "      <td>...</td>\n",
       "      <td>...</td>\n",
       "      <td>...</td>\n",
       "      <td>...</td>\n",
       "      <td>...</td>\n",
       "      <td>...</td>\n",
       "      <td>...</td>\n",
       "      <td>...</td>\n",
       "    </tr>\n",
       "    <tr>\n",
       "      <th>275</th>\n",
       "      <td>34</td>\n",
       "      <td>94</td>\n",
       "      <td>7.21</td>\n",
       "      <td>100</td>\n",
       "      <td>1.00</td>\n",
       "      <td>7.33</td>\n",
       "      <td>1.08</td>\n",
       "      <td>10.73</td>\n",
       "      <td>5.68</td>\n",
       "      <td>Rain</td>\n",
       "      <td>0.0</td>\n",
       "    </tr>\n",
       "    <tr>\n",
       "      <th>276</th>\n",
       "      <td>34</td>\n",
       "      <td>97</td>\n",
       "      <td>1.69</td>\n",
       "      <td>100</td>\n",
       "      <td>0.89</td>\n",
       "      <td>1.51</td>\n",
       "      <td>0.38</td>\n",
       "      <td>9.98</td>\n",
       "      <td>8.72</td>\n",
       "      <td>Rain</td>\n",
       "      <td>0.0</td>\n",
       "    </tr>\n",
       "    <tr>\n",
       "      <th>277</th>\n",
       "      <td>34</td>\n",
       "      <td>87</td>\n",
       "      <td>16.02</td>\n",
       "      <td>91</td>\n",
       "      <td>1.00</td>\n",
       "      <td>3.66</td>\n",
       "      <td>1.00</td>\n",
       "      <td>12.34</td>\n",
       "      <td>1.24</td>\n",
       "      <td>Rain</td>\n",
       "      <td>0.0</td>\n",
       "    </tr>\n",
       "    <tr>\n",
       "      <th>278</th>\n",
       "      <td>34</td>\n",
       "      <td>85</td>\n",
       "      <td>9.70</td>\n",
       "      <td>100</td>\n",
       "      <td>1.00</td>\n",
       "      <td>5.77</td>\n",
       "      <td>1.00</td>\n",
       "      <td>10.90</td>\n",
       "      <td>3.76</td>\n",
       "      <td>Rain</td>\n",
       "      <td>0.0</td>\n",
       "    </tr>\n",
       "    <tr>\n",
       "      <th>279</th>\n",
       "      <td>34</td>\n",
       "      <td>88</td>\n",
       "      <td>10.19</td>\n",
       "      <td>100</td>\n",
       "      <td>0.99</td>\n",
       "      <td>2.18</td>\n",
       "      <td>1.00</td>\n",
       "      <td>11.58</td>\n",
       "      <td>4.40</td>\n",
       "      <td>Rain</td>\n",
       "      <td>0.0</td>\n",
       "    </tr>\n",
       "  </tbody>\n",
       "</table>\n",
       "<p>280 rows × 11 columns</p>\n",
       "</div>"
      ],
      "text/plain": [
       "     city_id  humidity  wind_speed  clouds   pop  rain   uvi  day_temp  \\\n",
       "0          0        72        7.43     100  0.71  0.56  0.63      4.58   \n",
       "1          0        90        3.51     100  1.00  2.59  0.55     11.21   \n",
       "2          0        82        7.18      99  0.85  3.65  0.68     13.13   \n",
       "3          0        80        6.61      72  1.00  2.14  0.93     11.35   \n",
       "4          0        82        1.80      97  0.02  0.00  0.66      9.52   \n",
       "..       ...       ...         ...     ...   ...   ...   ...       ...   \n",
       "275       34        94        7.21     100  1.00  7.33  1.08     10.73   \n",
       "276       34        97        1.69     100  0.89  1.51  0.38      9.98   \n",
       "277       34        87       16.02      91  1.00  3.66  1.00     12.34   \n",
       "278       34        85        9.70     100  1.00  5.77  1.00     10.90   \n",
       "279       34        88       10.19     100  0.99  2.18  1.00     11.58   \n",
       "\n",
       "     day_feels_like main_weather  snow  \n",
       "0             -2.61         Rain   0.0  \n",
       "1              8.70         Rain   0.0  \n",
       "2              8.18         Rain   0.0  \n",
       "3              6.26         Rain   0.0  \n",
       "4              7.47       Clouds   0.0  \n",
       "..              ...          ...   ...  \n",
       "275            5.68         Rain   0.0  \n",
       "276            8.72         Rain   0.0  \n",
       "277            1.24         Rain   0.0  \n",
       "278            3.76         Rain   0.0  \n",
       "279            4.40         Rain   0.0  \n",
       "\n",
       "[280 rows x 11 columns]"
      ]
     },
     "metadata": {},
     "output_type": "display_data"
    }
   ],
   "source": [
    "df_filtered = df_weather.drop([\"sunrise\", \"sunset\", \"pressure\", \"dew_point\", \"wind_deg\", \n",
    "                               \"description_weather\", 'min_temp', 'max_temp', 'night_temp', 'eve_temp', 'morn_temp', \n",
    "                               'night_feels_like', 'eve_feels_like', 'morn_feels_like', 'dt', 'day_light_duration'], axis=1)\n",
    "df_filtered.rain.fillna(0, inplace=True)\n",
    "df_filtered.snow.fillna(0, inplace=True)\n",
    "display(df_filtered)"
   ]
  },
  {
   "cell_type": "code",
   "execution_count": 17,
   "metadata": {},
   "outputs": [
    {
     "data": {
      "text/html": [
       "<div>\n",
       "<style scoped>\n",
       "    .dataframe tbody tr th:only-of-type {\n",
       "        vertical-align: middle;\n",
       "    }\n",
       "\n",
       "    .dataframe tbody tr th {\n",
       "        vertical-align: top;\n",
       "    }\n",
       "\n",
       "    .dataframe thead th {\n",
       "        text-align: right;\n",
       "    }\n",
       "</style>\n",
       "<table border=\"1\" class=\"dataframe\">\n",
       "  <thead>\n",
       "    <tr style=\"text-align: right;\">\n",
       "      <th></th>\n",
       "      <th>city_name</th>\n",
       "      <th>lat</th>\n",
       "      <th>lon</th>\n",
       "      <th>city_id</th>\n",
       "      <th>humidity</th>\n",
       "      <th>wind_speed</th>\n",
       "      <th>clouds</th>\n",
       "      <th>pop</th>\n",
       "      <th>rain</th>\n",
       "      <th>uvi</th>\n",
       "      <th>day_temp</th>\n",
       "      <th>day_feels_like</th>\n",
       "      <th>main_weather</th>\n",
       "      <th>snow</th>\n",
       "      <th>rank</th>\n",
       "      <th>invert_rank</th>\n",
       "    </tr>\n",
       "    <tr>\n",
       "      <th>city_id</th>\n",
       "      <th></th>\n",
       "      <th></th>\n",
       "      <th></th>\n",
       "      <th></th>\n",
       "      <th></th>\n",
       "      <th></th>\n",
       "      <th></th>\n",
       "      <th></th>\n",
       "      <th></th>\n",
       "      <th></th>\n",
       "      <th></th>\n",
       "      <th></th>\n",
       "      <th></th>\n",
       "      <th></th>\n",
       "      <th></th>\n",
       "      <th></th>\n",
       "    </tr>\n",
       "  </thead>\n",
       "  <tbody>\n",
       "    <tr>\n",
       "      <th>18</th>\n",
       "      <td>Bormes les Mimosas</td>\n",
       "      <td>43.150697</td>\n",
       "      <td>6.341928</td>\n",
       "      <td>18</td>\n",
       "      <td>52.625</td>\n",
       "      <td>7.39375</td>\n",
       "      <td>62.125</td>\n",
       "      <td>0.01500</td>\n",
       "      <td>0.00000</td>\n",
       "      <td>1.77500</td>\n",
       "      <td>13.19875</td>\n",
       "      <td>6.73375</td>\n",
       "      <td>Clouds</td>\n",
       "      <td>0.00000</td>\n",
       "      <td>1</td>\n",
       "      <td>35</td>\n",
       "    </tr>\n",
       "    <tr>\n",
       "      <th>24</th>\n",
       "      <td>Nimes</td>\n",
       "      <td>43.837425</td>\n",
       "      <td>4.360069</td>\n",
       "      <td>24</td>\n",
       "      <td>58.750</td>\n",
       "      <td>3.60875</td>\n",
       "      <td>84.000</td>\n",
       "      <td>0.10125</td>\n",
       "      <td>0.03000</td>\n",
       "      <td>1.60375</td>\n",
       "      <td>12.63375</td>\n",
       "      <td>9.01875</td>\n",
       "      <td>Clouds</td>\n",
       "      <td>0.00000</td>\n",
       "      <td>2</td>\n",
       "      <td>34</td>\n",
       "    </tr>\n",
       "    <tr>\n",
       "      <th>23</th>\n",
       "      <td>Uzes</td>\n",
       "      <td>44.012128</td>\n",
       "      <td>4.419672</td>\n",
       "      <td>23</td>\n",
       "      <td>60.625</td>\n",
       "      <td>3.55125</td>\n",
       "      <td>84.000</td>\n",
       "      <td>0.13375</td>\n",
       "      <td>0.03750</td>\n",
       "      <td>1.48000</td>\n",
       "      <td>11.99625</td>\n",
       "      <td>8.38500</td>\n",
       "      <td>Clouds</td>\n",
       "      <td>0.00000</td>\n",
       "      <td>3</td>\n",
       "      <td>33</td>\n",
       "    </tr>\n",
       "    <tr>\n",
       "      <th>26</th>\n",
       "      <td>Saintes Maries de la mer</td>\n",
       "      <td>43.452277</td>\n",
       "      <td>4.428717</td>\n",
       "      <td>26</td>\n",
       "      <td>64.500</td>\n",
       "      <td>5.87500</td>\n",
       "      <td>80.375</td>\n",
       "      <td>0.08625</td>\n",
       "      <td>0.04750</td>\n",
       "      <td>1.21375</td>\n",
       "      <td>12.34500</td>\n",
       "      <td>7.37625</td>\n",
       "      <td>Clouds</td>\n",
       "      <td>0.00000</td>\n",
       "      <td>4</td>\n",
       "      <td>32</td>\n",
       "    </tr>\n",
       "    <tr>\n",
       "      <th>19</th>\n",
       "      <td>Cassis</td>\n",
       "      <td>43.214036</td>\n",
       "      <td>5.539632</td>\n",
       "      <td>19</td>\n",
       "      <td>56.250</td>\n",
       "      <td>7.27500</td>\n",
       "      <td>56.000</td>\n",
       "      <td>0.04375</td>\n",
       "      <td>0.05750</td>\n",
       "      <td>1.75000</td>\n",
       "      <td>12.74375</td>\n",
       "      <td>6.44500</td>\n",
       "      <td>Clouds</td>\n",
       "      <td>0.00000</td>\n",
       "      <td>5</td>\n",
       "      <td>31</td>\n",
       "    </tr>\n",
       "    <tr>\n",
       "      <th>20</th>\n",
       "      <td>Marseille</td>\n",
       "      <td>43.296174</td>\n",
       "      <td>5.369953</td>\n",
       "      <td>20</td>\n",
       "      <td>58.500</td>\n",
       "      <td>6.96125</td>\n",
       "      <td>58.375</td>\n",
       "      <td>0.06000</td>\n",
       "      <td>0.07375</td>\n",
       "      <td>1.70250</td>\n",
       "      <td>12.31375</td>\n",
       "      <td>6.26250</td>\n",
       "      <td>Clouds</td>\n",
       "      <td>0.00000</td>\n",
       "      <td>6</td>\n",
       "      <td>30</td>\n",
       "    </tr>\n",
       "    <tr>\n",
       "      <th>22</th>\n",
       "      <td>Avignon</td>\n",
       "      <td>43.949249</td>\n",
       "      <td>4.805901</td>\n",
       "      <td>22</td>\n",
       "      <td>59.875</td>\n",
       "      <td>4.73750</td>\n",
       "      <td>79.875</td>\n",
       "      <td>0.17125</td>\n",
       "      <td>0.09000</td>\n",
       "      <td>1.61625</td>\n",
       "      <td>11.70750</td>\n",
       "      <td>7.16500</td>\n",
       "      <td>Clouds</td>\n",
       "      <td>0.00000</td>\n",
       "      <td>7</td>\n",
       "      <td>29</td>\n",
       "    </tr>\n",
       "    <tr>\n",
       "      <th>25</th>\n",
       "      <td>Aigues Mortes</td>\n",
       "      <td>43.565823</td>\n",
       "      <td>4.191284</td>\n",
       "      <td>25</td>\n",
       "      <td>63.125</td>\n",
       "      <td>4.43125</td>\n",
       "      <td>83.500</td>\n",
       "      <td>0.10250</td>\n",
       "      <td>0.09250</td>\n",
       "      <td>1.60375</td>\n",
       "      <td>12.47125</td>\n",
       "      <td>8.47750</td>\n",
       "      <td>Clouds</td>\n",
       "      <td>0.00000</td>\n",
       "      <td>8</td>\n",
       "      <td>28</td>\n",
       "    </tr>\n",
       "    <tr>\n",
       "      <th>21</th>\n",
       "      <td>Aix en Provence</td>\n",
       "      <td>43.529842</td>\n",
       "      <td>5.447474</td>\n",
       "      <td>21</td>\n",
       "      <td>55.375</td>\n",
       "      <td>4.58750</td>\n",
       "      <td>62.500</td>\n",
       "      <td>0.11500</td>\n",
       "      <td>0.10000</td>\n",
       "      <td>1.60250</td>\n",
       "      <td>11.29625</td>\n",
       "      <td>6.58000</td>\n",
       "      <td>Clouds</td>\n",
       "      <td>0.00000</td>\n",
       "      <td>9</td>\n",
       "      <td>27</td>\n",
       "    </tr>\n",
       "    <tr>\n",
       "      <th>17</th>\n",
       "      <td>Gorges du Verdon</td>\n",
       "      <td>43.749700</td>\n",
       "      <td>6.328590</td>\n",
       "      <td>17</td>\n",
       "      <td>59.875</td>\n",
       "      <td>5.33875</td>\n",
       "      <td>55.375</td>\n",
       "      <td>0.18500</td>\n",
       "      <td>0.12500</td>\n",
       "      <td>1.68875</td>\n",
       "      <td>8.55125</td>\n",
       "      <td>3.05750</td>\n",
       "      <td>Clouds</td>\n",
       "      <td>0.00000</td>\n",
       "      <td>10</td>\n",
       "      <td>26</td>\n",
       "    </tr>\n",
       "    <tr>\n",
       "      <th>27</th>\n",
       "      <td>Collioure</td>\n",
       "      <td>42.525050</td>\n",
       "      <td>3.083155</td>\n",
       "      <td>27</td>\n",
       "      <td>64.375</td>\n",
       "      <td>1.83875</td>\n",
       "      <td>82.625</td>\n",
       "      <td>0.31125</td>\n",
       "      <td>0.72375</td>\n",
       "      <td>1.18125</td>\n",
       "      <td>14.29125</td>\n",
       "      <td>12.47375</td>\n",
       "      <td>Clouds</td>\n",
       "      <td>0.00000</td>\n",
       "      <td>11</td>\n",
       "      <td>25</td>\n",
       "    </tr>\n",
       "    <tr>\n",
       "      <th>30</th>\n",
       "      <td>Toulouse</td>\n",
       "      <td>43.604462</td>\n",
       "      <td>1.444247</td>\n",
       "      <td>30</td>\n",
       "      <td>72.000</td>\n",
       "      <td>3.64500</td>\n",
       "      <td>74.500</td>\n",
       "      <td>0.69500</td>\n",
       "      <td>1.99250</td>\n",
       "      <td>0.98000</td>\n",
       "      <td>12.56875</td>\n",
       "      <td>9.51500</td>\n",
       "      <td>Rain</td>\n",
       "      <td>0.00000</td>\n",
       "      <td>12</td>\n",
       "      <td>24</td>\n",
       "    </tr>\n",
       "    <tr>\n",
       "      <th>33</th>\n",
       "      <td>Bayonne</td>\n",
       "      <td>43.493338</td>\n",
       "      <td>-1.475099</td>\n",
       "      <td>33</td>\n",
       "      <td>74.125</td>\n",
       "      <td>2.72750</td>\n",
       "      <td>84.500</td>\n",
       "      <td>0.58500</td>\n",
       "      <td>2.07875</td>\n",
       "      <td>1.07750</td>\n",
       "      <td>13.85250</td>\n",
       "      <td>11.83125</td>\n",
       "      <td>Rain</td>\n",
       "      <td>0.00000</td>\n",
       "      <td>13</td>\n",
       "      <td>23</td>\n",
       "    </tr>\n",
       "    <tr>\n",
       "      <th>32</th>\n",
       "      <td>Biarritz</td>\n",
       "      <td>43.471144</td>\n",
       "      <td>-1.552727</td>\n",
       "      <td>32</td>\n",
       "      <td>75.750</td>\n",
       "      <td>2.83750</td>\n",
       "      <td>82.500</td>\n",
       "      <td>0.57625</td>\n",
       "      <td>2.15625</td>\n",
       "      <td>1.11750</td>\n",
       "      <td>13.44375</td>\n",
       "      <td>11.32875</td>\n",
       "      <td>Rain</td>\n",
       "      <td>0.00000</td>\n",
       "      <td>14</td>\n",
       "      <td>22</td>\n",
       "    </tr>\n",
       "    <tr>\n",
       "      <th>28</th>\n",
       "      <td>Carcassonne</td>\n",
       "      <td>43.213036</td>\n",
       "      <td>2.349107</td>\n",
       "      <td>28</td>\n",
       "      <td>69.625</td>\n",
       "      <td>4.14500</td>\n",
       "      <td>65.625</td>\n",
       "      <td>0.60250</td>\n",
       "      <td>2.21125</td>\n",
       "      <td>1.05250</td>\n",
       "      <td>13.08375</td>\n",
       "      <td>9.67250</td>\n",
       "      <td>Rain</td>\n",
       "      <td>0.00000</td>\n",
       "      <td>15</td>\n",
       "      <td>21</td>\n",
       "    </tr>\n",
       "    <tr>\n",
       "      <th>31</th>\n",
       "      <td>Montauban</td>\n",
       "      <td>44.017584</td>\n",
       "      <td>1.354999</td>\n",
       "      <td>31</td>\n",
       "      <td>76.250</td>\n",
       "      <td>2.96375</td>\n",
       "      <td>89.125</td>\n",
       "      <td>0.73875</td>\n",
       "      <td>2.68625</td>\n",
       "      <td>0.81750</td>\n",
       "      <td>11.92750</td>\n",
       "      <td>9.41500</td>\n",
       "      <td>Rain</td>\n",
       "      <td>0.00000</td>\n",
       "      <td>16</td>\n",
       "      <td>20</td>\n",
       "    </tr>\n",
       "    <tr>\n",
       "      <th>1</th>\n",
       "      <td>St Malo</td>\n",
       "      <td>48.645453</td>\n",
       "      <td>-2.015418</td>\n",
       "      <td>1</td>\n",
       "      <td>81.250</td>\n",
       "      <td>7.99875</td>\n",
       "      <td>85.375</td>\n",
       "      <td>0.85125</td>\n",
       "      <td>2.85375</td>\n",
       "      <td>0.80625</td>\n",
       "      <td>10.75875</td>\n",
       "      <td>4.64500</td>\n",
       "      <td>Rain</td>\n",
       "      <td>0.00000</td>\n",
       "      <td>17</td>\n",
       "      <td>19</td>\n",
       "    </tr>\n",
       "    <tr>\n",
       "      <th>29</th>\n",
       "      <td>Ariege</td>\n",
       "      <td>42.945537</td>\n",
       "      <td>1.406554</td>\n",
       "      <td>29</td>\n",
       "      <td>80.750</td>\n",
       "      <td>2.12375</td>\n",
       "      <td>69.625</td>\n",
       "      <td>0.69500</td>\n",
       "      <td>3.56125</td>\n",
       "      <td>1.19750</td>\n",
       "      <td>8.00875</td>\n",
       "      <td>5.37625</td>\n",
       "      <td>Rain</td>\n",
       "      <td>0.01750</td>\n",
       "      <td>18</td>\n",
       "      <td>18</td>\n",
       "    </tr>\n",
       "    <tr>\n",
       "      <th>0</th>\n",
       "      <td>Mont Saint Michel</td>\n",
       "      <td>48.635856</td>\n",
       "      <td>-1.512610</td>\n",
       "      <td>0</td>\n",
       "      <td>80.125</td>\n",
       "      <td>7.06250</td>\n",
       "      <td>87.125</td>\n",
       "      <td>0.82250</td>\n",
       "      <td>3.62250</td>\n",
       "      <td>0.80625</td>\n",
       "      <td>10.82000</td>\n",
       "      <td>5.34875</td>\n",
       "      <td>Rain</td>\n",
       "      <td>0.00000</td>\n",
       "      <td>19</td>\n",
       "      <td>17</td>\n",
       "    </tr>\n",
       "    <tr>\n",
       "      <th>16</th>\n",
       "      <td>Lyon</td>\n",
       "      <td>45.757814</td>\n",
       "      <td>4.832011</td>\n",
       "      <td>16</td>\n",
       "      <td>75.875</td>\n",
       "      <td>1.99000</td>\n",
       "      <td>90.000</td>\n",
       "      <td>0.74875</td>\n",
       "      <td>3.75125</td>\n",
       "      <td>1.20875</td>\n",
       "      <td>8.20750</td>\n",
       "      <td>5.59250</td>\n",
       "      <td>Rain</td>\n",
       "      <td>0.00000</td>\n",
       "      <td>20</td>\n",
       "      <td>16</td>\n",
       "    </tr>\n",
       "    <tr>\n",
       "      <th>34</th>\n",
       "      <td>La Rochelle</td>\n",
       "      <td>46.159113</td>\n",
       "      <td>-1.152043</td>\n",
       "      <td>34</td>\n",
       "      <td>88.250</td>\n",
       "      <td>8.12625</td>\n",
       "      <td>98.875</td>\n",
       "      <td>0.88625</td>\n",
       "      <td>3.82875</td>\n",
       "      <td>0.86250</td>\n",
       "      <td>10.49625</td>\n",
       "      <td>4.56125</td>\n",
       "      <td>Rain</td>\n",
       "      <td>0.00000</td>\n",
       "      <td>21</td>\n",
       "      <td>15</td>\n",
       "    </tr>\n",
       "    <tr>\n",
       "      <th>2</th>\n",
       "      <td>Bayeux</td>\n",
       "      <td>49.276462</td>\n",
       "      <td>-0.702474</td>\n",
       "      <td>2</td>\n",
       "      <td>83.000</td>\n",
       "      <td>7.74250</td>\n",
       "      <td>90.625</td>\n",
       "      <td>0.79250</td>\n",
       "      <td>4.07500</td>\n",
       "      <td>0.83000</td>\n",
       "      <td>10.13375</td>\n",
       "      <td>4.15625</td>\n",
       "      <td>Rain</td>\n",
       "      <td>0.00000</td>\n",
       "      <td>22</td>\n",
       "      <td>14</td>\n",
       "    </tr>\n",
       "    <tr>\n",
       "      <th>3</th>\n",
       "      <td>Le Havre</td>\n",
       "      <td>49.493898</td>\n",
       "      <td>0.107973</td>\n",
       "      <td>3</td>\n",
       "      <td>84.625</td>\n",
       "      <td>7.66750</td>\n",
       "      <td>92.750</td>\n",
       "      <td>0.86375</td>\n",
       "      <td>4.09375</td>\n",
       "      <td>0.78125</td>\n",
       "      <td>9.23500</td>\n",
       "      <td>3.16250</td>\n",
       "      <td>Rain</td>\n",
       "      <td>0.00000</td>\n",
       "      <td>23</td>\n",
       "      <td>13</td>\n",
       "    </tr>\n",
       "    <tr>\n",
       "      <th>4</th>\n",
       "      <td>Rouen</td>\n",
       "      <td>49.440459</td>\n",
       "      <td>1.093966</td>\n",
       "      <td>4</td>\n",
       "      <td>80.625</td>\n",
       "      <td>6.76375</td>\n",
       "      <td>97.125</td>\n",
       "      <td>0.85125</td>\n",
       "      <td>4.22000</td>\n",
       "      <td>0.69625</td>\n",
       "      <td>9.97750</td>\n",
       "      <td>4.54750</td>\n",
       "      <td>Rain</td>\n",
       "      <td>0.07750</td>\n",
       "      <td>24</td>\n",
       "      <td>12</td>\n",
       "    </tr>\n",
       "    <tr>\n",
       "      <th>5</th>\n",
       "      <td>Paris</td>\n",
       "      <td>48.856697</td>\n",
       "      <td>2.351462</td>\n",
       "      <td>5</td>\n",
       "      <td>74.500</td>\n",
       "      <td>4.86625</td>\n",
       "      <td>94.875</td>\n",
       "      <td>0.75000</td>\n",
       "      <td>4.40875</td>\n",
       "      <td>0.81375</td>\n",
       "      <td>10.03875</td>\n",
       "      <td>5.70375</td>\n",
       "      <td>Rain</td>\n",
       "      <td>0.00000</td>\n",
       "      <td>25</td>\n",
       "      <td>11</td>\n",
       "    </tr>\n",
       "    <tr>\n",
       "      <th>6</th>\n",
       "      <td>Amiens</td>\n",
       "      <td>49.894171</td>\n",
       "      <td>2.295695</td>\n",
       "      <td>6</td>\n",
       "      <td>83.250</td>\n",
       "      <td>6.48750</td>\n",
       "      <td>90.500</td>\n",
       "      <td>0.80750</td>\n",
       "      <td>5.20250</td>\n",
       "      <td>0.66250</td>\n",
       "      <td>9.41125</td>\n",
       "      <td>4.15750</td>\n",
       "      <td>Rain</td>\n",
       "      <td>0.00000</td>\n",
       "      <td>26</td>\n",
       "      <td>10</td>\n",
       "    </tr>\n",
       "    <tr>\n",
       "      <th>13</th>\n",
       "      <td>Dijon</td>\n",
       "      <td>47.321581</td>\n",
       "      <td>5.041470</td>\n",
       "      <td>13</td>\n",
       "      <td>81.500</td>\n",
       "      <td>4.95750</td>\n",
       "      <td>91.000</td>\n",
       "      <td>0.75500</td>\n",
       "      <td>5.66125</td>\n",
       "      <td>0.79625</td>\n",
       "      <td>7.57875</td>\n",
       "      <td>2.96125</td>\n",
       "      <td>Rain</td>\n",
       "      <td>0.00000</td>\n",
       "      <td>27</td>\n",
       "      <td>9</td>\n",
       "    </tr>\n",
       "    <tr>\n",
       "      <th>7</th>\n",
       "      <td>Lille</td>\n",
       "      <td>50.636565</td>\n",
       "      <td>3.063528</td>\n",
       "      <td>7</td>\n",
       "      <td>78.750</td>\n",
       "      <td>6.22125</td>\n",
       "      <td>92.375</td>\n",
       "      <td>0.87250</td>\n",
       "      <td>6.00875</td>\n",
       "      <td>0.79750</td>\n",
       "      <td>9.04250</td>\n",
       "      <td>3.72125</td>\n",
       "      <td>Rain</td>\n",
       "      <td>0.05875</td>\n",
       "      <td>28</td>\n",
       "      <td>8</td>\n",
       "    </tr>\n",
       "    <tr>\n",
       "      <th>12</th>\n",
       "      <td>Besancon</td>\n",
       "      <td>47.238022</td>\n",
       "      <td>6.024362</td>\n",
       "      <td>12</td>\n",
       "      <td>84.750</td>\n",
       "      <td>4.72500</td>\n",
       "      <td>99.375</td>\n",
       "      <td>0.90625</td>\n",
       "      <td>7.59875</td>\n",
       "      <td>0.76875</td>\n",
       "      <td>7.06750</td>\n",
       "      <td>2.62500</td>\n",
       "      <td>Rain</td>\n",
       "      <td>0.18875</td>\n",
       "      <td>29</td>\n",
       "      <td>7</td>\n",
       "    </tr>\n",
       "    <tr>\n",
       "      <th>8</th>\n",
       "      <td>Strasbourg</td>\n",
       "      <td>48.584614</td>\n",
       "      <td>7.750713</td>\n",
       "      <td>8</td>\n",
       "      <td>80.375</td>\n",
       "      <td>5.07375</td>\n",
       "      <td>92.500</td>\n",
       "      <td>0.91875</td>\n",
       "      <td>8.40250</td>\n",
       "      <td>0.63375</td>\n",
       "      <td>6.53750</td>\n",
       "      <td>1.58875</td>\n",
       "      <td>Rain</td>\n",
       "      <td>0.03500</td>\n",
       "      <td>30</td>\n",
       "      <td>6</td>\n",
       "    </tr>\n",
       "    <tr>\n",
       "      <th>10</th>\n",
       "      <td>Colmar</td>\n",
       "      <td>48.077752</td>\n",
       "      <td>7.357964</td>\n",
       "      <td>10</td>\n",
       "      <td>77.875</td>\n",
       "      <td>4.07375</td>\n",
       "      <td>85.375</td>\n",
       "      <td>0.90125</td>\n",
       "      <td>9.21500</td>\n",
       "      <td>0.67500</td>\n",
       "      <td>7.12750</td>\n",
       "      <td>2.90750</td>\n",
       "      <td>Rain</td>\n",
       "      <td>0.07500</td>\n",
       "      <td>31</td>\n",
       "      <td>5</td>\n",
       "    </tr>\n",
       "    <tr>\n",
       "      <th>11</th>\n",
       "      <td>Eguisheim</td>\n",
       "      <td>48.044797</td>\n",
       "      <td>7.307962</td>\n",
       "      <td>11</td>\n",
       "      <td>77.750</td>\n",
       "      <td>3.78625</td>\n",
       "      <td>84.375</td>\n",
       "      <td>0.90000</td>\n",
       "      <td>9.79250</td>\n",
       "      <td>0.67500</td>\n",
       "      <td>7.14375</td>\n",
       "      <td>3.12500</td>\n",
       "      <td>Rain</td>\n",
       "      <td>0.07375</td>\n",
       "      <td>32</td>\n",
       "      <td>4</td>\n",
       "    </tr>\n",
       "    <tr>\n",
       "      <th>9</th>\n",
       "      <td>Chateau du Haut Koenigsbourg</td>\n",
       "      <td>48.249490</td>\n",
       "      <td>7.344296</td>\n",
       "      <td>9</td>\n",
       "      <td>92.375</td>\n",
       "      <td>3.82500</td>\n",
       "      <td>88.125</td>\n",
       "      <td>0.90375</td>\n",
       "      <td>10.60625</td>\n",
       "      <td>0.67500</td>\n",
       "      <td>3.67000</td>\n",
       "      <td>-0.55500</td>\n",
       "      <td>Rain</td>\n",
       "      <td>0.14750</td>\n",
       "      <td>33</td>\n",
       "      <td>3</td>\n",
       "    </tr>\n",
       "    <tr>\n",
       "      <th>15</th>\n",
       "      <td>Grenoble</td>\n",
       "      <td>45.187560</td>\n",
       "      <td>5.735782</td>\n",
       "      <td>15</td>\n",
       "      <td>75.875</td>\n",
       "      <td>1.59375</td>\n",
       "      <td>90.375</td>\n",
       "      <td>0.80500</td>\n",
       "      <td>13.36750</td>\n",
       "      <td>1.22500</td>\n",
       "      <td>7.20250</td>\n",
       "      <td>4.65000</td>\n",
       "      <td>Rain</td>\n",
       "      <td>0.01625</td>\n",
       "      <td>34</td>\n",
       "      <td>2</td>\n",
       "    </tr>\n",
       "    <tr>\n",
       "      <th>14</th>\n",
       "      <td>Annecy</td>\n",
       "      <td>45.899235</td>\n",
       "      <td>6.128885</td>\n",
       "      <td>14</td>\n",
       "      <td>86.000</td>\n",
       "      <td>1.66875</td>\n",
       "      <td>88.875</td>\n",
       "      <td>0.88375</td>\n",
       "      <td>18.61875</td>\n",
       "      <td>1.24625</td>\n",
       "      <td>4.69375</td>\n",
       "      <td>1.96625</td>\n",
       "      <td>Rain</td>\n",
       "      <td>0.14250</td>\n",
       "      <td>35</td>\n",
       "      <td>1</td>\n",
       "    </tr>\n",
       "  </tbody>\n",
       "</table>\n",
       "</div>"
      ],
      "text/plain": [
       "                            city_name        lat       lon  city_id  humidity  \\\n",
       "city_id                                                                         \n",
       "18                 Bormes les Mimosas  43.150697  6.341928       18    52.625   \n",
       "24                              Nimes  43.837425  4.360069       24    58.750   \n",
       "23                               Uzes  44.012128  4.419672       23    60.625   \n",
       "26           Saintes Maries de la mer  43.452277  4.428717       26    64.500   \n",
       "19                             Cassis  43.214036  5.539632       19    56.250   \n",
       "20                          Marseille  43.296174  5.369953       20    58.500   \n",
       "22                            Avignon  43.949249  4.805901       22    59.875   \n",
       "25                      Aigues Mortes  43.565823  4.191284       25    63.125   \n",
       "21                    Aix en Provence  43.529842  5.447474       21    55.375   \n",
       "17                   Gorges du Verdon  43.749700  6.328590       17    59.875   \n",
       "27                          Collioure  42.525050  3.083155       27    64.375   \n",
       "30                           Toulouse  43.604462  1.444247       30    72.000   \n",
       "33                            Bayonne  43.493338 -1.475099       33    74.125   \n",
       "32                           Biarritz  43.471144 -1.552727       32    75.750   \n",
       "28                        Carcassonne  43.213036  2.349107       28    69.625   \n",
       "31                          Montauban  44.017584  1.354999       31    76.250   \n",
       "1                             St Malo  48.645453 -2.015418        1    81.250   \n",
       "29                             Ariege  42.945537  1.406554       29    80.750   \n",
       "0                   Mont Saint Michel  48.635856 -1.512610        0    80.125   \n",
       "16                               Lyon  45.757814  4.832011       16    75.875   \n",
       "34                        La Rochelle  46.159113 -1.152043       34    88.250   \n",
       "2                              Bayeux  49.276462 -0.702474        2    83.000   \n",
       "3                            Le Havre  49.493898  0.107973        3    84.625   \n",
       "4                               Rouen  49.440459  1.093966        4    80.625   \n",
       "5                               Paris  48.856697  2.351462        5    74.500   \n",
       "6                              Amiens  49.894171  2.295695        6    83.250   \n",
       "13                              Dijon  47.321581  5.041470       13    81.500   \n",
       "7                               Lille  50.636565  3.063528        7    78.750   \n",
       "12                           Besancon  47.238022  6.024362       12    84.750   \n",
       "8                          Strasbourg  48.584614  7.750713        8    80.375   \n",
       "10                             Colmar  48.077752  7.357964       10    77.875   \n",
       "11                          Eguisheim  48.044797  7.307962       11    77.750   \n",
       "9        Chateau du Haut Koenigsbourg  48.249490  7.344296        9    92.375   \n",
       "15                           Grenoble  45.187560  5.735782       15    75.875   \n",
       "14                             Annecy  45.899235  6.128885       14    86.000   \n",
       "\n",
       "         wind_speed  clouds      pop      rain      uvi  day_temp  \\\n",
       "city_id                                                             \n",
       "18          7.39375  62.125  0.01500   0.00000  1.77500  13.19875   \n",
       "24          3.60875  84.000  0.10125   0.03000  1.60375  12.63375   \n",
       "23          3.55125  84.000  0.13375   0.03750  1.48000  11.99625   \n",
       "26          5.87500  80.375  0.08625   0.04750  1.21375  12.34500   \n",
       "19          7.27500  56.000  0.04375   0.05750  1.75000  12.74375   \n",
       "20          6.96125  58.375  0.06000   0.07375  1.70250  12.31375   \n",
       "22          4.73750  79.875  0.17125   0.09000  1.61625  11.70750   \n",
       "25          4.43125  83.500  0.10250   0.09250  1.60375  12.47125   \n",
       "21          4.58750  62.500  0.11500   0.10000  1.60250  11.29625   \n",
       "17          5.33875  55.375  0.18500   0.12500  1.68875   8.55125   \n",
       "27          1.83875  82.625  0.31125   0.72375  1.18125  14.29125   \n",
       "30          3.64500  74.500  0.69500   1.99250  0.98000  12.56875   \n",
       "33          2.72750  84.500  0.58500   2.07875  1.07750  13.85250   \n",
       "32          2.83750  82.500  0.57625   2.15625  1.11750  13.44375   \n",
       "28          4.14500  65.625  0.60250   2.21125  1.05250  13.08375   \n",
       "31          2.96375  89.125  0.73875   2.68625  0.81750  11.92750   \n",
       "1           7.99875  85.375  0.85125   2.85375  0.80625  10.75875   \n",
       "29          2.12375  69.625  0.69500   3.56125  1.19750   8.00875   \n",
       "0           7.06250  87.125  0.82250   3.62250  0.80625  10.82000   \n",
       "16          1.99000  90.000  0.74875   3.75125  1.20875   8.20750   \n",
       "34          8.12625  98.875  0.88625   3.82875  0.86250  10.49625   \n",
       "2           7.74250  90.625  0.79250   4.07500  0.83000  10.13375   \n",
       "3           7.66750  92.750  0.86375   4.09375  0.78125   9.23500   \n",
       "4           6.76375  97.125  0.85125   4.22000  0.69625   9.97750   \n",
       "5           4.86625  94.875  0.75000   4.40875  0.81375  10.03875   \n",
       "6           6.48750  90.500  0.80750   5.20250  0.66250   9.41125   \n",
       "13          4.95750  91.000  0.75500   5.66125  0.79625   7.57875   \n",
       "7           6.22125  92.375  0.87250   6.00875  0.79750   9.04250   \n",
       "12          4.72500  99.375  0.90625   7.59875  0.76875   7.06750   \n",
       "8           5.07375  92.500  0.91875   8.40250  0.63375   6.53750   \n",
       "10          4.07375  85.375  0.90125   9.21500  0.67500   7.12750   \n",
       "11          3.78625  84.375  0.90000   9.79250  0.67500   7.14375   \n",
       "9           3.82500  88.125  0.90375  10.60625  0.67500   3.67000   \n",
       "15          1.59375  90.375  0.80500  13.36750  1.22500   7.20250   \n",
       "14          1.66875  88.875  0.88375  18.61875  1.24625   4.69375   \n",
       "\n",
       "         day_feels_like main_weather     snow  rank  invert_rank  \n",
       "city_id                                                           \n",
       "18              6.73375       Clouds  0.00000     1           35  \n",
       "24              9.01875       Clouds  0.00000     2           34  \n",
       "23              8.38500       Clouds  0.00000     3           33  \n",
       "26              7.37625       Clouds  0.00000     4           32  \n",
       "19              6.44500       Clouds  0.00000     5           31  \n",
       "20              6.26250       Clouds  0.00000     6           30  \n",
       "22              7.16500       Clouds  0.00000     7           29  \n",
       "25              8.47750       Clouds  0.00000     8           28  \n",
       "21              6.58000       Clouds  0.00000     9           27  \n",
       "17              3.05750       Clouds  0.00000    10           26  \n",
       "27             12.47375       Clouds  0.00000    11           25  \n",
       "30              9.51500         Rain  0.00000    12           24  \n",
       "33             11.83125         Rain  0.00000    13           23  \n",
       "32             11.32875         Rain  0.00000    14           22  \n",
       "28              9.67250         Rain  0.00000    15           21  \n",
       "31              9.41500         Rain  0.00000    16           20  \n",
       "1               4.64500         Rain  0.00000    17           19  \n",
       "29              5.37625         Rain  0.01750    18           18  \n",
       "0               5.34875         Rain  0.00000    19           17  \n",
       "16              5.59250         Rain  0.00000    20           16  \n",
       "34              4.56125         Rain  0.00000    21           15  \n",
       "2               4.15625         Rain  0.00000    22           14  \n",
       "3               3.16250         Rain  0.00000    23           13  \n",
       "4               4.54750         Rain  0.07750    24           12  \n",
       "5               5.70375         Rain  0.00000    25           11  \n",
       "6               4.15750         Rain  0.00000    26           10  \n",
       "13              2.96125         Rain  0.00000    27            9  \n",
       "7               3.72125         Rain  0.05875    28            8  \n",
       "12              2.62500         Rain  0.18875    29            7  \n",
       "8               1.58875         Rain  0.03500    30            6  \n",
       "10              2.90750         Rain  0.07500    31            5  \n",
       "11              3.12500         Rain  0.07375    32            4  \n",
       "9              -0.55500         Rain  0.14750    33            3  \n",
       "15              4.65000         Rain  0.01625    34            2  \n",
       "14              1.96625         Rain  0.14250    35            1  "
      ]
     },
     "metadata": {},
     "output_type": "display_data"
    }
   ],
   "source": [
    "df_grouped = df_filtered.groupby('city_id').agg({column: 'mean' \n",
    "                                                 if column not in ['day_light_duration', 'main_weather'] \n",
    "                                                 else lambda x:x.value_counts().index[0] \n",
    "                                                 for column in df_filtered.columns}) \n",
    "\n",
    "df = pd.merge(df_cities[[\"city_name\", \"lat\", \"lon\"]], df_grouped, left_index=True, right_index=True)\n",
    "df['rank'] = (df['rain'] + df['snow']).rank(method='min').astype(int)\n",
    "df['invert_rank'] = (df['rain'] + df['snow']).rank(method='min', ascending=False).astype(int)\n",
    "df.sort_values(['rain', 'snow', 'clouds', 'uvi', 'day_feels_like', 'day_temp'], ascending=[True, True, True, False, False, False], inplace=True)\n",
    "display(df)"
   ]
  },
  {
   "cell_type": "code",
   "execution_count": 18,
   "metadata": {},
   "outputs": [
    {
     "data": {
      "application/vnd.plotly.v1+json": {
       "config": {
        "plotlyServerURL": "https://plot.ly"
       },
       "data": [
        {
         "customdata": [
          [
           1,
           "Clouds",
           6.733749999999999,
           0,
           0
          ],
          [
           2,
           "Clouds",
           9.01875,
           0.03,
           0
          ],
          [
           3,
           "Clouds",
           8.384999999999998,
           0.0375,
           0
          ],
          [
           4,
           "Clouds",
           7.376250000000001,
           0.0475,
           0
          ],
          [
           5,
           "Clouds",
           6.444999999999999,
           0.0575,
           0
          ],
          [
           6,
           "Clouds",
           6.262499999999999,
           0.07375,
           0
          ],
          [
           7,
           "Clouds",
           7.164999999999999,
           0.09,
           0
          ],
          [
           8,
           "Clouds",
           8.477500000000001,
           0.0925,
           0
          ],
          [
           9,
           "Clouds",
           6.580000000000001,
           0.1,
           0
          ],
          [
           10,
           "Clouds",
           3.0575,
           0.125,
           0
          ],
          [
           11,
           "Clouds",
           12.473749999999999,
           0.7237499999999999,
           0
          ],
          [
           12,
           "Rain",
           9.515,
           1.9925000000000002,
           0
          ],
          [
           13,
           "Rain",
           11.83125,
           2.0787500000000003,
           0
          ],
          [
           14,
           "Rain",
           11.328750000000001,
           2.15625,
           0
          ],
          [
           15,
           "Rain",
           9.6725,
           2.21125,
           0
          ],
          [
           16,
           "Rain",
           9.415,
           2.68625,
           0
          ],
          [
           17,
           "Rain",
           4.645,
           2.8537500000000002,
           0
          ],
          [
           18,
           "Rain",
           5.37625,
           3.5612500000000002,
           0.0175
          ],
          [
           19,
           "Rain",
           5.348749999999999,
           3.6224999999999996,
           0
          ],
          [
           20,
           "Rain",
           5.592499999999999,
           3.75125,
           0
          ],
          [
           21,
           "Rain",
           4.561249999999999,
           3.82875,
           0
          ],
          [
           22,
           "Rain",
           4.15625,
           4.075,
           0
          ],
          [
           23,
           "Rain",
           3.1625,
           4.09375,
           0
          ],
          [
           24,
           "Rain",
           4.547499999999999,
           4.22,
           0.0775
          ],
          [
           25,
           "Rain",
           5.703749999999999,
           4.4087499999999995,
           0
          ],
          [
           26,
           "Rain",
           4.1575,
           5.2025,
           0
          ],
          [
           27,
           "Rain",
           2.96125,
           5.66125,
           0
          ],
          [
           28,
           "Rain",
           3.72125,
           6.008749999999999,
           0.05875
          ],
          [
           29,
           "Rain",
           2.625,
           7.59875,
           0.18875
          ],
          [
           30,
           "Rain",
           1.58875,
           8.4025,
           0.035
          ],
          [
           31,
           "Rain",
           2.9074999999999998,
           9.215,
           0.075
          ],
          [
           32,
           "Rain",
           3.125,
           9.7925,
           0.07375
          ],
          [
           33,
           "Rain",
           -0.5550000000000003,
           10.606250000000001,
           0.1475
          ],
          [
           34,
           "Rain",
           4.65,
           13.367500000000001,
           0.01625
          ],
          [
           35,
           "Rain",
           1.96625,
           18.61875,
           0.1425
          ]
         ],
         "hovertemplate": "<b>%{hovertext}</b><br><br>invert_rank=%{marker.size}<br>lat=%{lat}<br>lon=%{lon}<br>rank=%{customdata[0]}<br>main_weather=%{customdata[1]}<br>day_feels_like=%{customdata[2]}<br>rain=%{customdata[3]}<br>snow=%{customdata[4]}<br>day_temp=%{marker.color}<extra></extra>",
         "hovertext": [
          "Bormes les Mimosas",
          "Nimes",
          "Uzes",
          "Saintes Maries de la mer",
          "Cassis",
          "Marseille",
          "Avignon",
          "Aigues Mortes",
          "Aix en Provence",
          "Gorges du Verdon",
          "Collioure",
          "Toulouse",
          "Bayonne",
          "Biarritz",
          "Carcassonne",
          "Montauban",
          "St Malo",
          "Ariege",
          "Mont Saint Michel",
          "Lyon",
          "La Rochelle",
          "Bayeux",
          "Le Havre",
          "Rouen",
          "Paris",
          "Amiens",
          "Dijon",
          "Lille",
          "Besancon",
          "Strasbourg",
          "Colmar",
          "Eguisheim",
          "Chateau du Haut Koenigsbourg",
          "Grenoble",
          "Annecy"
         ],
         "lat": [
          43.1506968,
          43.8374249,
          44.0121279,
          43.4522771,
          43.2140359,
          43.2961743,
          43.9492493,
          43.5658225,
          43.5298424,
          43.7497,
          42.52505,
          43.6044622,
          43.4933379,
          43.471143749999996,
          43.2130358,
          44.0175835,
          48.6454528,
          42.9455368,
          48.6358559,
          45.7578137,
          46.1591126,
          49.2764624,
          49.4938975,
          49.4404591,
          48.8566969,
          49.8941708,
          47.3215806,
          50.6365654,
          47.2380222,
          48.584614,
          48.0777517,
          48.0447968,
          48.249489800000006,
          45.1875602,
          45.8992348
         ],
         "legendgroup": "",
         "lon": [
          6.3419285,
          4.3600687,
          4.4196718,
          4.4287172,
          5.5396318,
          5.3699525,
          4.8059012,
          4.1912837,
          5.4474738,
          6.32859,
          3.0831554,
          1.4442469,
          -1.475099,
          -1.552726590666314,
          2.3491069,
          1.3549991,
          -2.015418,
          1.4065544156065486,
          -1.5126096,
          4.8320114,
          -1.1520434,
          -0.7024738,
          0.1079732,
          1.0939658,
          2.3514616,
          2.2956951,
          5.0414701,
          3.0635282,
          6.0243622,
          7.7507127,
          7.3579641,
          7.3079618,
          7.34429620253195,
          5.7357819,
          6.1288847
         ],
         "marker": {
          "color": [
           13.19875,
           12.63375,
           11.996249999999998,
           12.345,
           12.743749999999999,
           12.31375,
           11.7075,
           12.47125,
           11.29625,
           8.55125,
           14.291250000000002,
           12.56875,
           13.8525,
           13.44375,
           13.08375,
           11.9275,
           10.758750000000001,
           8.008750000000001,
           10.820000000000002,
           8.2075,
           10.496250000000002,
           10.133750000000001,
           9.235,
           9.9775,
           10.038749999999999,
           9.411249999999999,
           7.57875,
           9.0425,
           7.0675,
           6.5375,
           7.1275,
           7.143749999999999,
           3.67,
           7.2025,
           4.69375
          ],
          "coloraxis": "coloraxis",
          "size": [
           35,
           34,
           33,
           32,
           31,
           30,
           29,
           28,
           27,
           26,
           25,
           24,
           23,
           22,
           21,
           20,
           19,
           18,
           17,
           16,
           15,
           14,
           13,
           12,
           11,
           10,
           9,
           8,
           7,
           6,
           5,
           4,
           3,
           2,
           1
          ],
          "sizemode": "area",
          "sizeref": 0.0875
         },
         "mode": "markers",
         "name": "",
         "showlegend": false,
         "subplot": "mapbox",
         "type": "scattermapbox"
        }
       ],
       "layout": {
        "autosize": true,
        "coloraxis": {
         "colorbar": {
          "title": {
           "text": "day_temp"
          }
         },
         "colorscale": [
          [
           0,
           "rgb(0,0,255)"
          ],
          [
           1,
           "rgb(255,0,0)"
          ]
         ]
        },
        "legend": {
         "itemsizing": "constant",
         "tracegroupgap": 0
        },
        "mapbox": {
         "bearing": 0,
         "center": {
          "lat": 45.99307268491634,
          "lon": 2.906683789001818
         },
         "domain": {
          "x": [
           0,
           1
          ],
          "y": [
           0,
           1
          ]
         },
         "pitch": 0,
         "style": "carto-positron",
         "zoom": 4.000000000000001
        },
        "margin": {
         "t": 60
        },
        "template": {
         "data": {
          "bar": [
           {
            "error_x": {
             "color": "#2a3f5f"
            },
            "error_y": {
             "color": "#2a3f5f"
            },
            "marker": {
             "line": {
              "color": "#E5ECF6",
              "width": 0.5
             }
            },
            "type": "bar"
           }
          ],
          "barpolar": [
           {
            "marker": {
             "line": {
              "color": "#E5ECF6",
              "width": 0.5
             }
            },
            "type": "barpolar"
           }
          ],
          "carpet": [
           {
            "aaxis": {
             "endlinecolor": "#2a3f5f",
             "gridcolor": "white",
             "linecolor": "white",
             "minorgridcolor": "white",
             "startlinecolor": "#2a3f5f"
            },
            "baxis": {
             "endlinecolor": "#2a3f5f",
             "gridcolor": "white",
             "linecolor": "white",
             "minorgridcolor": "white",
             "startlinecolor": "#2a3f5f"
            },
            "type": "carpet"
           }
          ],
          "choropleth": [
           {
            "colorbar": {
             "outlinewidth": 0,
             "ticks": ""
            },
            "type": "choropleth"
           }
          ],
          "contour": [
           {
            "colorbar": {
             "outlinewidth": 0,
             "ticks": ""
            },
            "colorscale": [
             [
              0,
              "#0d0887"
             ],
             [
              0.1111111111111111,
              "#46039f"
             ],
             [
              0.2222222222222222,
              "#7201a8"
             ],
             [
              0.3333333333333333,
              "#9c179e"
             ],
             [
              0.4444444444444444,
              "#bd3786"
             ],
             [
              0.5555555555555556,
              "#d8576b"
             ],
             [
              0.6666666666666666,
              "#ed7953"
             ],
             [
              0.7777777777777778,
              "#fb9f3a"
             ],
             [
              0.8888888888888888,
              "#fdca26"
             ],
             [
              1,
              "#f0f921"
             ]
            ],
            "type": "contour"
           }
          ],
          "contourcarpet": [
           {
            "colorbar": {
             "outlinewidth": 0,
             "ticks": ""
            },
            "type": "contourcarpet"
           }
          ],
          "heatmap": [
           {
            "colorbar": {
             "outlinewidth": 0,
             "ticks": ""
            },
            "colorscale": [
             [
              0,
              "#0d0887"
             ],
             [
              0.1111111111111111,
              "#46039f"
             ],
             [
              0.2222222222222222,
              "#7201a8"
             ],
             [
              0.3333333333333333,
              "#9c179e"
             ],
             [
              0.4444444444444444,
              "#bd3786"
             ],
             [
              0.5555555555555556,
              "#d8576b"
             ],
             [
              0.6666666666666666,
              "#ed7953"
             ],
             [
              0.7777777777777778,
              "#fb9f3a"
             ],
             [
              0.8888888888888888,
              "#fdca26"
             ],
             [
              1,
              "#f0f921"
             ]
            ],
            "type": "heatmap"
           }
          ],
          "heatmapgl": [
           {
            "colorbar": {
             "outlinewidth": 0,
             "ticks": ""
            },
            "colorscale": [
             [
              0,
              "#0d0887"
             ],
             [
              0.1111111111111111,
              "#46039f"
             ],
             [
              0.2222222222222222,
              "#7201a8"
             ],
             [
              0.3333333333333333,
              "#9c179e"
             ],
             [
              0.4444444444444444,
              "#bd3786"
             ],
             [
              0.5555555555555556,
              "#d8576b"
             ],
             [
              0.6666666666666666,
              "#ed7953"
             ],
             [
              0.7777777777777778,
              "#fb9f3a"
             ],
             [
              0.8888888888888888,
              "#fdca26"
             ],
             [
              1,
              "#f0f921"
             ]
            ],
            "type": "heatmapgl"
           }
          ],
          "histogram": [
           {
            "marker": {
             "colorbar": {
              "outlinewidth": 0,
              "ticks": ""
             }
            },
            "type": "histogram"
           }
          ],
          "histogram2d": [
           {
            "colorbar": {
             "outlinewidth": 0,
             "ticks": ""
            },
            "colorscale": [
             [
              0,
              "#0d0887"
             ],
             [
              0.1111111111111111,
              "#46039f"
             ],
             [
              0.2222222222222222,
              "#7201a8"
             ],
             [
              0.3333333333333333,
              "#9c179e"
             ],
             [
              0.4444444444444444,
              "#bd3786"
             ],
             [
              0.5555555555555556,
              "#d8576b"
             ],
             [
              0.6666666666666666,
              "#ed7953"
             ],
             [
              0.7777777777777778,
              "#fb9f3a"
             ],
             [
              0.8888888888888888,
              "#fdca26"
             ],
             [
              1,
              "#f0f921"
             ]
            ],
            "type": "histogram2d"
           }
          ],
          "histogram2dcontour": [
           {
            "colorbar": {
             "outlinewidth": 0,
             "ticks": ""
            },
            "colorscale": [
             [
              0,
              "#0d0887"
             ],
             [
              0.1111111111111111,
              "#46039f"
             ],
             [
              0.2222222222222222,
              "#7201a8"
             ],
             [
              0.3333333333333333,
              "#9c179e"
             ],
             [
              0.4444444444444444,
              "#bd3786"
             ],
             [
              0.5555555555555556,
              "#d8576b"
             ],
             [
              0.6666666666666666,
              "#ed7953"
             ],
             [
              0.7777777777777778,
              "#fb9f3a"
             ],
             [
              0.8888888888888888,
              "#fdca26"
             ],
             [
              1,
              "#f0f921"
             ]
            ],
            "type": "histogram2dcontour"
           }
          ],
          "mesh3d": [
           {
            "colorbar": {
             "outlinewidth": 0,
             "ticks": ""
            },
            "type": "mesh3d"
           }
          ],
          "parcoords": [
           {
            "line": {
             "colorbar": {
              "outlinewidth": 0,
              "ticks": ""
             }
            },
            "type": "parcoords"
           }
          ],
          "pie": [
           {
            "automargin": true,
            "type": "pie"
           }
          ],
          "scatter": [
           {
            "marker": {
             "colorbar": {
              "outlinewidth": 0,
              "ticks": ""
             }
            },
            "type": "scatter"
           }
          ],
          "scatter3d": [
           {
            "line": {
             "colorbar": {
              "outlinewidth": 0,
              "ticks": ""
             }
            },
            "marker": {
             "colorbar": {
              "outlinewidth": 0,
              "ticks": ""
             }
            },
            "type": "scatter3d"
           }
          ],
          "scattercarpet": [
           {
            "marker": {
             "colorbar": {
              "outlinewidth": 0,
              "ticks": ""
             }
            },
            "type": "scattercarpet"
           }
          ],
          "scattergeo": [
           {
            "marker": {
             "colorbar": {
              "outlinewidth": 0,
              "ticks": ""
             }
            },
            "type": "scattergeo"
           }
          ],
          "scattergl": [
           {
            "marker": {
             "colorbar": {
              "outlinewidth": 0,
              "ticks": ""
             }
            },
            "type": "scattergl"
           }
          ],
          "scattermapbox": [
           {
            "marker": {
             "colorbar": {
              "outlinewidth": 0,
              "ticks": ""
             }
            },
            "type": "scattermapbox"
           }
          ],
          "scatterpolar": [
           {
            "marker": {
             "colorbar": {
              "outlinewidth": 0,
              "ticks": ""
             }
            },
            "type": "scatterpolar"
           }
          ],
          "scatterpolargl": [
           {
            "marker": {
             "colorbar": {
              "outlinewidth": 0,
              "ticks": ""
             }
            },
            "type": "scatterpolargl"
           }
          ],
          "scatterternary": [
           {
            "marker": {
             "colorbar": {
              "outlinewidth": 0,
              "ticks": ""
             }
            },
            "type": "scatterternary"
           }
          ],
          "surface": [
           {
            "colorbar": {
             "outlinewidth": 0,
             "ticks": ""
            },
            "colorscale": [
             [
              0,
              "#0d0887"
             ],
             [
              0.1111111111111111,
              "#46039f"
             ],
             [
              0.2222222222222222,
              "#7201a8"
             ],
             [
              0.3333333333333333,
              "#9c179e"
             ],
             [
              0.4444444444444444,
              "#bd3786"
             ],
             [
              0.5555555555555556,
              "#d8576b"
             ],
             [
              0.6666666666666666,
              "#ed7953"
             ],
             [
              0.7777777777777778,
              "#fb9f3a"
             ],
             [
              0.8888888888888888,
              "#fdca26"
             ],
             [
              1,
              "#f0f921"
             ]
            ],
            "type": "surface"
           }
          ],
          "table": [
           {
            "cells": {
             "fill": {
              "color": "#EBF0F8"
             },
             "line": {
              "color": "white"
             }
            },
            "header": {
             "fill": {
              "color": "#C8D4E3"
             },
             "line": {
              "color": "white"
             }
            },
            "type": "table"
           }
          ]
         },
         "layout": {
          "annotationdefaults": {
           "arrowcolor": "#2a3f5f",
           "arrowhead": 0,
           "arrowwidth": 1
          },
          "coloraxis": {
           "colorbar": {
            "outlinewidth": 0,
            "ticks": ""
           }
          },
          "colorscale": {
           "diverging": [
            [
             0,
             "#8e0152"
            ],
            [
             0.1,
             "#c51b7d"
            ],
            [
             0.2,
             "#de77ae"
            ],
            [
             0.3,
             "#f1b6da"
            ],
            [
             0.4,
             "#fde0ef"
            ],
            [
             0.5,
             "#f7f7f7"
            ],
            [
             0.6,
             "#e6f5d0"
            ],
            [
             0.7,
             "#b8e186"
            ],
            [
             0.8,
             "#7fbc41"
            ],
            [
             0.9,
             "#4d9221"
            ],
            [
             1,
             "#276419"
            ]
           ],
           "sequential": [
            [
             0,
             "#0d0887"
            ],
            [
             0.1111111111111111,
             "#46039f"
            ],
            [
             0.2222222222222222,
             "#7201a8"
            ],
            [
             0.3333333333333333,
             "#9c179e"
            ],
            [
             0.4444444444444444,
             "#bd3786"
            ],
            [
             0.5555555555555556,
             "#d8576b"
            ],
            [
             0.6666666666666666,
             "#ed7953"
            ],
            [
             0.7777777777777778,
             "#fb9f3a"
            ],
            [
             0.8888888888888888,
             "#fdca26"
            ],
            [
             1,
             "#f0f921"
            ]
           ],
           "sequentialminus": [
            [
             0,
             "#0d0887"
            ],
            [
             0.1111111111111111,
             "#46039f"
            ],
            [
             0.2222222222222222,
             "#7201a8"
            ],
            [
             0.3333333333333333,
             "#9c179e"
            ],
            [
             0.4444444444444444,
             "#bd3786"
            ],
            [
             0.5555555555555556,
             "#d8576b"
            ],
            [
             0.6666666666666666,
             "#ed7953"
            ],
            [
             0.7777777777777778,
             "#fb9f3a"
            ],
            [
             0.8888888888888888,
             "#fdca26"
            ],
            [
             1,
             "#f0f921"
            ]
           ]
          },
          "colorway": [
           "#636efa",
           "#EF553B",
           "#00cc96",
           "#ab63fa",
           "#FFA15A",
           "#19d3f3",
           "#FF6692",
           "#B6E880",
           "#FF97FF",
           "#FECB52"
          ],
          "font": {
           "color": "#2a3f5f"
          },
          "geo": {
           "bgcolor": "white",
           "lakecolor": "white",
           "landcolor": "#E5ECF6",
           "showlakes": true,
           "showland": true,
           "subunitcolor": "white"
          },
          "hoverlabel": {
           "align": "left"
          },
          "hovermode": "closest",
          "mapbox": {
           "style": "light"
          },
          "paper_bgcolor": "white",
          "plot_bgcolor": "#E5ECF6",
          "polar": {
           "angularaxis": {
            "gridcolor": "white",
            "linecolor": "white",
            "ticks": ""
           },
           "bgcolor": "#E5ECF6",
           "radialaxis": {
            "gridcolor": "white",
            "linecolor": "white",
            "ticks": ""
           }
          },
          "scene": {
           "xaxis": {
            "backgroundcolor": "#E5ECF6",
            "gridcolor": "white",
            "gridwidth": 2,
            "linecolor": "white",
            "showbackground": true,
            "ticks": "",
            "zerolinecolor": "white"
           },
           "yaxis": {
            "backgroundcolor": "#E5ECF6",
            "gridcolor": "white",
            "gridwidth": 2,
            "linecolor": "white",
            "showbackground": true,
            "ticks": "",
            "zerolinecolor": "white"
           },
           "zaxis": {
            "backgroundcolor": "#E5ECF6",
            "gridcolor": "white",
            "gridwidth": 2,
            "linecolor": "white",
            "showbackground": true,
            "ticks": "",
            "zerolinecolor": "white"
           }
          },
          "shapedefaults": {
           "line": {
            "color": "#2a3f5f"
           }
          },
          "ternary": {
           "aaxis": {
            "gridcolor": "white",
            "linecolor": "white",
            "ticks": ""
           },
           "baxis": {
            "gridcolor": "white",
            "linecolor": "white",
            "ticks": ""
           },
           "bgcolor": "#E5ECF6",
           "caxis": {
            "gridcolor": "white",
            "linecolor": "white",
            "ticks": ""
           }
          },
          "title": {
           "x": 0.05
          },
          "xaxis": {
           "automargin": true,
           "gridcolor": "white",
           "linecolor": "white",
           "ticks": "",
           "title": {
            "standoff": 15
           },
           "zerolinecolor": "white",
           "zerolinewidth": 2
          },
          "yaxis": {
           "automargin": true,
           "gridcolor": "white",
           "linecolor": "white",
           "ticks": "",
           "title": {
            "standoff": 15
           },
           "zerolinecolor": "white",
           "zerolinewidth": 2
          }
         }
        }
       }
      },
      "image/png": "[encoded data removed]",
      "text/html": [
       "<div>\n",
       "        \n",
       "        \n",
       "            <div id=\"46731864-48bd-4e93-8214-4764da3ac37e\" class=\"plotly-graph-div\" style=\"height:525px; width:100%;\"></div>\n",
       "            <script type=\"text/javascript\">\n",
       "                require([\"plotly\"], function(Plotly) {\n",
       "                    window.PLOTLYENV=window.PLOTLYENV || {};\n",
       "                    \n",
       "                if (document.getElementById(\"46731864-48bd-4e93-8214-4764da3ac37e\")) {\n",
       "                    Plotly.newPlot(\n",
       "                        '46731864-48bd-4e93-8214-4764da3ac37e',\n",
       "                        [{\"customdata\": [[1, \"Clouds\", 6.733749999999999, 0.0, 0.0], [2, \"Clouds\", 9.01875, 0.03, 0.0], [3, \"Clouds\", 8.384999999999998, 0.0375, 0.0], [4, \"Clouds\", 7.376250000000001, 0.0475, 0.0], [5, \"Clouds\", 6.444999999999999, 0.0575, 0.0], [6, \"Clouds\", 6.262499999999999, 0.07375, 0.0], [7, \"Clouds\", 7.164999999999999, 0.09, 0.0], [8, \"Clouds\", 8.477500000000001, 0.0925, 0.0], [9, \"Clouds\", 6.580000000000001, 0.1, 0.0], [10, \"Clouds\", 3.0575, 0.125, 0.0], [11, \"Clouds\", 12.473749999999999, 0.7237499999999999, 0.0], [12, \"Rain\", 9.515, 1.9925000000000002, 0.0], [13, \"Rain\", 11.83125, 2.0787500000000003, 0.0], [14, \"Rain\", 11.328750000000001, 2.15625, 0.0], [15, \"Rain\", 9.6725, 2.21125, 0.0], [16, \"Rain\", 9.415, 2.68625, 0.0], [17, \"Rain\", 4.645, 2.8537500000000002, 0.0], [18, \"Rain\", 5.37625, 3.5612500000000002, 0.0175], [19, \"Rain\", 5.348749999999999, 3.6224999999999996, 0.0], [20, \"Rain\", 5.592499999999999, 3.75125, 0.0], [21, \"Rain\", 4.561249999999999, 3.82875, 0.0], [22, \"Rain\", 4.15625, 4.075, 0.0], [23, \"Rain\", 3.1625, 4.09375, 0.0], [24, \"Rain\", 4.547499999999999, 4.22, 0.0775], [25, \"Rain\", 5.703749999999999, 4.4087499999999995, 0.0], [26, \"Rain\", 4.1575, 5.2025, 0.0], [27, \"Rain\", 2.96125, 5.66125, 0.0], [28, \"Rain\", 3.72125, 6.008749999999999, 0.05875], [29, \"Rain\", 2.625, 7.59875, 0.18875], [30, \"Rain\", 1.58875, 8.4025, 0.035], [31, \"Rain\", 2.9074999999999998, 9.215, 0.075], [32, \"Rain\", 3.125, 9.7925, 0.07375], [33, \"Rain\", -0.5550000000000003, 10.606250000000001, 0.1475], [34, \"Rain\", 4.65, 13.367500000000001, 0.01625], [35, \"Rain\", 1.96625, 18.61875, 0.1425]], \"hovertemplate\": \"<b>%{hovertext}</b><br><br>invert_rank=%{marker.size}<br>lat=%{lat}<br>lon=%{lon}<br>rank=%{customdata[0]}<br>main_weather=%{customdata[1]}<br>day_feels_like=%{customdata[2]}<br>rain=%{customdata[3]}<br>snow=%{customdata[4]}<br>day_temp=%{marker.color}<extra></extra>\", \"hovertext\": [\"Bormes les Mimosas\", \"Nimes\", \"Uzes\", \"Saintes Maries de la mer\", \"Cassis\", \"Marseille\", \"Avignon\", \"Aigues Mortes\", \"Aix en Provence\", \"Gorges du Verdon\", \"Collioure\", \"Toulouse\", \"Bayonne\", \"Biarritz\", \"Carcassonne\", \"Montauban\", \"St Malo\", \"Ariege\", \"Mont Saint Michel\", \"Lyon\", \"La Rochelle\", \"Bayeux\", \"Le Havre\", \"Rouen\", \"Paris\", \"Amiens\", \"Dijon\", \"Lille\", \"Besancon\", \"Strasbourg\", \"Colmar\", \"Eguisheim\", \"Chateau du Haut Koenigsbourg\", \"Grenoble\", \"Annecy\"], \"lat\": [43.1506968, 43.8374249, 44.0121279, 43.4522771, 43.2140359, 43.2961743, 43.9492493, 43.5658225, 43.5298424, 43.7497, 42.52505, 43.6044622, 43.4933379, 43.471143749999996, 43.2130358, 44.0175835, 48.6454528, 42.9455368, 48.6358559, 45.7578137, 46.1591126, 49.2764624, 49.4938975, 49.4404591, 48.8566969, 49.8941708, 47.3215806, 50.6365654, 47.2380222, 48.584614, 48.0777517, 48.0447968, 48.249489800000006, 45.1875602, 45.8992348], \"legendgroup\": \"\", \"lon\": [6.3419285, 4.3600687, 4.4196718, 4.4287172, 5.5396318, 5.3699525, 4.8059012, 4.1912837, 5.4474738, 6.32859, 3.0831554, 1.4442469, -1.475099, -1.552726590666314, 2.3491069, 1.3549991, -2.015418, 1.4065544156065486, -1.5126096, 4.8320114, -1.1520434, -0.7024738, 0.1079732, 1.0939658, 2.3514616, 2.2956951, 5.0414701, 3.0635282, 6.0243622, 7.7507127, 7.3579641, 7.3079618, 7.34429620253195, 5.7357819, 6.1288847], \"marker\": {\"color\": [13.19875, 12.63375, 11.996249999999998, 12.345, 12.743749999999999, 12.31375, 11.7075, 12.47125, 11.29625, 8.55125, 14.291250000000002, 12.56875, 13.8525, 13.44375, 13.08375, 11.9275, 10.758750000000001, 8.008750000000001, 10.820000000000002, 8.2075, 10.496250000000002, 10.133750000000001, 9.235, 9.9775, 10.038749999999999, 9.411249999999999, 7.57875, 9.0425, 7.0675, 6.5375, 7.1275, 7.143749999999999, 3.67, 7.2025, 4.69375], \"coloraxis\": \"coloraxis\", \"size\": [35, 34, 33, 32, 31, 30, 29, 28, 27, 26, 25, 24, 23, 22, 21, 20, 19, 18, 17, 16, 15, 14, 13, 12, 11, 10, 9, 8, 7, 6, 5, 4, 3, 2, 1], \"sizemode\": \"area\", \"sizeref\": 0.0875}, \"mode\": \"markers\", \"name\": \"\", \"showlegend\": false, \"subplot\": \"mapbox\", \"type\": \"scattermapbox\"}],\n",
       "                        {\"coloraxis\": {\"colorbar\": {\"title\": {\"text\": \"day_temp\"}}, \"colorscale\": [[0.0, \"rgb(0,0,255)\"], [1.0, \"rgb(255,0,0)\"]]}, \"legend\": {\"itemsizing\": \"constant\", \"tracegroupgap\": 0}, \"mapbox\": {\"center\": {\"lat\": 45.84077252142858, \"lon\": 3.397056586499206}, \"domain\": {\"x\": [0.0, 1.0], \"y\": [0.0, 1.0]}, \"style\": \"carto-positron\", \"zoom\": 4}, \"margin\": {\"t\": 60}, \"template\": {\"data\": {\"bar\": [{\"error_x\": {\"color\": \"#2a3f5f\"}, \"error_y\": {\"color\": \"#2a3f5f\"}, \"marker\": {\"line\": {\"color\": \"#E5ECF6\", \"width\": 0.5}}, \"type\": \"bar\"}], \"barpolar\": [{\"marker\": {\"line\": {\"color\": \"#E5ECF6\", \"width\": 0.5}}, \"type\": \"barpolar\"}], \"carpet\": [{\"aaxis\": {\"endlinecolor\": \"#2a3f5f\", \"gridcolor\": \"white\", \"linecolor\": \"white\", \"minorgridcolor\": \"white\", \"startlinecolor\": \"#2a3f5f\"}, \"baxis\": {\"endlinecolor\": \"#2a3f5f\", \"gridcolor\": \"white\", \"linecolor\": \"white\", \"minorgridcolor\": \"white\", \"startlinecolor\": \"#2a3f5f\"}, \"type\": \"carpet\"}], \"choropleth\": [{\"colorbar\": {\"outlinewidth\": 0, \"ticks\": \"\"}, \"type\": \"choropleth\"}], \"contour\": [{\"colorbar\": {\"outlinewidth\": 0, \"ticks\": \"\"}, \"colorscale\": [[0.0, \"#0d0887\"], [0.1111111111111111, \"#46039f\"], [0.2222222222222222, \"#7201a8\"], [0.3333333333333333, \"#9c179e\"], [0.4444444444444444, \"#bd3786\"], [0.5555555555555556, \"#d8576b\"], [0.6666666666666666, \"#ed7953\"], [0.7777777777777778, \"#fb9f3a\"], [0.8888888888888888, \"#fdca26\"], [1.0, \"#f0f921\"]], \"type\": \"contour\"}], \"contourcarpet\": [{\"colorbar\": {\"outlinewidth\": 0, \"ticks\": \"\"}, \"type\": \"contourcarpet\"}], \"heatmap\": [{\"colorbar\": {\"outlinewidth\": 0, \"ticks\": \"\"}, \"colorscale\": [[0.0, \"#0d0887\"], [0.1111111111111111, \"#46039f\"], [0.2222222222222222, \"#7201a8\"], [0.3333333333333333, \"#9c179e\"], [0.4444444444444444, \"#bd3786\"], [0.5555555555555556, \"#d8576b\"], [0.6666666666666666, \"#ed7953\"], [0.7777777777777778, \"#fb9f3a\"], [0.8888888888888888, \"#fdca26\"], [1.0, \"#f0f921\"]], \"type\": \"heatmap\"}], \"heatmapgl\": [{\"colorbar\": {\"outlinewidth\": 0, \"ticks\": \"\"}, \"colorscale\": [[0.0, \"#0d0887\"], [0.1111111111111111, \"#46039f\"], [0.2222222222222222, \"#7201a8\"], [0.3333333333333333, \"#9c179e\"], [0.4444444444444444, \"#bd3786\"], [0.5555555555555556, \"#d8576b\"], [0.6666666666666666, \"#ed7953\"], [0.7777777777777778, \"#fb9f3a\"], [0.8888888888888888, \"#fdca26\"], [1.0, \"#f0f921\"]], \"type\": \"heatmapgl\"}], \"histogram\": [{\"marker\": {\"colorbar\": {\"outlinewidth\": 0, \"ticks\": \"\"}}, \"type\": \"histogram\"}], \"histogram2d\": [{\"colorbar\": {\"outlinewidth\": 0, \"ticks\": \"\"}, \"colorscale\": [[0.0, \"#0d0887\"], [0.1111111111111111, \"#46039f\"], [0.2222222222222222, \"#7201a8\"], [0.3333333333333333, \"#9c179e\"], [0.4444444444444444, \"#bd3786\"], [0.5555555555555556, \"#d8576b\"], [0.6666666666666666, \"#ed7953\"], [0.7777777777777778, \"#fb9f3a\"], [0.8888888888888888, \"#fdca26\"], [1.0, \"#f0f921\"]], \"type\": \"histogram2d\"}], \"histogram2dcontour\": [{\"colorbar\": {\"outlinewidth\": 0, \"ticks\": \"\"}, \"colorscale\": [[0.0, \"#0d0887\"], [0.1111111111111111, \"#46039f\"], [0.2222222222222222, \"#7201a8\"], [0.3333333333333333, \"#9c179e\"], [0.4444444444444444, \"#bd3786\"], [0.5555555555555556, \"#d8576b\"], [0.6666666666666666, \"#ed7953\"], [0.7777777777777778, \"#fb9f3a\"], [0.8888888888888888, \"#fdca26\"], [1.0, \"#f0f921\"]], \"type\": \"histogram2dcontour\"}], \"mesh3d\": [{\"colorbar\": {\"outlinewidth\": 0, \"ticks\": \"\"}, \"type\": \"mesh3d\"}], \"parcoords\": [{\"line\": {\"colorbar\": {\"outlinewidth\": 0, \"ticks\": \"\"}}, \"type\": \"parcoords\"}], \"pie\": [{\"automargin\": true, \"type\": \"pie\"}], \"scatter\": [{\"marker\": {\"colorbar\": {\"outlinewidth\": 0, \"ticks\": \"\"}}, \"type\": \"scatter\"}], \"scatter3d\": [{\"line\": {\"colorbar\": {\"outlinewidth\": 0, \"ticks\": \"\"}}, \"marker\": {\"colorbar\": {\"outlinewidth\": 0, \"ticks\": \"\"}}, \"type\": \"scatter3d\"}], \"scattercarpet\": [{\"marker\": {\"colorbar\": {\"outlinewidth\": 0, \"ticks\": \"\"}}, \"type\": \"scattercarpet\"}], \"scattergeo\": [{\"marker\": {\"colorbar\": {\"outlinewidth\": 0, \"ticks\": \"\"}}, \"type\": \"scattergeo\"}], \"scattergl\": [{\"marker\": {\"colorbar\": {\"outlinewidth\": 0, \"ticks\": \"\"}}, \"type\": \"scattergl\"}], \"scattermapbox\": [{\"marker\": {\"colorbar\": {\"outlinewidth\": 0, \"ticks\": \"\"}}, \"type\": \"scattermapbox\"}], \"scatterpolar\": [{\"marker\": {\"colorbar\": {\"outlinewidth\": 0, \"ticks\": \"\"}}, \"type\": \"scatterpolar\"}], \"scatterpolargl\": [{\"marker\": {\"colorbar\": {\"outlinewidth\": 0, \"ticks\": \"\"}}, \"type\": \"scatterpolargl\"}], \"scatterternary\": [{\"marker\": {\"colorbar\": {\"outlinewidth\": 0, \"ticks\": \"\"}}, \"type\": \"scatterternary\"}], \"surface\": [{\"colorbar\": {\"outlinewidth\": 0, \"ticks\": \"\"}, \"colorscale\": [[0.0, \"#0d0887\"], [0.1111111111111111, \"#46039f\"], [0.2222222222222222, \"#7201a8\"], [0.3333333333333333, \"#9c179e\"], [0.4444444444444444, \"#bd3786\"], [0.5555555555555556, \"#d8576b\"], [0.6666666666666666, \"#ed7953\"], [0.7777777777777778, \"#fb9f3a\"], [0.8888888888888888, \"#fdca26\"], [1.0, \"#f0f921\"]], \"type\": \"surface\"}], \"table\": [{\"cells\": {\"fill\": {\"color\": \"#EBF0F8\"}, \"line\": {\"color\": \"white\"}}, \"header\": {\"fill\": {\"color\": \"#C8D4E3\"}, \"line\": {\"color\": \"white\"}}, \"type\": \"table\"}]}, \"layout\": {\"annotationdefaults\": {\"arrowcolor\": \"#2a3f5f\", \"arrowhead\": 0, \"arrowwidth\": 1}, \"coloraxis\": {\"colorbar\": {\"outlinewidth\": 0, \"ticks\": \"\"}}, \"colorscale\": {\"diverging\": [[0, \"#8e0152\"], [0.1, \"#c51b7d\"], [0.2, \"#de77ae\"], [0.3, \"#f1b6da\"], [0.4, \"#fde0ef\"], [0.5, \"#f7f7f7\"], [0.6, \"#e6f5d0\"], [0.7, \"#b8e186\"], [0.8, \"#7fbc41\"], [0.9, \"#4d9221\"], [1, \"#276419\"]], \"sequential\": [[0.0, \"#0d0887\"], [0.1111111111111111, \"#46039f\"], [0.2222222222222222, \"#7201a8\"], [0.3333333333333333, \"#9c179e\"], [0.4444444444444444, \"#bd3786\"], [0.5555555555555556, \"#d8576b\"], [0.6666666666666666, \"#ed7953\"], [0.7777777777777778, \"#fb9f3a\"], [0.8888888888888888, \"#fdca26\"], [1.0, \"#f0f921\"]], \"sequentialminus\": [[0.0, \"#0d0887\"], [0.1111111111111111, \"#46039f\"], [0.2222222222222222, \"#7201a8\"], [0.3333333333333333, \"#9c179e\"], [0.4444444444444444, \"#bd3786\"], [0.5555555555555556, \"#d8576b\"], [0.6666666666666666, \"#ed7953\"], [0.7777777777777778, \"#fb9f3a\"], [0.8888888888888888, \"#fdca26\"], [1.0, \"#f0f921\"]]}, \"colorway\": [\"#636efa\", \"#EF553B\", \"#00cc96\", \"#ab63fa\", \"#FFA15A\", \"#19d3f3\", \"#FF6692\", \"#B6E880\", \"#FF97FF\", \"#FECB52\"], \"font\": {\"color\": \"#2a3f5f\"}, \"geo\": {\"bgcolor\": \"white\", \"lakecolor\": \"white\", \"landcolor\": \"#E5ECF6\", \"showlakes\": true, \"showland\": true, \"subunitcolor\": \"white\"}, \"hoverlabel\": {\"align\": \"left\"}, \"hovermode\": \"closest\", \"mapbox\": {\"style\": \"light\"}, \"paper_bgcolor\": \"white\", \"plot_bgcolor\": \"#E5ECF6\", \"polar\": {\"angularaxis\": {\"gridcolor\": \"white\", \"linecolor\": \"white\", \"ticks\": \"\"}, \"bgcolor\": \"#E5ECF6\", \"radialaxis\": {\"gridcolor\": \"white\", \"linecolor\": \"white\", \"ticks\": \"\"}}, \"scene\": {\"xaxis\": {\"backgroundcolor\": \"#E5ECF6\", \"gridcolor\": \"white\", \"gridwidth\": 2, \"linecolor\": \"white\", \"showbackground\": true, \"ticks\": \"\", \"zerolinecolor\": \"white\"}, \"yaxis\": {\"backgroundcolor\": \"#E5ECF6\", \"gridcolor\": \"white\", \"gridwidth\": 2, \"linecolor\": \"white\", \"showbackground\": true, \"ticks\": \"\", \"zerolinecolor\": \"white\"}, \"zaxis\": {\"backgroundcolor\": \"#E5ECF6\", \"gridcolor\": \"white\", \"gridwidth\": 2, \"linecolor\": \"white\", \"showbackground\": true, \"ticks\": \"\", \"zerolinecolor\": \"white\"}}, \"shapedefaults\": {\"line\": {\"color\": \"#2a3f5f\"}}, \"ternary\": {\"aaxis\": {\"gridcolor\": \"white\", \"linecolor\": \"white\", \"ticks\": \"\"}, \"baxis\": {\"gridcolor\": \"white\", \"linecolor\": \"white\", \"ticks\": \"\"}, \"bgcolor\": \"#E5ECF6\", \"caxis\": {\"gridcolor\": \"white\", \"linecolor\": \"white\", \"ticks\": \"\"}}, \"title\": {\"x\": 0.05}, \"xaxis\": {\"automargin\": true, \"gridcolor\": \"white\", \"linecolor\": \"white\", \"ticks\": \"\", \"title\": {\"standoff\": 15}, \"zerolinecolor\": \"white\", \"zerolinewidth\": 2}, \"yaxis\": {\"automargin\": true, \"gridcolor\": \"white\", \"linecolor\": \"white\", \"ticks\": \"\", \"title\": {\"standoff\": 15}, \"zerolinecolor\": \"white\", \"zerolinewidth\": 2}}}},\n",
       "                        {\"responsive\": true}\n",
       "                    ).then(function(){\n",
       "                            \n",
       "var gd = document.getElementById('46731864-48bd-4e93-8214-4764da3ac37e');\n",
       "var x = new MutationObserver(function (mutations, observer) {{\n",
       "        var display = window.getComputedStyle(gd).display;\n",
       "        if (!display || display === 'none') {{\n",
       "            console.log([gd, 'removed!']);\n",
       "            Plotly.purge(gd);\n",
       "            observer.disconnect();\n",
       "        }}\n",
       "}});\n",
       "\n",
       "// Listen for the removal of the full notebook cells\n",
       "var notebookContainer = gd.closest('#notebook-container');\n",
       "if (notebookContainer) {{\n",
       "    x.observe(notebookContainer, {childList: true});\n",
       "}}\n",
       "\n",
       "// Listen for the clearing of the current output cell\n",
       "var outputEl = gd.closest('.output');\n",
       "if (outputEl) {{\n",
       "    x.observe(outputEl, {childList: true});\n",
       "}}\n",
       "\n",
       "                        })\n",
       "                };\n",
       "                });\n",
       "            </script>\n",
       "        </div>"
      ]
     },
     "metadata": {},
     "output_type": "display_data"
    }
   ],
   "source": [
    "import plotly.express as px\n",
    "\n",
    "fig = px.scatter_mapbox(df, \n",
    "                        lat=\"lat\", \n",
    "                        lon=\"lon\", \n",
    "                        hover_name = 'city_name', \n",
    "                        zoom = 4,\n",
    "                        hover_data=[\"rank\", \"main_weather\", \"day_feels_like\", \"rain\", \"snow\"],\n",
    "                        color = 'day_temp', \n",
    "                        color_continuous_scale = 'Bluered', \n",
    "                        size = 'invert_rank',\n",
    "                        mapbox_style=\"carto-positron\")\n",
    "fig.show()"
   ]
  },
  {
   "cell_type": "code",
   "execution_count": 19,
   "metadata": {},
   "outputs": [
    {
     "name": "stdout",
     "output_type": "stream",
     "text": [
      "Requirement already satisfied: Scrapy in /opt/conda/lib/python3.8/site-packages (2.4.1)\n",
      "Requirement already satisfied: zope.interface>=4.1.3 in /opt/conda/lib/python3.8/site-packages (from Scrapy) (5.2.0)\n",
      "Requirement already satisfied: PyDispatcher>=2.0.5 in /opt/conda/lib/python3.8/site-packages (from Scrapy) (2.0.5)\n",
      "Requirement already satisfied: cryptography>=2.0 in /opt/conda/lib/python3.8/site-packages (from Scrapy) (3.1.1)\n",
      "Requirement already satisfied: cssselect>=0.9.1 in /opt/conda/lib/python3.8/site-packages (from Scrapy) (1.1.0)\n",
      "Requirement already satisfied: queuelib>=1.4.2 in /opt/conda/lib/python3.8/site-packages (from Scrapy) (1.5.0)\n",
      "Requirement already satisfied: parsel>=1.5.0 in /opt/conda/lib/python3.8/site-packages (from Scrapy) (1.6.0)\n",
      "Requirement already satisfied: Twisted>=17.9.0 in /opt/conda/lib/python3.8/site-packages (from Scrapy) (20.3.0)\n",
      "Requirement already satisfied: pyOpenSSL>=16.2.0 in /opt/conda/lib/python3.8/site-packages (from Scrapy) (19.1.0)\n",
      "Requirement already satisfied: w3lib>=1.17.0 in /opt/conda/lib/python3.8/site-packages (from Scrapy) (1.22.0)\n",
      "Requirement already satisfied: itemloaders>=1.0.1 in /opt/conda/lib/python3.8/site-packages (from Scrapy) (1.0.4)\n",
      "Requirement already satisfied: protego>=0.1.15 in /opt/conda/lib/python3.8/site-packages (from Scrapy) (0.1.16)\n",
      "Requirement already satisfied: itemadapter>=0.1.0 in /opt/conda/lib/python3.8/site-packages (from Scrapy) (0.2.0)\n",
      "Requirement already satisfied: service-identity>=16.0.0 in /opt/conda/lib/python3.8/site-packages (from Scrapy) (18.1.0)\n",
      "Requirement already satisfied: lxml>=3.5.0; platform_python_implementation == \"CPython\" in /opt/conda/lib/python3.8/site-packages (from Scrapy) (4.6.2)\n",
      "Requirement already satisfied: setuptools in /opt/conda/lib/python3.8/site-packages (from zope.interface>=4.1.3->Scrapy) (49.6.0.post20201009)\n",
      "Requirement already satisfied: cffi!=1.11.3,>=1.8 in /opt/conda/lib/python3.8/site-packages (from cryptography>=2.0->Scrapy) (1.14.3)\n",
      "Requirement already satisfied: six>=1.4.1 in /opt/conda/lib/python3.8/site-packages (from cryptography>=2.0->Scrapy) (1.15.0)\n",
      "Requirement already satisfied: constantly>=15.1 in /opt/conda/lib/python3.8/site-packages (from Twisted>=17.9.0->Scrapy) (15.1.0)\n",
      "Requirement already satisfied: hyperlink>=17.1.1 in /opt/conda/lib/python3.8/site-packages (from Twisted>=17.9.0->Scrapy) (21.0.0)\n",
      "Requirement already satisfied: PyHamcrest!=1.10.0,>=1.9.0 in /opt/conda/lib/python3.8/site-packages (from Twisted>=17.9.0->Scrapy) (2.0.2)\n",
      "Requirement already satisfied: attrs>=19.2.0 in /opt/conda/lib/python3.8/site-packages (from Twisted>=17.9.0->Scrapy) (20.2.0)\n",
      "Requirement already satisfied: Automat>=0.3.0 in /opt/conda/lib/python3.8/site-packages (from Twisted>=17.9.0->Scrapy) (20.2.0)\n",
      "Requirement already satisfied: incremental>=16.10.1 in /opt/conda/lib/python3.8/site-packages (from Twisted>=17.9.0->Scrapy) (17.5.0)\n",
      "Requirement already satisfied: jmespath>=0.9.5 in /opt/conda/lib/python3.8/site-packages (from itemloaders>=1.0.1->Scrapy) (0.10.0)\n",
      "Requirement already satisfied: pyasn1 in /opt/conda/lib/python3.8/site-packages (from service-identity>=16.0.0->Scrapy) (0.4.8)\n",
      "Requirement already satisfied: pyasn1-modules in /opt/conda/lib/python3.8/site-packages (from service-identity>=16.0.0->Scrapy) (0.2.8)\n",
      "Requirement already satisfied: pycparser in /opt/conda/lib/python3.8/site-packages (from cffi!=1.11.3,>=1.8->cryptography>=2.0->Scrapy) (2.20)\n",
      "Requirement already satisfied: idna>=2.5 in /opt/conda/lib/python3.8/site-packages (from hyperlink>=17.1.1->Twisted>=17.9.0->Scrapy) (2.10)\n"
     ]
    }
   ],
   "source": [
    "!pip install Scrapy"
   ]
  },
  {
   "cell_type": "code",
   "execution_count": 15,
   "metadata": {},
   "outputs": [
    {
     "name": "stderr",
     "output_type": "stream",
     "text": [
      "2021-01-25 22:50:41 [scrapy.utils.log] INFO: Scrapy 2.4.1 started (bot: booking)\n",
      "2021-01-25 22:50:41 [scrapy.utils.log] INFO: Versions: lxml 4.6.2.0, libxml2 2.9.10, cssselect 1.1.0, parsel 1.6.0, w3lib 1.22.0, Twisted 20.3.0, Python 3.8.6 | packaged by conda-forge | (default, Oct  7 2020, 19:08:05) - [GCC 7.5.0], pyOpenSSL 19.1.0 (OpenSSL 1.1.1h  22 Sep 2020), cryptography 3.1.1, Platform Linux-4.19.112+-x86_64-with-glibc2.10\n",
      "2021-01-25 22:50:41 [scrapy.crawler] INFO: Overridden settings:\n",
      "{'BOT_NAME': 'booking',\n",
      " 'LOG_LEVEL': 20,\n",
      " 'NEWSPIDER_MODULE': ['booking.booking.spiders'],\n",
      " 'ROBOTSTXT_OBEY': True,\n",
      " 'SPIDER_MODULES': 'booking.booking.spiders',\n",
      " 'USER_AGENT': 'Chrome/84.0'}\n",
      "2021-01-25 22:50:41 [scrapy.extensions.telnet] INFO: Telnet Password: a234c505d4293ac4\n",
      "2021-01-25 22:50:41 [scrapy.middleware] INFO: Enabled extensions:\n",
      "['scrapy.extensions.corestats.CoreStats',\n",
      " 'scrapy.extensions.telnet.TelnetConsole',\n",
      " 'scrapy.extensions.memusage.MemoryUsage',\n",
      " 'scrapy.extensions.feedexport.FeedExporter',\n",
      " 'scrapy.extensions.logstats.LogStats']\n",
      "2021-01-25 22:50:41 [scrapy.middleware] INFO: Enabled downloader middlewares:\n",
      "['scrapy.downloadermiddlewares.robotstxt.RobotsTxtMiddleware',\n",
      " 'scrapy.downloadermiddlewares.httpauth.HttpAuthMiddleware',\n",
      " 'scrapy.downloadermiddlewares.downloadtimeout.DownloadTimeoutMiddleware',\n",
      " 'scrapy.downloadermiddlewares.defaultheaders.DefaultHeadersMiddleware',\n",
      " 'scrapy.downloadermiddlewares.useragent.UserAgentMiddleware',\n",
      " 'scrapy.downloadermiddlewares.retry.RetryMiddleware',\n",
      " 'scrapy.downloadermiddlewares.redirect.MetaRefreshMiddleware',\n",
      " 'scrapy.downloadermiddlewares.httpcompression.HttpCompressionMiddleware',\n",
      " 'scrapy.downloadermiddlewares.redirect.RedirectMiddleware',\n",
      " 'scrapy.downloadermiddlewares.cookies.CookiesMiddleware',\n",
      " 'scrapy.downloadermiddlewares.httpproxy.HttpProxyMiddleware',\n",
      " 'scrapy.downloadermiddlewares.stats.DownloaderStats']\n",
      "2021-01-25 22:50:41 [scrapy.middleware] INFO: Enabled spider middlewares:\n",
      "['scrapy.spidermiddlewares.httperror.HttpErrorMiddleware',\n",
      " 'scrapy.spidermiddlewares.offsite.OffsiteMiddleware',\n",
      " 'scrapy.spidermiddlewares.referer.RefererMiddleware',\n",
      " 'scrapy.spidermiddlewares.urllength.UrlLengthMiddleware',\n",
      " 'scrapy.spidermiddlewares.depth.DepthMiddleware']\n",
      "2021-01-25 22:50:41 [scrapy.middleware] INFO: Enabled item pipelines:\n",
      "[]\n",
      "2021-01-25 22:50:41 [scrapy.core.engine] INFO: Spider opened\n",
      "2021-01-25 22:50:41 [scrapy.extensions.logstats] INFO: Crawled 0 pages (at 0 pages/min), scraped 0 items (at 0 items/min)\n",
      "2021-01-25 22:50:41 [scrapy.extensions.telnet] INFO: Telnet console listening on 127.0.0.1:6023\n",
      "2021-01-25 22:51:41 [scrapy.extensions.logstats] INFO: Crawled 414 pages (at 414 pages/min), scraped 9926 items (at 9926 items/min)\n",
      "2021-01-25 22:51:53 [scrapy.core.engine] INFO: Closing spider (finished)\n",
      "2021-01-25 22:51:53 [scrapy.extensions.feedexport] INFO: Stored csv feed (10417 items) in: results/hotels.csv\n",
      "2021-01-25 22:51:53 [scrapy.statscollectors] INFO: Dumping Scrapy stats:\n",
      "{'downloader/request_bytes': 735590,\n",
      " 'downloader/request_count': 434,\n",
      " 'downloader/request_method_count/GET': 434,\n",
      " 'downloader/response_bytes': 65788981,\n",
      " 'downloader/response_count': 434,\n",
      " 'downloader/response_status_count/200': 433,\n",
      " 'downloader/response_status_count/302': 1,\n",
      " 'dupefilter/filtered': 35,\n",
      " 'elapsed_time_seconds': 72.617861,\n",
      " 'finish_reason': 'finished',\n",
      " 'finish_time': datetime.datetime(2021, 1, 25, 22, 51, 53, 907366),\n",
      " 'item_scraped_count': 10417,\n",
      " 'log_count/INFO': 12,\n",
      " 'memusage/max': 495476736,\n",
      " 'memusage/startup': 142336000,\n",
      " 'request_depth_max': 41,\n",
      " 'response_received_count': 433,\n",
      " 'robotstxt/request_count': 1,\n",
      " 'robotstxt/response_count': 1,\n",
      " 'robotstxt/response_status_count/200': 1,\n",
      " 'scheduler/dequeued': 433,\n",
      " 'scheduler/dequeued/memory': 433,\n",
      " 'scheduler/enqueued': 433,\n",
      " 'scheduler/enqueued/memory': 433,\n",
      " 'start_time': datetime.datetime(2021, 1, 25, 22, 50, 41, 289505)}\n",
      "2021-01-25 22:51:53 [scrapy.core.engine] INFO: Spider closed (finished)\n"
     ]
    }
   ],
   "source": [
    "from booking.booking.spiders.hotels import HotelsSpider\n",
    "from booking.booking import settings\n",
    "from scrapy.settings import Settings\n",
    "from scrapy.crawler import CrawlerProcess\n",
    "import logging\n",
    "import os\n",
    "\n",
    "# Removing old resut file if exists\n",
    "if os.path.isfile(HOTELS_FILE_PATH):\n",
    "    os.remove(HOTELS_FILE_PATH)\n",
    "\n",
    "# Import project settings\n",
    "crawler_settings = Settings()\n",
    "crawler_settings.setmodule(settings)\n",
    "\n",
    "# Redefining project settings for this notebook\n",
    "crawler_settings[\"FEEDS\"] = {HOTELS_FILE_PATH: {\"format\": \"csv\"},}\n",
    "crawler_settings[\"SPIDER_MODULES\"] = 'booking.booking.spiders'\n",
    "crawler_settings[\"NEWSPIDER_MODULE\"] = ['booking.booking.spiders']\n",
    "crawler_settings[\"LOG_LEVEL\"] = logging.INFO\n",
    "\n",
    "# Starts the crawling\n",
    "process = CrawlerProcess(crawler_settings)\n",
    "process.crawl(HotelsSpider, cities=cities)\n",
    "process.start()"
   ]
  },
  {
   "cell_type": "code",
   "execution_count": 20,
   "metadata": {},
   "outputs": [
    {
     "data": {
      "application/vnd.plotly.v1+json": {
       "config": {
        "plotlyServerURL": "https://plot.ly"
       },
       "data": [
        {
         "customdata": [
          [
           "Odalys City Nîmes Le Cheval Blanc",
           3
          ],
          [
           "Best Western Marquis de la Baume",
           4
          ],
          [
           "Campanile Nîmes Centre Mas-Carbonnel",
           3
          ],
          [
           "Appart'City Nimes",
           3
          ],
          [
           "Kyriad Nîmes Ouest A9",
           3
          ],
          [
           "Royal Hôtel",
           3
          ],
          [
           "Novotel Atria Nimes Centre",
           4
          ],
          [
           "ibis Nîmes Ouest - A9",
           3
          ],
          [
           "HÔTEL C SUITES**** chambres spacieuses, séjours thématiques",
           4
          ],
          [
           "Zenitude Hôtel-Résidences Nîmes Centre",
           3
          ],
          [
           "ibis budget Nimes Centre Gare",
           2
          ],
          [
           "HÔTEL B&B Ville Active*** très bien situé, parking sécurisé gratuit",
           3
          ],
          [
           "ibis Styles Nimes Gare Centre",
           3
          ],
          [
           "Best Western L'Orangerie",
           3
          ],
          [
           "Appart'City Confort Nimes Arenes",
           4
          ],
          [
           "The Originals City, Hôtel Costières, Nîmes (Inter-Hotel)",
           3
          ],
          [
           "hotelF1 Nîmes Ouest",
           null
          ],
          [
           "Hotel Majestic",
           3
          ],
          [
           "Logis NIMOTEL*** Hôtel Cosy et restaurant de terroir",
           3
          ],
          [
           "Kyriad Nimes Centre",
           3
          ],
          [
           "NOUVEAU - Le Petit paradis nîmois",
           null
          ],
          [
           "Hôtel De L'Amphithéâtre",
           3
          ],
          [
           "Hotel Concorde",
           1
          ],
          [
           "Maison Albar Hotels L’Imperator",
           5
          ],
          [
           "Hotel Des Tuileries",
           2
          ],
          [
           "UZES APPART HOTEL Résidence Le Mas des Oliviers",
           3
          ],
          [
           "Mas d orient",
           4
          ],
          [
           "MAISON 2 APPTS et 1 CHAMBRE - CONCIERGERIE DE L'UZEGE",
           4
          ],
          [
           "Le trente trois",
           3
          ],
          [
           "DUPLEX CENTRE HISTORIQUE UZES",
           4
          ],
          [
           "Boutique Hôtel Entraigues",
           4
          ],
          [
           "La Maison Rouge d'Uzes B&B",
           3
          ],
          [
           "XIXe Provencal Stone House with Private Pool",
           null
          ],
          [
           "Hôtel Le Saint-Geniès",
           3
          ],
          [
           "Maison De La Bourgade",
           4
          ],
          [
           "Uzès à pied, Appartement dans cadre d'exception",
           null
          ],
          [
           "La Maison d'Uzès Relais & Châteaux",
           5
          ],
          [
           "Maison de charme Uzès",
           null
          ],
          [
           "Maison centre ville UZES",
           null
          ],
          [
           "Appartement proche de la Place aux Herbes Uzès",
           3
          ],
          [
           "L'Oustalet",
           3
          ],
          [
           "Maison des Bouvreuils",
           3
          ],
          [
           "La bohème",
           null
          ],
          [
           "Appartement des amoureux",
           null
          ],
          [
           "Les Terrasses",
           3
          ],
          [
           "Les cèdres",
           3
          ],
          [
           "Le Mas du Lac",
           3
          ],
          [
           "Urbain V",
           null
          ],
          [
           "In Situ",
           3
          ],
          [
           "Résidence La Bastide d'Uzes",
           3
          ],
          [
           "Villa des Jardins de la Fontaine",
           null
          ],
          [
           "Jardins Secrets",
           5
          ],
          [
           "Hotel Mas De Galoffre",
           3
          ],
          [
           "Appartement avec terrasse panoramique au coeur de Nîmes",
           3
          ],
          [
           "Hôtel Le Pré Galoffre",
           3
          ],
          [
           "B&B Hôtel Nîmes Centre Arènes",
           2
          ],
          [
           "Hôtel & Spa Vatel",
           4
          ],
          [
           "Hotel Cote Patio",
           3
          ],
          [
           "Mas la Farelle",
           null
          ],
          [
           "Mas d'Escattes",
           3
          ],
          [
           "Allegria Nîmes",
           3
          ],
          [
           "Appartements nimes",
           3
          ],
          [
           "Chambre au centre ville",
           null
          ],
          [
           "Le panoramique lumineux avec Clim",
           null
          ],
          [
           "Joli mazet à Nîmes au cœur de la garrigue",
           null
          ],
          [
           "Central Hotel",
           3
          ],
          [
           "Grand confort au cœur de Nîmes",
           null
          ],
          [
           "Villa farniente",
           null
          ],
          [
           "Heart of Nîmes",
           3
          ],
          [
           "La Maison Rousseau Chambre d'hôtes",
           null
          ],
          [
           "La Villa Capuccine",
           null
          ],
          [
           "Dolce NÎMES CENTRE",
           3
          ],
          [
           "Mas la Farelle",
           3
          ],
          [
           "Au Cœur de la Cité des Antonins",
           null
          ],
          [
           "Chambre d'Hôtes de Charme Le Bartas",
           3
          ],
          [
           "Le mazet d'Uzès",
           3
          ],
          [
           "AU BORD DE L'ALZON",
           3
          ],
          [
           "Maison individuelle à 10 mn à pied du centre ville",
           null
          ],
          [
           "Appartement dans Hotel de Flaux",
           3
          ],
          [
           "Le Sabotier",
           null
          ],
          [
           "Le Clos d'Uzès - B&B",
           3
          ],
          [
           "Mazet de la Lavande",
           null
          ],
          [
           "Les Olives",
           3
          ],
          [
           "Le Vincent, appartement de charme à Uzès",
           null
          ],
          [
           "Joli studio au cœur d'Uzès",
           null
          ],
          [
           "Le Portalet",
           3
          ],
          [
           "Chez Vous",
           4
          ],
          [
           "Le gîte",
           null
          ],
          [
           "RAVISSANT STUDIO",
           3
          ],
          [
           "Appartement avec Piscine privée dans Résidence pour 6 personnes",
           3
          ],
          [
           "Appartement 2 à 4 personnes rue piétonne centre historique",
           4
          ],
          [
           "les bignones",
           null
          ],
          [
           "Le Mas des Alexandrins",
           3
          ],
          [
           "BEL APPARTEMENT SPACIEUX CENTRE VILLE UZES T3",
           null
          ],
          [
           "Le Pré Aux Cigales",
           3
          ],
          [
           "L'Albiousse",
           4
          ],
          [
           "La garçonnièred’Uzes",
           3
          ],
          [
           "UZES DECOUVERTES",
           null
          ],
          [
           "Apartment Poppy",
           3
          ],
          [
           "Les Gîtes de Cayenne - Gîte Olivia",
           3
          ],
          [
           "Hôtel Abalone - Centre Gare",
           2
          ],
          [
           "*DOLCE NIMES - T2 STANDING - CLIM *",
           3
          ],
          [
           "La Bastide",
           4
          ],
          [
           "Antichambre",
           4
          ],
          [
           "A 2mn de la Coupole, T1 COSY, plein centre",
           null
          ],
          [
           "Feel@Home Nemausus « Le 4 »",
           3
          ],
          [
           "Twenty's Business Flats Nîmes Trigone",
           3
          ],
          [
           "Appart sympa dans le vieux Nimes",
           null
          ],
          [
           "Feel@Home Nemausus « Le 42 »",
           3
          ],
          [
           "Citotel Hôtel Cesar",
           2
          ],
          [
           "Face à face unique avec les arènes",
           3
          ],
          [
           "Antonin - Premiere conciergerie",
           3
          ],
          [
           "Les Trois Rois",
           null
          ],
          [
           "Le Bonheur de la Campagne à la Ville",
           3
          ],
          [
           "Ingrid Mary",
           3
          ],
          [
           "le logis de l’étoile",
           3
          ],
          [
           "Mazet provençal d'exception au coeur de Nimes",
           null
          ],
          [
           "Feel@Home Nemausus « Le 11 »",
           3
          ],
          [
           "Ciel de Nîmes - Première conciergerie",
           3
          ],
          [
           "La place Zen - Free Wifi - City Center",
           3
          ],
          [
           "appartement centre ville arènes neufs climatise 50m2 cuisine équipée 4 personnes et wifi fibre",
           3
          ],
          [
           "L’îlot Dailleurs",
           null
          ],
          [
           "Maison de ville à Nîmes",
           3
          ],
          [
           "le pool house",
           null
          ],
          [
           "Chez Pepito Rooftop",
           3
          ],
          [
           "Tour du Roy",
           3
          ],
          [
           "au 5 de la SOURCE - 3*",
           null
          ],
          [
           "Appartement Les Marronniers",
           3
          ],
          [
           "Un instant en Uzege...",
           null
          ],
          [
           "La Taverne",
           2
          ],
          [
           "Mazet de Mô",
           3
          ],
          [
           "One-Bedroom Apartment in Uzes",
           3
          ],
          [
           "Appartement Paradis - Uzès-Pietra ducale",
           null
          ],
          [
           "La Pascallane",
           null
          ],
          [
           "Maison André",
           null
          ],
          [
           "Uzès Townhouse with Loggia & Views",
           3
          ],
          [
           "Le mas des Lilas",
           3
          ],
          [
           "Mas Myro",
           3
          ],
          [
           "Moulin du Pont d'Alzon",
           null
          ],
          [
           "Appartement 3 mn a pied du centre d'Uzès",
           null
          ],
          [
           "Apartment Au Gré Du Voyage",
           3
          ],
          [
           "Duché d'Uzès Villa Celina Avenue des Cévennes",
           null
          ],
          [
           "Calme et Charmant Studio à deux pas du centre historique d Uzès",
           3
          ],
          [
           "La Maison Comte, Uzès",
           3
          ],
          [
           "Patio De Violette",
           3
          ],
          [
           "Le domaine des Oréades",
           null
          ],
          [
           "Le Mas Blanc Uzès",
           null
          ],
          [
           "Les toîts d'Uzès",
           3
          ],
          [
           "La Maisonnette romantique",
           3
          ],
          [
           "Appartement avec belle vue sur le duché",
           null
          ],
          [
           "Studio Nîmes Centre",
           3
          ],
          [
           "La Suite de Diane",
           4
          ],
          [
           "Une âme à Nîmes : La Suite",
           4
          ],
          [
           "Calme et Cosy",
           null
          ],
          [
           "Résidence La Servie Studio 7",
           3
          ],
          [
           "Chambre chez l habitant",
           null
          ],
          [
           "Studio proche gare et centre ville",
           null
          ],
          [
           "Nîmes Appart centre ville Nîmes",
           null
          ],
          [
           "Appart Le Massillon Arenes Centre",
           2
          ],
          [
           "Appartement Garance",
           3
          ],
          [
           "T2Nimes Parking Balcon Wifi Eric",
           null
          ],
          [
           "Appartement à Nîmes en pleine nature avec Piscine",
           3
          ],
          [
           "B&B Le Garric",
           3
          ],
          [
           "KNF HOUSE - Superbe T2 DUPLEX, à 5min des Arènes",
           null
          ],
          [
           "Charmant deux-pièces de 37m2 avec belle terrasse",
           null
          ],
          [
           "Palmiers et Crocos du vieux Nîmes",
           null
          ],
          [
           "joli appartement lumineux et spacieux",
           3
          ],
          [
           "Une âme à Nîmes : coté cour",
           4
          ],
          [
           "RésidenceLa Servie Studio 6",
           3
          ],
          [
           "Chambre SDB WC WIFI chambre chez l habitant",
           null
          ],
          [
           "jardin des prêcheurs",
           3
          ],
          [
           "T'en Fouti",
           null
          ],
          [
           "Cosy CROCO - Appart T2 Centre Nîmes - Wifi et Parking",
           3
          ],
          [
           "Appart charme Arenes Nimes",
           3
          ],
          [
           "Calme cocon troglodyte au coeur de la ville",
           3
          ],
          [
           "Bon Jour Uzès",
           null
          ],
          [
           "Appart'17-Domaine de la source",
           3
          ],
          [
           "Appartement 1 chambre avec Piscine",
           null
          ],
          [
           "Le Logis du Castel",
           null
          ],
          [
           "Maison des Arts",
           null
          ],
          [
           "Bacchus Chambres d'hôtes NON FUMEUR",
           null
          ],
          [
           "La Villa Léa",
           3
          ],
          [
           "Auberge d'Uzes",
           2
          ],
          [
           "Les Olivettes",
           3
          ],
          [
           "Les belles de Blauzac",
           null
          ],
          [
           "les bignones centre Uzès",
           null
          ],
          [
           "Appartement centre Uzès, terrasse et parking",
           null
          ],
          [
           "Jewel of Uzès",
           null
          ],
          [
           "L'Escalette appart",
           3
          ],
          [
           "A 1mn des Arènes, grand studio de charme, cosy",
           null
          ],
          [
           "Nîmes en Garrigues",
           null
          ],
          [
           "Patrick&Pierre Bed and Breakfast Nîmes",
           3
          ],
          [
           "Les villas du triangle - chambres d'hôtes",
           3
          ],
          [
           "Bed and Breakfast P&P Nîmes-Centre",
           3
          ],
          [
           "Tee 3",
           3
          ],
          [
           "Appartement, piscine dans un superbe environnement",
           null
          ],
          [
           "Severine",
           3
          ],
          [
           "Cosy Nîmes",
           3
          ],
          [
           "Résidence Du Golf",
           3
          ],
          [
           "Studio spacieux à 5 minutes du centre",
           null
          ],
          [
           "200 Traverse du Pissadou",
           null
          ],
          [
           "le Bénédictins",
           3
          ],
          [
           "Appartement proche centre ville design et calme",
           3
          ],
          [
           "NÎMES ROUSSY",
           null
          ],
          [
           "Studio - Les villas du triangle",
           3
          ],
          [
           "coquelicot",
           null
          ],
          [
           "Appartement Denim",
           3
          ],
          [
           "Suite 609",
           null
          ],
          [
           "Le Mas Des Cigales",
           3
          ],
          [
           "Petit Studio 13 m2 avec terrasse 15 mn centre Nimes",
           3
          ],
          [
           "mas des oliviers",
           null
          ],
          [
           "Maison familiale à Nîmes",
           null
          ],
          [
           "Chez Eve",
           3
          ],
          [
           "La balade Nîmoise - Centre - Parking - Clim",
           null
          ],
          [
           "Appartement Spacieux de Grand Standing de 200 m²",
           3
          ],
          [
           "Grand Hôtel de Nîmes",
           4
          ],
          [
           "le 39",
           null
          ],
          [
           "Les Esclafidous",
           3
          ],
          [
           "Bien Loin d'Ici Spa B&B",
           4
          ],
          [
           "les charmilles",
           3
          ],
          [
           "Insula I - Appartement Arenes Centre-ville",
           3
          ],
          [
           "Residence La Servie Appart N°20",
           null
          ],
          [
           "Appartement Privé Climatisé entre Arènes et Maison Carrée",
           4
          ],
          [
           "Mazet",
           null
          ],
          [
           "LE ROYAL",
           null
          ],
          [
           "Studio avec Parking",
           null
          ],
          [
           "Grand studio centre ville",
           null
          ],
          [
           "RESIDENCE LA SERVIE",
           null
          ],
          [
           "P2 - NEUF - BALCON - COEUR DE VILLE",
           null
          ],
          [
           "liste rouge",
           null
          ],
          [
           "Chambre indépendante avec SDB-Terrasse privative. Centre ville",
           3
          ],
          [
           "Chambre d'Hôtes de la Carriere Romaine",
           3
          ],
          [
           "Terrasse tropézienne centre Nimes",
           null
          ],
          [
           "Cocon Bohème, nid douillet proche maison carrée",
           null
          ],
          [
           "Le Croco Citadin, charme de l'ancien en centre-ville, parking inclus",
           null
          ],
          [
           "Duplex Denim",
           3
          ],
          [
           "Loft Bohème Placette",
           null
          ],
          [
           "☆LE COCOON☆STUDIO - CENTRE-VILLE☆",
           null
          ],
          [
           "Logement 120 M2 & option bureaux",
           null
          ],
          [
           "Hotel La Voile",
           3
          ],
          [
           "Les Terrasses Du Mirage",
           3
          ],
          [
           "villa du sud piscine",
           null
          ],
          [
           "Le Mas de la Griotte",
           4
          ],
          [
           "Villa with 5 bedrooms in BormeslesMimosas with private pool",
           4
          ],
          [
           "Merveille",
           3
          ],
          [
           "Le petit atelier",
           null
          ],
          [
           "lou mazet",
           null
          ],
          [
           "Provencal Holiday Home in Bormes-les-Mimosas with Terrace",
           3
          ],
          [
           "Appartement Bormes-les-Mimosas, 2 pièces, 4 personnes - FR-1-308-51",
           null
          ],
          [
           "Gaou Benat",
           null
          ],
          [
           "Ou Souleou",
           3
          ],
          [
           "Hostellerie du Cigalou - Les Collectionneurs",
           3
          ],
          [
           "Stunning Villa in La Londe-les-Maures with Private Pool",
           3
          ],
          [
           "charmante villa individuelle proche de la mer",
           3
          ],
          [
           "Appartement Bormes-les-Mimosas, 2 pièces, 5 personnes - FR-1-251-136",
           null
          ],
          [
           "Vue mer. Domaine Gaou Bénat. Bormes les Mimosas. Appt 1 ch. 2-4 pers",
           null
          ],
          [
           "Appartement Bormes-les-Mimosas, 3 pièces, 6 personnes - FR-1-308-48",
           null
          ],
          [
           "STUDIO GEORGETTE",
           null
          ],
          [
           "So&Ca Côte d'Azur II",
           3
          ],
          [
           "Hotel Les Jardins de Bormes",
           3
          ],
          [
           "Appartement climatisé neuf vieux village Bormes",
           3
          ],
          [
           "Appartement Bormes-les-Mimosas, 2 pièces, 4 personnes - FR-1-251-358",
           null
          ],
          [
           "Holiday Home Jalna - BOM120",
           3
          ],
          [
           "Appartement Bormes-les-Mimosas, 2 pièces, 4 personnes - FR-1-251-334",
           null
          ],
          [
           "Appartement Bormes-les-Mimosas, 1 pièce, 2 personnes - FR-1-251-161",
           null
          ],
          [
           "Studio La Faviere",
           2
          ],
          [
           "Hotel Restaurant Bellevue",
           2
          ],
          [
           "Studio Village de Bormes les Mimosas-1",
           2
          ],
          [
           "Maison Bormes-les-Mimosas, 2 pièces, 6 personnes - FR-1-251-273",
           null
          ],
          [
           "Appartement Bormes-les-Mimosas, 1 pièce, 4 personnes - FR-1-251-320",
           2
          ],
          [
           "Maison exotique et jacuzzi option séjour activités incluses",
           null
          ],
          [
           "Rez de Villa Bormes les mimosas le Lavandou",
           null
          ],
          [
           "Maison Villa vue mer piscine Bormes les mimosas Le Lavandou",
           null
          ],
          [
           "Les Bastides du Haut Para",
           4
          ],
          [
           "Hôtel Paradis",
           2
          ],
          [
           "Appartement climatisé neuf vieux village Bormes",
           3
          ],
          [
           "Appartement Bormes-les-Mimosas, 1 pièce, 4 personnes - FR-1-251-2",
           null
          ],
          [
           "bleu marine",
           null
          ],
          [
           "Villa Nais B&B",
           3
          ],
          [
           "Grand Studio 3 étoiles",
           null
          ],
          [
           "Appartement vue mer \"Les Terrasses du mirage\"",
           null
          ],
          [
           "Appartement Bormes-les-Mimosas, 2 pièces, 4 personnes - FR-1-251-40",
           2
          ],
          [
           "HomeStay Bormes",
           null
          ],
          [
           "Hôtel Les Mimosas",
           2
          ],
          [
           "Camping Lou Cabasson",
           3
          ],
          [
           "Appartement Bormes-les-Mimosas, 1 pièce, 3 personnes - FR-1-308-125",
           null
          ],
          [
           "Studio cabine Les Rives de la Favière piscine et tennis les pieds dans l'eau",
           null
          ],
          [
           "Le Hameau de la Nicolinière",
           3
          ],
          [
           "Apartement Bord de Mer La Faviere",
           3
          ],
          [
           "Suite Privée Bed and Breakfast",
           null
          ],
          [
           "Le mazet en été",
           null
          ],
          [
           "Villa Meridia",
           4
          ],
          [
           "Le clos des combettes",
           null
          ],
          [
           "Cocon du Sud",
           4
          ],
          [
           "Chambres d'Hôtes Lovely Planette",
           3
          ],
          [
           "Studio N°1",
           3
          ],
          [
           "DOMUS ARENA",
           null
          ],
          [
           "Patio Arènes",
           3
          ],
          [
           "L 'AUTHENTIK - STUDIO - IMMERSION COEUR DE VILLE",
           null
          ],
          [
           "Le Mazet Camplanier Nimes",
           null
          ],
          [
           "Suite & Spa No idem",
           null
          ],
          [
           "auberge des garrigues",
           1
          ],
          [
           "Appartement Romanité",
           3
          ],
          [
           "la pause nimoise",
           null
          ],
          [
           "La chambre haute",
           3
          ],
          [
           "Chambre côté jardin",
           3
          ],
          [
           "Inn 4 Bears",
           3
          ],
          [
           "Petit Paradis Nemausus",
           null
          ],
          [
           "Villa de la Phalène",
           4
          ],
          [
           "Au coeur de Nîmes à 100m des Arènes - Discover Nimes",
           null
          ],
          [
           "VILLA LUMIERE",
           null
          ],
          [
           "Modern Villa in Nimes with Private Pool",
           4
          ],
          [
           "appartement P3 neuf 50 m2",
           null
          ],
          [
           "appart neuf P3 nimes",
           null
          ],
          [
           "Appartement Bormes-les-Mimosas, 2 pièces, 4 personnes - FR-1-251-311",
           null
          ],
          [
           "Studio centre historique de Bormes les Mimosas",
           3
          ],
          [
           "Les Terrasses",
           3
          ],
          [
           "Camping Clau Mar Jo",
           4
          ],
          [
           "LES TERRACH",
           null
          ],
          [
           "L’Heure Bleue",
           null
          ],
          [
           "Asklan",
           3
          ],
          [
           "SELECT'soHOME Le BELLA VISTA",
           null
          ],
          [
           "Grand T3 classé 3 étoiles- CLIM + 2 terrasses",
           null
          ],
          [
           "Appartement Bormes-les-Mimosas, 1 pièce, 4 personnes - FR-1-251-271",
           null
          ],
          [
           "Les Iles d' Or Appartement",
           null
          ],
          [
           "Village Vacances La Manne",
           null
          ],
          [
           "L'Amirauté",
           3
          ],
          [
           "Chambres d'hôtes \"Les Passiflores\"",
           3
          ],
          [
           "Superbe Duplex 35m2 vue mer avec piscine",
           3
          ],
          [
           "Coeur de village",
           3
          ],
          [
           "Appartement La Favière",
           null
          ],
          [
           "SERENADA",
           null
          ],
          [
           "Camping manjastre ***",
           null
          ],
          [
           "Brise Marine",
           null
          ],
          [
           "Studio avec Jardin et Parking Privés",
           3
          ],
          [
           "Sud Résidence F1 bis",
           null
          ],
          [
           "Appartement Bormes-les-Mimosas, 2 pièces, 4 personnes - FR-1-251-370",
           null
          ],
          [
           "Appartement Bormes-les-Mimosas, 2 pièces, 4 personnes - FR-1-251-365",
           null
          ],
          [
           "studio à la favière 2 étoiles",
           null
          ],
          [
           "ROUSSILLON",
           null
          ],
          [
           "Atipyc Nimes",
           null
          ],
          [
           "Auberge de Jeunesse HI Nîmes",
           null
          ],
          [
           "Les Jardins de Pasteur",
           3
          ],
          [
           "Le coin du soleil",
           null
          ],
          [
           "Studio in BormeslesMimosas with wonderful sea view shared pool and enclosed garden",
           3
          ],
          [
           "Apartment Village de Bormes les Mimosas-2",
           2
          ],
          [
           "Appartement Bormes-les-Mimosas, 2 pièces, 4 personnes - FR-1-251-373",
           null
          ],
          [
           "Appartement Bormes-les-Mimosas, 3 pièces, 5 personnes - FR-1-251-371",
           null
          ],
          [
           "Bormes les Mimosas",
           4
          ],
          [
           "L'oiseau du Paradis",
           null
          ],
          [
           "Le Residence des angles avec vue sur mer",
           null
          ],
          [
           "Boutique Holiday Home in Bormes-les-Mimosas with Pool",
           3
          ],
          [
           "Maison Bormes-les-Mimosas, 4 pièces, 6 personnes - FR-1-308-27",
           null
          ],
          [
           "Maison Bormes-les-Mimosas, 2 pièces, 4 personnes - FR-1-308-70",
           2
          ],
          [
           "Villa Le Pas de Courtin",
           4
          ],
          [
           "Provencal Holiday Home in Bormes-les-Mimosas with Pool",
           3
          ],
          [
           "Cosy Holiday Home in Bormes-les-Mimosas Near Sea",
           3
          ],
          [
           "Appartement Bormes-les-Mimosas, 2 pièces, 4 personnes - FR-1-251-313",
           null
          ],
          [
           "Villa with 3 bedrooms in BormeslesMimosas with private pool and enclosed garden 4 km from the beach",
           3
          ],
          [
           "Villa Mimosas",
           3
          ],
          [
           "Gaou Villa Vue Panoramique",
           null
          ],
          [
           "Appartement Bormes-les-Mimosas, 2 pièces, 4 personnes - FR-1-251-111",
           null
          ],
          [
           "Villa provençale proche plages",
           null
          ],
          [
           "Appartement Bormes-les-Mimosas, 4 pièces, 6 personnes - FR-1-251-209",
           null
          ],
          [
           "Studio in BormeslesMimosas with enclosed garden and WiFi 400 m from the beach",
           3
          ],
          [
           "Appartement Bormes-les-Mimosas, 2 pièces, 6 personnes - FR-1-251-211",
           null
          ],
          [
           "Maeva Particuliers - Studio 2 personnes plages et criques",
           null
          ],
          [
           "Appartement Bormes-les-Mimosas, 3 pièces, 4 personnes - FR-1-251-76",
           2
          ],
          [
           "Appartement Bormes-les-Mimosas, 2 pièces, 4 personnes - FR-1-251-220",
           null
          ],
          [
           "Les Eucalyptus",
           4
          ],
          [
           "Plein Ciel",
           3
          ],
          [
           "Cozy Villa in Bormes-les-Mimosas with Private Pool",
           4
          ],
          [
           "Appartement Bormes-les-Mimosas, 1 pièce, 4 personnes - FR-1-251-226",
           null
          ],
          [
           "Studio in BormeslesMimosas with wonderful sea view private pool and balcony 50 m from the beach",
           3
          ],
          [
           "Appartement Bormes-les-Mimosas, 2 pièces, 4 personnes - FR-1-251-351",
           null
          ]
         ],
         "hovertemplate": "<b>%{hovertext}</b><br><br>lattitude=%{lat}<br>longitude=%{lon}<br>name=%{customdata[0]}<br>ranking=%{customdata[1]}<br>score=%{marker.color}<extra></extra>",
         "hovertext": [
          "Nimes",
          "Nimes",
          "Nimes",
          "Nimes",
          "Nimes",
          "Nimes",
          "Nimes",
          "Nimes",
          "Nimes",
          "Nimes",
          "Nimes",
          "Nimes",
          "Nimes",
          "Nimes",
          "Nimes",
          "Nimes",
          "Nimes",
          "Nimes",
          "Nimes",
          "Nimes",
          "Nimes",
          "Nimes",
          "Nimes",
          "Nimes",
          "Nimes",
          "Uzes",
          "Uzes",
          "Uzes",
          "Uzes",
          "Uzes",
          "Uzes",
          "Uzes",
          "Uzes",
          "Uzes",
          "Uzes",
          "Uzes",
          "Uzes",
          "Uzes",
          "Uzes",
          "Uzes",
          "Uzes",
          "Uzes",
          "Uzes",
          "Uzes",
          "Uzes",
          "Uzes",
          "Uzes",
          "Uzes",
          "Uzes",
          "Uzes",
          "Nimes",
          "Nimes",
          "Nimes",
          "Nimes",
          "Nimes",
          "Nimes",
          "Nimes",
          "Nimes",
          "Nimes",
          "Nimes",
          "Nimes",
          "Nimes",
          "Nimes",
          "Nimes",
          "Nimes",
          "Nimes",
          "Nimes",
          "Nimes",
          "Nimes",
          "Nimes",
          "Nimes",
          "Nimes",
          "Nimes",
          "Nimes",
          "Nimes",
          "Uzes",
          "Uzes",
          "Uzes",
          "Uzes",
          "Uzes",
          "Uzes",
          "Uzes",
          "Uzes",
          "Uzes",
          "Uzes",
          "Uzes",
          "Uzes",
          "Uzes",
          "Uzes",
          "Uzes",
          "Uzes",
          "Uzes",
          "Uzes",
          "Uzes",
          "Uzes",
          "Uzes",
          "Uzes",
          "Uzes",
          "Uzes",
          "Uzes",
          "Nimes",
          "Nimes",
          "Nimes",
          "Nimes",
          "Nimes",
          "Nimes",
          "Nimes",
          "Nimes",
          "Nimes",
          "Nimes",
          "Nimes",
          "Nimes",
          "Nimes",
          "Nimes",
          "Nimes",
          "Nimes",
          "Nimes",
          "Nimes",
          "Nimes",
          "Nimes",
          "Nimes",
          "Nimes",
          "Nimes",
          "Nimes",
          "Nimes",
          "Uzes",
          "Uzes",
          "Uzes",
          "Uzes",
          "Uzes",
          "Uzes",
          "Uzes",
          "Uzes",
          "Uzes",
          "Uzes",
          "Uzes",
          "Uzes",
          "Uzes",
          "Uzes",
          "Uzes",
          "Uzes",
          "Uzes",
          "Uzes",
          "Uzes",
          "Uzes",
          "Uzes",
          "Uzes",
          "Uzes",
          "Uzes",
          "Uzes",
          "Nimes",
          "Nimes",
          "Nimes",
          "Nimes",
          "Nimes",
          "Nimes",
          "Nimes",
          "Nimes",
          "Nimes",
          "Nimes",
          "Nimes",
          "Nimes",
          "Nimes",
          "Nimes",
          "Nimes",
          "Nimes",
          "Nimes",
          "Nimes",
          "Nimes",
          "Nimes",
          "Nimes",
          "Nimes",
          "Nimes",
          "Nimes",
          "Nimes",
          "Uzes",
          "Uzes",
          "Uzes",
          "Uzes",
          "Uzes",
          "Uzes",
          "Uzes",
          "Uzes",
          "Uzes",
          "Uzes",
          "Uzes",
          "Uzes",
          "Uzes",
          "Uzes",
          "Nimes",
          "Nimes",
          "Nimes",
          "Nimes",
          "Nimes",
          "Nimes",
          "Nimes",
          "Nimes",
          "Nimes",
          "Nimes",
          "Nimes",
          "Nimes",
          "Nimes",
          "Nimes",
          "Nimes",
          "Nimes",
          "Nimes",
          "Nimes",
          "Nimes",
          "Nimes",
          "Nimes",
          "Nimes",
          "Nimes",
          "Nimes",
          "Nimes",
          "Nimes",
          "Nimes",
          "Nimes",
          "Nimes",
          "Nimes",
          "Nimes",
          "Nimes",
          "Nimes",
          "Nimes",
          "Nimes",
          "Nimes",
          "Nimes",
          "Nimes",
          "Nimes",
          "Nimes",
          "Nimes",
          "Nimes",
          "Nimes",
          "Nimes",
          "Nimes",
          "Nimes",
          "Nimes",
          "Nimes",
          "Nimes",
          "Nimes",
          "Bormes les Mimosas",
          "Bormes les Mimosas",
          "Bormes les Mimosas",
          "Bormes les Mimosas",
          "Bormes les Mimosas",
          "Bormes les Mimosas",
          "Bormes les Mimosas",
          "Bormes les Mimosas",
          "Bormes les Mimosas",
          "Bormes les Mimosas",
          "Bormes les Mimosas",
          "Bormes les Mimosas",
          "Bormes les Mimosas",
          "Bormes les Mimosas",
          "Bormes les Mimosas",
          "Bormes les Mimosas",
          "Bormes les Mimosas",
          "Bormes les Mimosas",
          "Bormes les Mimosas",
          "Bormes les Mimosas",
          "Bormes les Mimosas",
          "Bormes les Mimosas",
          "Bormes les Mimosas",
          "Bormes les Mimosas",
          "Bormes les Mimosas",
          "Bormes les Mimosas",
          "Bormes les Mimosas",
          "Bormes les Mimosas",
          "Bormes les Mimosas",
          "Bormes les Mimosas",
          "Bormes les Mimosas",
          "Bormes les Mimosas",
          "Bormes les Mimosas",
          "Bormes les Mimosas",
          "Bormes les Mimosas",
          "Bormes les Mimosas",
          "Bormes les Mimosas",
          "Bormes les Mimosas",
          "Bormes les Mimosas",
          "Bormes les Mimosas",
          "Bormes les Mimosas",
          "Bormes les Mimosas",
          "Bormes les Mimosas",
          "Bormes les Mimosas",
          "Bormes les Mimosas",
          "Bormes les Mimosas",
          "Bormes les Mimosas",
          "Bormes les Mimosas",
          "Bormes les Mimosas",
          "Bormes les Mimosas",
          "Nimes",
          "Nimes",
          "Nimes",
          "Nimes",
          "Nimes",
          "Nimes",
          "Nimes",
          "Nimes",
          "Nimes",
          "Nimes",
          "Nimes",
          "Nimes",
          "Nimes",
          "Nimes",
          "Nimes",
          "Nimes",
          "Nimes",
          "Nimes",
          "Nimes",
          "Nimes",
          "Nimes",
          "Nimes",
          "Nimes",
          "Nimes",
          "Nimes",
          "Bormes les Mimosas",
          "Bormes les Mimosas",
          "Bormes les Mimosas",
          "Bormes les Mimosas",
          "Bormes les Mimosas",
          "Bormes les Mimosas",
          "Bormes les Mimosas",
          "Bormes les Mimosas",
          "Bormes les Mimosas",
          "Bormes les Mimosas",
          "Bormes les Mimosas",
          "Bormes les Mimosas",
          "Bormes les Mimosas",
          "Bormes les Mimosas",
          "Bormes les Mimosas",
          "Bormes les Mimosas",
          "Bormes les Mimosas",
          "Bormes les Mimosas",
          "Bormes les Mimosas",
          "Bormes les Mimosas",
          "Bormes les Mimosas",
          "Bormes les Mimosas",
          "Bormes les Mimosas",
          "Bormes les Mimosas",
          "Bormes les Mimosas",
          "Nimes",
          "Nimes",
          "Nimes",
          "Nimes",
          "Nimes",
          "Bormes les Mimosas",
          "Bormes les Mimosas",
          "Bormes les Mimosas",
          "Bormes les Mimosas",
          "Bormes les Mimosas",
          "Bormes les Mimosas",
          "Bormes les Mimosas",
          "Bormes les Mimosas",
          "Bormes les Mimosas",
          "Bormes les Mimosas",
          "Bormes les Mimosas",
          "Bormes les Mimosas",
          "Bormes les Mimosas",
          "Bormes les Mimosas",
          "Bormes les Mimosas",
          "Bormes les Mimosas",
          "Bormes les Mimosas",
          "Bormes les Mimosas",
          "Bormes les Mimosas",
          "Bormes les Mimosas",
          "Bormes les Mimosas",
          "Bormes les Mimosas",
          "Bormes les Mimosas",
          "Bormes les Mimosas",
          "Bormes les Mimosas",
          "Bormes les Mimosas",
          "Bormes les Mimosas",
          "Bormes les Mimosas",
          "Bormes les Mimosas",
          "Bormes les Mimosas",
          "Bormes les Mimosas"
         ],
         "lat": [
          43.8342375300246,
          43.8395947565407,
          43.822731120282704,
          43.821585485623,
          43.8147073451298,
          43.8388150962031,
          43.8354206497776,
          43.813890585896,
          43.815377000000005,
          43.832493280445206,
          43.8320559021468,
          43.8157834,
          43.8317575459101,
          43.8247659222373,
          43.833873534889705,
          43.814653152919995,
          43.815334,
          43.83436329202829,
          43.81557634920521,
          43.837759733289204,
          43.8223192,
          43.83581534027449,
          43.836128154772204,
          43.838666127684,
          43.8364238163426,
          44.0126325895461,
          44.020244,
          44.0108142596191,
          44.009641947615606,
          44.012349,
          44.0124643709857,
          44.014177705504295,
          44.0518489483609,
          44.023053337,
          44.009668,
          44.0124311,
          44.01274447195371,
          44.014756,
          44.015097499999996,
          44.011246500000006,
          44.0068325745551,
          44.01177979999999,
          44.01167638147199,
          44.008349,
          44.012017,
          44.011847405338,
          43.9922866307744,
          44.011209524617996,
          44.0130735595176,
          44.001412,
          43.839691530887,
          43.8347057502948,
          43.788451892348796,
          43.836776,
          43.7885821536422,
          43.8281614,
          43.82057674771621,
          43.838872168459204,
          43.813455,
          43.870469,
          43.824581,
          43.8369370620494,
          43.841164,
          43.842067884776,
          43.878316,
          43.83899501872371,
          43.836649147239,
          43.838388,
          43.837286600000006,
          43.840503068795,
          43.82474620000001,
          43.8420013,
          43.813455,
          43.8345493,
          43.860096500000004,
          43.996696040291994,
          43.995238,
          44.0151604,
          44.0120095232665,
          44.011332,
          44.0187071958688,
          43.996230421818,
          43.9957992430491,
          44.013279060475995,
          44.01422,
          44.01116716507111,
          44.013612,
          44.030429568117,
          44.0141777,
          44.017212186005004,
          44.009788029775,
          44.0143457130385,
          43.995891861679105,
          44.0137,
          44.0154451458477,
          44.012719690467904,
          44.011945000000004,
          44.018242,
          44.010672364011604,
          44.012178600000006,
          43.8330272990424,
          43.8403071,
          43.849395,
          43.834472,
          43.8399995,
          43.838815200016896,
          43.831503999999995,
          43.83546975589001,
          43.829368245185,
          43.833226587366894,
          43.8345493,
          43.835752,
          43.829170655751,
          43.83746655804671,
          43.819014,
          43.8362611,
          43.846759000000006,
          43.8309446498752,
          43.837391700000005,
          43.837146999999995,
          43.834112988480996,
          43.8400032,
          43.8278875112154,
          43.863234999999996,
          43.841024,
          44.0045397,
          44.019386539501,
          44.0132239,
          44.009038200000006,
          44.014659,
          44.010351196102896,
          44.0136,
          44.0077179,
          44.019545,
          44.0111396,
          44.013392387020204,
          43.9971194612628,
          43.9986494853399,
          44.020161302983894,
          44.012765,
          44.01386019922651,
          44.017987100000006,
          44.009679999999996,
          44.011153,
          44.0284314247316,
          44.037437,
          44.044067167921,
          44.0131999975249,
          44.010751722279,
          44.0127652,
          43.8397627962523,
          43.838390999999994,
          43.839391387137006,
          43.8394982,
          43.8339136,
          43.823275,
          43.8383716,
          43.8371232,
          43.8314949808831,
          43.8396639,
          43.8218615,
          43.865328600000005,
          43.87402217088321,
          43.8334491,
          43.831511862392,
          43.837993,
          43.8432805239309,
          43.8389985239352,
          43.8339136,
          43.823489,
          43.840976333513005,
          43.85160894986589,
          43.8428856,
          43.831676,
          43.8373053,
          44.011972072032,
          44.0195447296099,
          44.0077179,
          44.013875,
          44.010806,
          44.020168,
          44.014362301043995,
          43.9927782658901,
          43.997428,
          43.965211796231,
          44.014312,
          44.0130804,
          44.012499132108005,
          44.00271,
          43.8364405,
          43.862278,
          43.8342464784836,
          43.840966288992206,
          43.83501,
          43.850871999999995,
          43.869203376467,
          43.830589708505705,
          43.848611068690005,
          43.8512565239271,
          43.83986635897801,
          43.8413941,
          43.841119899999995,
          43.829266,
          43.8358929,
          43.828159299999996,
          43.8204417,
          43.8397616,
          43.847767,
          43.8495235519448,
          43.8284391,
          43.863585799999996,
          43.833642397176,
          43.811083,
          43.840143177897,
          43.8388343,
          43.814719925457204,
          43.8396878,
          43.83924609708261,
          43.8736159387224,
          43.818459000000004,
          43.837463,
          43.8339136,
          43.835906,
          43.847853391316995,
          43.83297520000001,
          43.8265257253759,
          43.841094344743205,
          43.833914,
          43.8351842,
          43.847304,
          43.836775,
          43.8385091178479,
          43.8418084,
          43.8394659,
          43.8359429,
          43.830719200000004,
          43.83409167497,
          43.83866210000001,
          43.8338689,
          43.12549,
          43.1441295,
          43.1451578,
          43.125542030409,
          43.101446222562195,
          43.1521251,
          43.142501,
          43.143936592874006,
          43.149978999999995,
          43.147461,
          43.1041393122817,
          43.143527260059,
          43.1519579,
          43.174135,
          43.135475065834996,
          43.145711999999996,
          43.104960592158,
          43.137739,
          43.1511666,
          43.1224787826285,
          43.14893353509439,
          43.150692,
          43.123267999999996,
          43.15255365,
          43.123438,
          43.123399,
          43.123091607304794,
          43.151877593039295,
          43.1507771,
          43.134805,
          43.120854,
          43.139781238147,
          43.1461474,
          43.1461474,
          43.145950799999994,
          43.144686,
          43.150738963796904,
          43.122359,
          43.1225577,
          43.159155431371204,
          43.145389553984,
          43.1441295,
          43.12426,
          43.146445,
          43.149187929214705,
          43.1249993161731,
          43.122226,
          43.120892100000006,
          43.103480785351294,
          43.12602593973121,
          43.83501,
          43.872819,
          43.842763640929995,
          43.8602863,
          43.8423709365602,
          43.857101,
          43.8281078,
          43.8358595,
          43.8328550945411,
          43.8380784,
          43.846263,
          43.83874,
          43.8549624630414,
          43.831942,
          43.85597,
          43.861261,
          43.834811,
          43.8589782903443,
          43.837701946901,
          43.8348317,
          43.835562345053994,
          43.876852694862,
          43.855521,
          43.8387419,
          43.8387419,
          43.150799,
          43.1503605745765,
          43.1441295,
          43.1346192250055,
          43.1441295,
          43.1224521672396,
          43.1226934600377,
          43.123227599048995,
          43.145378900740994,
          43.122479,
          43.1273952345891,
          43.130438055338296,
          43.1224057589826,
          43.140955,
          43.1431217,
          43.150077,
          43.12368127425,
          43.122461,
          43.162318,
          43.1527327032658,
          43.1403633,
          43.127065,
          43.123129,
          43.123076,
          43.122706409062005,
          43.840102457305,
          43.8356454,
          43.8430619235136,
          43.8423115697134,
          43.8308855,
          43.144243007966296,
          43.1507771,
          43.124328999999996,
          43.124432,
          43.1102841,
          43.1422703,
          43.094616544869005,
          43.149978999999995,
          43.140082,
          43.133846000000005,
          43.151361200000004,
          43.149978999999995,
          43.149978999999995,
          43.123062,
          43.1489129963623,
          43.1406139,
          43.103887,
          43.123138,
          43.1415124,
          43.12853,
          43.127119,
          43.121103999999995,
          43.1230903,
          43.128532,
          43.12298,
          43.1113783,
          43.1050092,
          43.109522,
          43.12151,
          43.122366,
          43.122354
         ],
         "legendgroup": "",
         "lon": [
          4.36079040169716,
          4.36108410358429,
          4.36412572860718,
          4.3645977973938,
          4.34483259916306,
          4.3548184633255,
          4.36340421438217,
          4.34434175491333,
          4.345905,
          4.367856681346891,
          4.36736449599266,
          4.3463127,
          4.366973564028741,
          4.369046241045,
          4.36143395952456,
          4.3443095684051505,
          4.34405200000003,
          4.3653367459774,
          4.34660352766514,
          4.3638722598552695,
          4.3085558,
          4.35914017260075,
          4.36126994535164,
          4.3527679145336196,
          4.364745318889621,
          4.41414892673492,
          4.409254,
          4.41779908857734,
          4.41788524389267,
          4.41847,
          4.4218001110450595,
          4.42260727286339,
          4.52761954571533,
          4.42047223448753,
          4.418032,
          4.4192362,
          4.421130716800691,
          4.420526000000001,
          4.4155765,
          4.4188127999999995,
          4.42035013436225,
          4.4063082,
          4.419088375741,
          4.4077357,
          4.420584,
          4.414136186178,
          4.43396687463974,
          4.420136667484,
          4.420540630817411,
          4.419783,
          4.352454786508,
          4.36731219291687,
          4.35384232647618,
          4.358018,
          4.35380257666111,
          4.3547902000000205,
          4.31912697851658,
          4.36974763870239,
          4.394221,
          4.40491,
          4.350535,
          4.35709834098816,
          4.367986,
          4.367556011233,
          4.403321,
          4.3628114461898795,
          4.358286242328,
          4.351273,
          4.3617059000000005,
          4.35905188941047,
          4.3578095999999995,
          4.363243,
          4.394221,
          4.3583989999999995,
          4.35288949999995,
          4.425974246032999,
          4.421976,
          4.409710400000001,
          4.41944123544317,
          4.41826,
          4.41590916501241,
          4.425882684579,
          4.42739207738509,
          4.418153234359,
          4.419562,
          4.4207141147499005,
          4.417987999999999,
          4.430426121704,
          4.4220873,
          4.421508988098,
          4.416435415344,
          4.42268847778905,
          4.4274671792374,
          4.417992900000001,
          4.40986999921734,
          4.42112375519059,
          4.419267,
          4.418825,
          4.420305317830531,
          4.4063181000000196,
          4.36618968844414,
          4.3702517,
          4.323469,
          4.356771,
          4.3605545,
          4.36241362382685,
          4.367797,
          4.358533313492,
          4.357869620164,
          4.36554998159409,
          4.3583989999999995,
          4.3585,
          4.35692072209,
          4.35176469789235,
          4.325773000000001,
          4.3587013,
          4.3521019999999995,
          4.36287749743395,
          4.3567136,
          4.3604613,
          4.357895298811,
          4.356959099999999,
          4.35043288220902,
          4.39901,
          4.359022,
          4.4120199,
          4.428176841664,
          4.4222682,
          4.4145317,
          4.4200515,
          4.4221975386231,
          4.41709,
          4.408578299999999,
          4.428515,
          4.419136900000001,
          4.42081974225846,
          4.4257870316505405,
          4.4080924987792995,
          4.43052643696217,
          4.414323,
          4.42187352513122,
          4.406860900000001,
          4.416392500000001,
          4.420694,
          4.420023858328929,
          4.45216,
          4.406036122198,
          4.41806849265981,
          4.41664519384835,
          4.4143231,
          4.3569419908074,
          4.346347,
          4.353717209869,
          4.3659224000000005,
          4.3659196,
          4.336528700000001,
          4.3634307,
          4.3700304,
          4.35929775238037,
          4.3567599,
          4.360779099999999,
          4.408804099999999,
          4.36582088470459,
          4.3536415,
          4.353877655408,
          4.3590919999999995,
          4.36270317857361,
          4.35544762513121,
          4.3659196,
          4.338147,
          4.361336513492,
          4.37470570206642,
          4.3590621,
          4.36020259999998,
          4.3579281,
          4.419075213492,
          4.42851483821869,
          4.408578299999999,
          4.420367,
          4.41752,
          4.393468,
          4.4109196466270095,
          4.42427515961754,
          4.412575,
          4.366439263439,
          4.4227419999999995,
          4.4179317000000005,
          4.4209441306879995,
          4.419951999999999,
          4.3581325,
          4.355442,
          4.35091853141785,
          4.39121264054484,
          4.349857,
          4.31083,
          4.396387546165,
          4.352826777358009,
          4.36314443988113,
          4.300739765167241,
          4.365462947524,
          4.305626599999999,
          4.353431400000001,
          4.3589839999999995,
          4.3651165,
          4.3849952000000005,
          4.338027200000001,
          4.3567186,
          4.345362000000001,
          4.32767230552258,
          4.37537829999997,
          4.3792798,
          4.378096529052,
          4.298631200000001,
          4.358334849074,
          4.3699188,
          4.34627361595631,
          4.3595836,
          4.36190008308881,
          4.37002603862311,
          4.362642,
          4.3644419999999995,
          4.3659196,
          4.3563627,
          4.3168780753939995,
          4.3548706,
          4.36118152275398,
          4.35806623448817,
          4.36592,
          4.3499098,
          4.32921,
          4.356929,
          4.34529528021812,
          4.3578190999999995,
          4.3564264,
          4.3580585,
          4.354801599999999,
          4.353883746419,
          4.3455847,
          4.3570549000000005,
          6.357300000000009,
          6.3514903999999905,
          6.350740099999999,
          6.3299831515900005,
          6.3494006790984905,
          6.303449,
          6.3491788,
          6.336323240475,
          6.348528,
          6.333876,
          6.35253846130161,
          6.3538708767209995,
          6.3432834999999805,
          6.2815129999999995,
          6.34520855,
          6.353338,
          6.350386371747001,
          6.36702,
          6.3429208,
          6.35557819444273,
          6.30326628684998,
          6.342641,
          6.353343,
          6.34461521,
          6.352387,
          6.354647,
          6.35409096255898,
          6.34313598275185,
          6.3408264,
          6.342843,
          6.358391,
          6.343650942571,
          6.3551950999999995,
          6.3551950999999995,
          6.325990200000001,
          6.335125000000059,
          6.3424907962951895,
          6.355631,
          6.3582753,
          6.32169306278229,
          6.352965860852,
          6.3514904,
          6.3585519999999995,
          6.327724,
          6.300260871648789,
          6.33001287274965,
          6.35964,
          6.3578873,
          6.3279238343238795,
          6.356754667493759,
          4.349857,
          4.355637000000001,
          4.35472676925542,
          4.3879348,
          4.36280185950704,
          4.347915,
          4.36375910000004,
          4.3597831,
          4.35906688830883,
          4.3590621,
          4.32207,
          4.356284,
          4.25264456667333,
          4.364726999999999,
          4.3650199999999995,
          4.366921,
          4.34698,
          4.34992061622097,
          4.360085403076,
          4.296515,
          4.358772399406,
          4.364816659817,
          4.38529,
          4.380243,
          4.380243,
          6.340985,
          6.34262602776289,
          6.3514903999999905,
          6.346775740385059,
          6.3514904,
          6.3560132682324095,
          6.359026074799321,
          6.3550555399510005,
          6.347052703180001,
          6.357518,
          6.3559877872467005,
          6.336336989132629,
          6.35769883802868,
          6.3560360000000005,
          6.35213980000003,
          6.342641,
          6.359452253164999,
          6.362675,
          6.32142,
          6.34291335940361,
          6.3367149000000005,
          6.358890799999999,
          6.354093,
          6.354372,
          6.3548284889649995,
          4.388635501664,
          4.3595184,
          4.33440423123322,
          4.38565535917309,
          4.3323983,
          6.35172106997529,
          6.3408264,
          6.360716,
          6.361154,
          6.3527473,
          6.3550733,
          6.363467389692,
          6.348528,
          6.351975,
          6.342013,
          6.3024373,
          6.348528,
          6.348528,
          6.3529160000000005,
          6.348206144774621,
          6.3512346,
          6.347498000000001,
          6.353827,
          6.340289599999999,
          6.354105000000001,
          6.357718999999941,
          6.364415,
          6.3538607,
          6.356294,
          6.3599190000000005,
          6.3542213000001,
          6.3470347,
          6.343982,
          6.357799,
          6.357703099999981,
          6.356155
         ],
         "marker": {
          "color": [
           8.2,
           8.1,
           7,
           7.3,
           7.9,
           8.1,
           8.1,
           7.9,
           7.5,
           7.7,
           8.1,
           7.5,
           8.4,
           7.8,
           8.9,
           7.2,
           6.7,
           8.8,
           7.4,
           6.8,
           null,
           8.5,
           7.2,
           9.1,
           8.4,
           7.8,
           9.8,
           9.1,
           9.3,
           9.8,
           8.9,
           9.2,
           null,
           9,
           9.7,
           9.5,
           8.9,
           9.2,
           null,
           9.2,
           9.4,
           8.9,
           null,
           8.5,
           9.7,
           9,
           8.5,
           null,
           9.7,
           8.8,
           9.6,
           9,
           7.6,
           9.7,
           8.5,
           7.5,
           8.2,
           7.8,
           8,
           9.7,
           8.5,
           8.3,
           7.3,
           5.3,
           8.7,
           7.6,
           10,
           9.1,
           7.2,
           9.1,
           null,
           9.3,
           8,
           8.9,
           9.3,
           8.1,
           9.9,
           null,
           9.6,
           9.2,
           9.4,
           null,
           8,
           null,
           8,
           9,
           null,
           null,
           9.5,
           8.7,
           8.5,
           8.9,
           9.5,
           9.5,
           9.8,
           9.7,
           8.2,
           9.6,
           null,
           8.1,
           7.1,
           9.2,
           null,
           9.9,
           null,
           9.7,
           8.6,
           8.7,
           9.6,
           7.2,
           8.7,
           8.6,
           8.9,
           9.7,
           8.6,
           9.5,
           9,
           9.7,
           7.8,
           9.7,
           8.4,
           9.2,
           8.5,
           9.5,
           9,
           8.6,
           8.2,
           9.3,
           null,
           8.9,
           9.6,
           9.5,
           8.5,
           8.7,
           null,
           9.1,
           8.2,
           9.4,
           7.5,
           null,
           9.5,
           null,
           9,
           8.8,
           8.8,
           9.6,
           9.4,
           8.6,
           8.3,
           9,
           8.1,
           9.7,
           9.6,
           8.3,
           8.9,
           6.5,
           null,
           8.3,
           8.8,
           8,
           null,
           9.2,
           8.5,
           null,
           7.9,
           8.1,
           9.1,
           9.7,
           8.1,
           5.5,
           8.6,
           9.4,
           9.1,
           9.6,
           9,
           10,
           8.1,
           9.1,
           9.5,
           7.9,
           8.9,
           9.2,
           8.2,
           9.6,
           null,
           null,
           null,
           null,
           8.5,
           null,
           9.1,
           9.5,
           9.3,
           9.7,
           9.3,
           null,
           7.1,
           8.7,
           8.4,
           null,
           9.7,
           8.8,
           8.6,
           9.2,
           9.7,
           8.9,
           9.1,
           10,
           9.6,
           8.8,
           null,
           null,
           8.8,
           null,
           9.5,
           7.4,
           9.3,
           9,
           9.8,
           8.3,
           8.7,
           null,
           9.2,
           8.9,
           7.6,
           null,
           null,
           null,
           null,
           9.7,
           7.8,
           9.5,
           8.5,
           8.7,
           null,
           9.2,
           null,
           6.7,
           null,
           8.2,
           8.6,
           null,
           null,
           null,
           8.5,
           9,
           null,
           7.9,
           null,
           8.6,
           9.4,
           8.1,
           null,
           9.7,
           null,
           null,
           null,
           null,
           9.9,
           8.6,
           null,
           null,
           null,
           null,
           null,
           9.1,
           7.5,
           5.8,
           null,
           null,
           null,
           null,
           9.7,
           8.8,
           7.9,
           null,
           null,
           null,
           9.3,
           9,
           null,
           null,
           9.7,
           7.7,
           7.8,
           null,
           9.1,
           7.9,
           8.4,
           8.9,
           9.3,
           9.4,
           null,
           9.7,
           9.4,
           9.4,
           null,
           7.8,
           6.4,
           null,
           null,
           6.5,
           8.8,
           9.7,
           9.9,
           9.6,
           9.2,
           null,
           null,
           null,
           null,
           null,
           null,
           null,
           8,
           9.2,
           8.2,
           7.8,
           null,
           7.8,
           8,
           8.8,
           null,
           null,
           8.3,
           7.5,
           8.9,
           8.9,
           8.5,
           8.4,
           8.4,
           null,
           null,
           7,
           8.7,
           9.3,
           null,
           null,
           null,
           null,
           null,
           null,
           7,
           null,
           null,
           null,
           null,
           null,
           null,
           null,
           null,
           null,
           null,
           null,
           null,
           null,
           null,
           null,
           null,
           null,
           null,
           null,
           null,
           null,
           null,
           null,
           null,
           null,
           null,
           null,
           null,
           null,
           null,
           null,
           null
          ],
          "coloraxis": "coloraxis"
         },
         "mode": "markers",
         "name": "",
         "showlegend": false,
         "subplot": "mapbox",
         "type": "scattermapbox"
        }
       ],
       "layout": {
        "autosize": true,
        "coloraxis": {
         "colorbar": {
          "title": {
           "text": "score"
          }
         },
         "colorscale": [
          [
           0,
           "rgb(3, 35, 51)"
          ],
          [
           0.09090909090909091,
           "rgb(13, 48, 100)"
          ],
          [
           0.18181818181818182,
           "rgb(53, 50, 155)"
          ],
          [
           0.2727272727272727,
           "rgb(93, 62, 153)"
          ],
          [
           0.36363636363636365,
           "rgb(126, 77, 143)"
          ],
          [
           0.45454545454545453,
           "rgb(158, 89, 135)"
          ],
          [
           0.5454545454545454,
           "rgb(193, 100, 121)"
          ],
          [
           0.6363636363636364,
           "rgb(225, 113, 97)"
          ],
          [
           0.7272727272727273,
           "rgb(246, 139, 69)"
          ],
          [
           0.8181818181818182,
           "rgb(251, 173, 60)"
          ],
          [
           0.9090909090909091,
           "rgb(246, 211, 70)"
          ],
          [
           1,
           "rgb(231, 250, 90)"
          ]
         ]
        },
        "legend": {
         "tracegroupgap": 0
        },
        "mapbox": {
         "bearing": 0,
         "center": {
          "lat": 43.64286939216083,
          "lon": 5.696886553684749
         },
         "domain": {
          "x": [
           0,
           1
          ],
          "y": [
           0,
           1
          ]
         },
         "pitch": 0,
         "style": "carto-positron",
         "zoom": 7.010685565515603
        },
        "margin": {
         "t": 60
        },
        "template": {
         "data": {
          "bar": [
           {
            "error_x": {
             "color": "#2a3f5f"
            },
            "error_y": {
             "color": "#2a3f5f"
            },
            "marker": {
             "line": {
              "color": "#E5ECF6",
              "width": 0.5
             }
            },
            "type": "bar"
           }
          ],
          "barpolar": [
           {
            "marker": {
             "line": {
              "color": "#E5ECF6",
              "width": 0.5
             }
            },
            "type": "barpolar"
           }
          ],
          "carpet": [
           {
            "aaxis": {
             "endlinecolor": "#2a3f5f",
             "gridcolor": "white",
             "linecolor": "white",
             "minorgridcolor": "white",
             "startlinecolor": "#2a3f5f"
            },
            "baxis": {
             "endlinecolor": "#2a3f5f",
             "gridcolor": "white",
             "linecolor": "white",
             "minorgridcolor": "white",
             "startlinecolor": "#2a3f5f"
            },
            "type": "carpet"
           }
          ],
          "choropleth": [
           {
            "colorbar": {
             "outlinewidth": 0,
             "ticks": ""
            },
            "type": "choropleth"
           }
          ],
          "contour": [
           {
            "colorbar": {
             "outlinewidth": 0,
             "ticks": ""
            },
            "colorscale": [
             [
              0,
              "#0d0887"
             ],
             [
              0.1111111111111111,
              "#46039f"
             ],
             [
              0.2222222222222222,
              "#7201a8"
             ],
             [
              0.3333333333333333,
              "#9c179e"
             ],
             [
              0.4444444444444444,
              "#bd3786"
             ],
             [
              0.5555555555555556,
              "#d8576b"
             ],
             [
              0.6666666666666666,
              "#ed7953"
             ],
             [
              0.7777777777777778,
              "#fb9f3a"
             ],
             [
              0.8888888888888888,
              "#fdca26"
             ],
             [
              1,
              "#f0f921"
             ]
            ],
            "type": "contour"
           }
          ],
          "contourcarpet": [
           {
            "colorbar": {
             "outlinewidth": 0,
             "ticks": ""
            },
            "type": "contourcarpet"
           }
          ],
          "heatmap": [
           {
            "colorbar": {
             "outlinewidth": 0,
             "ticks": ""
            },
            "colorscale": [
             [
              0,
              "#0d0887"
             ],
             [
              0.1111111111111111,
              "#46039f"
             ],
             [
              0.2222222222222222,
              "#7201a8"
             ],
             [
              0.3333333333333333,
              "#9c179e"
             ],
             [
              0.4444444444444444,
              "#bd3786"
             ],
             [
              0.5555555555555556,
              "#d8576b"
             ],
             [
              0.6666666666666666,
              "#ed7953"
             ],
             [
              0.7777777777777778,
              "#fb9f3a"
             ],
             [
              0.8888888888888888,
              "#fdca26"
             ],
             [
              1,
              "#f0f921"
             ]
            ],
            "type": "heatmap"
           }
          ],
          "heatmapgl": [
           {
            "colorbar": {
             "outlinewidth": 0,
             "ticks": ""
            },
            "colorscale": [
             [
              0,
              "#0d0887"
             ],
             [
              0.1111111111111111,
              "#46039f"
             ],
             [
              0.2222222222222222,
              "#7201a8"
             ],
             [
              0.3333333333333333,
              "#9c179e"
             ],
             [
              0.4444444444444444,
              "#bd3786"
             ],
             [
              0.5555555555555556,
              "#d8576b"
             ],
             [
              0.6666666666666666,
              "#ed7953"
             ],
             [
              0.7777777777777778,
              "#fb9f3a"
             ],
             [
              0.8888888888888888,
              "#fdca26"
             ],
             [
              1,
              "#f0f921"
             ]
            ],
            "type": "heatmapgl"
           }
          ],
          "histogram": [
           {
            "marker": {
             "colorbar": {
              "outlinewidth": 0,
              "ticks": ""
             }
            },
            "type": "histogram"
           }
          ],
          "histogram2d": [
           {
            "colorbar": {
             "outlinewidth": 0,
             "ticks": ""
            },
            "colorscale": [
             [
              0,
              "#0d0887"
             ],
             [
              0.1111111111111111,
              "#46039f"
             ],
             [
              0.2222222222222222,
              "#7201a8"
             ],
             [
              0.3333333333333333,
              "#9c179e"
             ],
             [
              0.4444444444444444,
              "#bd3786"
             ],
             [
              0.5555555555555556,
              "#d8576b"
             ],
             [
              0.6666666666666666,
              "#ed7953"
             ],
             [
              0.7777777777777778,
              "#fb9f3a"
             ],
             [
              0.8888888888888888,
              "#fdca26"
             ],
             [
              1,
              "#f0f921"
             ]
            ],
            "type": "histogram2d"
           }
          ],
          "histogram2dcontour": [
           {
            "colorbar": {
             "outlinewidth": 0,
             "ticks": ""
            },
            "colorscale": [
             [
              0,
              "#0d0887"
             ],
             [
              0.1111111111111111,
              "#46039f"
             ],
             [
              0.2222222222222222,
              "#7201a8"
             ],
             [
              0.3333333333333333,
              "#9c179e"
             ],
             [
              0.4444444444444444,
              "#bd3786"
             ],
             [
              0.5555555555555556,
              "#d8576b"
             ],
             [
              0.6666666666666666,
              "#ed7953"
             ],
             [
              0.7777777777777778,
              "#fb9f3a"
             ],
             [
              0.8888888888888888,
              "#fdca26"
             ],
             [
              1,
              "#f0f921"
             ]
            ],
            "type": "histogram2dcontour"
           }
          ],
          "mesh3d": [
           {
            "colorbar": {
             "outlinewidth": 0,
             "ticks": ""
            },
            "type": "mesh3d"
           }
          ],
          "parcoords": [
           {
            "line": {
             "colorbar": {
              "outlinewidth": 0,
              "ticks": ""
             }
            },
            "type": "parcoords"
           }
          ],
          "pie": [
           {
            "automargin": true,
            "type": "pie"
           }
          ],
          "scatter": [
           {
            "marker": {
             "colorbar": {
              "outlinewidth": 0,
              "ticks": ""
             }
            },
            "type": "scatter"
           }
          ],
          "scatter3d": [
           {
            "line": {
             "colorbar": {
              "outlinewidth": 0,
              "ticks": ""
             }
            },
            "marker": {
             "colorbar": {
              "outlinewidth": 0,
              "ticks": ""
             }
            },
            "type": "scatter3d"
           }
          ],
          "scattercarpet": [
           {
            "marker": {
             "colorbar": {
              "outlinewidth": 0,
              "ticks": ""
             }
            },
            "type": "scattercarpet"
           }
          ],
          "scattergeo": [
           {
            "marker": {
             "colorbar": {
              "outlinewidth": 0,
              "ticks": ""
             }
            },
            "type": "scattergeo"
           }
          ],
          "scattergl": [
           {
            "marker": {
             "colorbar": {
              "outlinewidth": 0,
              "ticks": ""
             }
            },
            "type": "scattergl"
           }
          ],
          "scattermapbox": [
           {
            "marker": {
             "colorbar": {
              "outlinewidth": 0,
              "ticks": ""
             }
            },
            "type": "scattermapbox"
           }
          ],
          "scatterpolar": [
           {
            "marker": {
             "colorbar": {
              "outlinewidth": 0,
              "ticks": ""
             }
            },
            "type": "scatterpolar"
           }
          ],
          "scatterpolargl": [
           {
            "marker": {
             "colorbar": {
              "outlinewidth": 0,
              "ticks": ""
             }
            },
            "type": "scatterpolargl"
           }
          ],
          "scatterternary": [
           {
            "marker": {
             "colorbar": {
              "outlinewidth": 0,
              "ticks": ""
             }
            },
            "type": "scatterternary"
           }
          ],
          "surface": [
           {
            "colorbar": {
             "outlinewidth": 0,
             "ticks": ""
            },
            "colorscale": [
             [
              0,
              "#0d0887"
             ],
             [
              0.1111111111111111,
              "#46039f"
             ],
             [
              0.2222222222222222,
              "#7201a8"
             ],
             [
              0.3333333333333333,
              "#9c179e"
             ],
             [
              0.4444444444444444,
              "#bd3786"
             ],
             [
              0.5555555555555556,
              "#d8576b"
             ],
             [
              0.6666666666666666,
              "#ed7953"
             ],
             [
              0.7777777777777778,
              "#fb9f3a"
             ],
             [
              0.8888888888888888,
              "#fdca26"
             ],
             [
              1,
              "#f0f921"
             ]
            ],
            "type": "surface"
           }
          ],
          "table": [
           {
            "cells": {
             "fill": {
              "color": "#EBF0F8"
             },
             "line": {
              "color": "white"
             }
            },
            "header": {
             "fill": {
              "color": "#C8D4E3"
             },
             "line": {
              "color": "white"
             }
            },
            "type": "table"
           }
          ]
         },
         "layout": {
          "annotationdefaults": {
           "arrowcolor": "#2a3f5f",
           "arrowhead": 0,
           "arrowwidth": 1
          },
          "coloraxis": {
           "colorbar": {
            "outlinewidth": 0,
            "ticks": ""
           }
          },
          "colorscale": {
           "diverging": [
            [
             0,
             "#8e0152"
            ],
            [
             0.1,
             "#c51b7d"
            ],
            [
             0.2,
             "#de77ae"
            ],
            [
             0.3,
             "#f1b6da"
            ],
            [
             0.4,
             "#fde0ef"
            ],
            [
             0.5,
             "#f7f7f7"
            ],
            [
             0.6,
             "#e6f5d0"
            ],
            [
             0.7,
             "#b8e186"
            ],
            [
             0.8,
             "#7fbc41"
            ],
            [
             0.9,
             "#4d9221"
            ],
            [
             1,
             "#276419"
            ]
           ],
           "sequential": [
            [
             0,
             "#0d0887"
            ],
            [
             0.1111111111111111,
             "#46039f"
            ],
            [
             0.2222222222222222,
             "#7201a8"
            ],
            [
             0.3333333333333333,
             "#9c179e"
            ],
            [
             0.4444444444444444,
             "#bd3786"
            ],
            [
             0.5555555555555556,
             "#d8576b"
            ],
            [
             0.6666666666666666,
             "#ed7953"
            ],
            [
             0.7777777777777778,
             "#fb9f3a"
            ],
            [
             0.8888888888888888,
             "#fdca26"
            ],
            [
             1,
             "#f0f921"
            ]
           ],
           "sequentialminus": [
            [
             0,
             "#0d0887"
            ],
            [
             0.1111111111111111,
             "#46039f"
            ],
            [
             0.2222222222222222,
             "#7201a8"
            ],
            [
             0.3333333333333333,
             "#9c179e"
            ],
            [
             0.4444444444444444,
             "#bd3786"
            ],
            [
             0.5555555555555556,
             "#d8576b"
            ],
            [
             0.6666666666666666,
             "#ed7953"
            ],
            [
             0.7777777777777778,
             "#fb9f3a"
            ],
            [
             0.8888888888888888,
             "#fdca26"
            ],
            [
             1,
             "#f0f921"
            ]
           ]
          },
          "colorway": [
           "#636efa",
           "#EF553B",
           "#00cc96",
           "#ab63fa",
           "#FFA15A",
           "#19d3f3",
           "#FF6692",
           "#B6E880",
           "#FF97FF",
           "#FECB52"
          ],
          "font": {
           "color": "#2a3f5f"
          },
          "geo": {
           "bgcolor": "white",
           "lakecolor": "white",
           "landcolor": "#E5ECF6",
           "showlakes": true,
           "showland": true,
           "subunitcolor": "white"
          },
          "hoverlabel": {
           "align": "left"
          },
          "hovermode": "closest",
          "mapbox": {
           "style": "light"
          },
          "paper_bgcolor": "white",
          "plot_bgcolor": "#E5ECF6",
          "polar": {
           "angularaxis": {
            "gridcolor": "white",
            "linecolor": "white",
            "ticks": ""
           },
           "bgcolor": "#E5ECF6",
           "radialaxis": {
            "gridcolor": "white",
            "linecolor": "white",
            "ticks": ""
           }
          },
          "scene": {
           "xaxis": {
            "backgroundcolor": "#E5ECF6",
            "gridcolor": "white",
            "gridwidth": 2,
            "linecolor": "white",
            "showbackground": true,
            "ticks": "",
            "zerolinecolor": "white"
           },
           "yaxis": {
            "backgroundcolor": "#E5ECF6",
            "gridcolor": "white",
            "gridwidth": 2,
            "linecolor": "white",
            "showbackground": true,
            "ticks": "",
            "zerolinecolor": "white"
           },
           "zaxis": {
            "backgroundcolor": "#E5ECF6",
            "gridcolor": "white",
            "gridwidth": 2,
            "linecolor": "white",
            "showbackground": true,
            "ticks": "",
            "zerolinecolor": "white"
           }
          },
          "shapedefaults": {
           "line": {
            "color": "#2a3f5f"
           }
          },
          "ternary": {
           "aaxis": {
            "gridcolor": "white",
            "linecolor": "white",
            "ticks": ""
           },
           "baxis": {
            "gridcolor": "white",
            "linecolor": "white",
            "ticks": ""
           },
           "bgcolor": "#E5ECF6",
           "caxis": {
            "gridcolor": "white",
            "linecolor": "white",
            "ticks": ""
           }
          },
          "title": {
           "x": 0.05
          },
          "xaxis": {
           "automargin": true,
           "gridcolor": "white",
           "linecolor": "white",
           "ticks": "",
           "title": {
            "standoff": 15
           },
           "zerolinecolor": "white",
           "zerolinewidth": 2
          },
          "yaxis": {
           "automargin": true,
           "gridcolor": "white",
           "linecolor": "white",
           "ticks": "",
           "title": {
            "standoff": 15
           },
           "zerolinecolor": "white",
           "zerolinewidth": 2
          }
         }
        }
       }
      },
      "image/png": "[encoded data removed]",
      "text/html": [
       "<div>\n",
       "        \n",
       "        \n",
       "            <div id=\"ddd2a977-baba-40f1-94e5-cc0146036cb2\" class=\"plotly-graph-div\" style=\"height:525px; width:100%;\"></div>\n",
       "            <script type=\"text/javascript\">\n",
       "                require([\"plotly\"], function(Plotly) {\n",
       "                    window.PLOTLYENV=window.PLOTLYENV || {};\n",
       "                    \n",
       "                if (document.getElementById(\"ddd2a977-baba-40f1-94e5-cc0146036cb2\")) {\n",
       "                    Plotly.newPlot(\n",
       "                        'ddd2a977-baba-40f1-94e5-cc0146036cb2',\n",
       "                        [{\"customdata\": [[\"Odalys City N\\u00eemes Le Cheval Blanc\", 3.0], [\"Best Western Marquis de la Baume\", 4.0], [\"Campanile N\\u00eemes Centre Mas-Carbonnel\", 3.0], [\"Appart'City Nimes\", 3.0], [\"Kyriad N\\u00eemes Ouest A9\", 3.0], [\"Royal H\\u00f4tel\", 3.0], [\"Novotel Atria Nimes Centre\", 4.0], [\"ibis N\\u00eemes Ouest - A9\", 3.0], [\"H\\u00d4TEL C SUITES**** chambres spacieuses, s\\u00e9jours th\\u00e9matiques\", 4.0], [\"Zenitude H\\u00f4tel-R\\u00e9sidences N\\u00eemes Centre\", 3.0], [\"ibis budget Nimes Centre Gare\", 2.0], [\"H\\u00d4TEL B&B Ville Active*** tr\\u00e8s bien situ\\u00e9, parking s\\u00e9curis\\u00e9 gratuit\", 3.0], [\"ibis Styles Nimes Gare Centre\", 3.0], [\"Best Western L'Orangerie\", 3.0], [\"Appart'City Confort Nimes Arenes\", 4.0], [\"The Originals City, H\\u00f4tel Costi\\u00e8res, N\\u00eemes (Inter-Hotel)\", 3.0], [\"hotelF1 N\\u00eemes Ouest\", null], [\"Hotel Majestic\", 3.0], [\"Logis NIMOTEL*** H\\u00f4tel Cosy et restaurant de terroir\", 3.0], [\"Kyriad Nimes Centre\", 3.0], [\"NOUVEAU - Le Petit paradis n\\u00eemois\", null], [\"H\\u00f4tel De L'Amphith\\u00e9\\u00e2tre\", 3.0], [\"Hotel Concorde\", 1.0], [\"Maison Albar Hotels L\\u2019Imperator\", 5.0], [\"Hotel Des Tuileries\", 2.0], [\"UZES APPART HOTEL R\\u00e9sidence Le Mas des Oliviers\", 3.0], [\"Mas d orient\", 4.0], [\"MAISON 2 APPTS et 1 CHAMBRE - CONCIERGERIE DE L'UZEGE\", 4.0], [\"Le trente trois\", 3.0], [\"DUPLEX CENTRE HISTORIQUE UZES\", 4.0], [\"Boutique H\\u00f4tel Entraigues\", 4.0], [\"La Maison Rouge d'Uzes B&B\", 3.0], [\"XIXe Provencal Stone House with Private Pool\", null], [\"H\\u00f4tel Le Saint-Geni\\u00e8s\", 3.0], [\"Maison De La Bourgade\", 4.0], [\"Uz\\u00e8s \\u00e0 pied, Appartement dans cadre d'exception\", null], [\"La Maison d'Uz\\u00e8s Relais & Ch\\u00e2teaux\", 5.0], [\"Maison de charme Uz\\u00e8s\", null], [\"Maison centre ville UZES\", null], [\"Appartement proche de la Place aux Herbes Uz\\u00e8s\", 3.0], [\"L'Oustalet\", 3.0], [\"Maison des Bouvreuils\", 3.0], [\"La boh\\u00e8me\", null], [\"Appartement des amoureux\", null], [\"Les Terrasses\", 3.0], [\"Les c\\u00e8dres\", 3.0], [\"Le Mas du Lac\", 3.0], [\"Urbain V\", null], [\"In Situ\", 3.0], [\"R\\u00e9sidence La Bastide d'Uzes\", 3.0], [\"Villa des Jardins de la Fontaine\", null], [\"Jardins Secrets\", 5.0], [\"Hotel Mas De Galoffre\", 3.0], [\"Appartement avec terrasse panoramique au coeur de N\\u00eemes\", 3.0], [\"H\\u00f4tel Le Pr\\u00e9 Galoffre\", 3.0], [\"B&B H\\u00f4tel N\\u00eemes Centre Ar\\u00e8nes\", 2.0], [\"H\\u00f4tel & Spa Vatel\", 4.0], [\"Hotel Cote Patio\", 3.0], [\"Mas la Farelle\", null], [\"Mas d'Escattes\", 3.0], [\"Allegria N\\u00eemes\", 3.0], [\"Appartements nimes\", 3.0], [\"Chambre au centre ville\", null], [\"Le panoramique lumineux avec Clim\", null], [\"Joli mazet \\u00e0 N\\u00eemes au c\\u0153ur de la garrigue\", null], [\"Central Hotel\", 3.0], [\"Grand confort au c\\u0153ur de N\\u00eemes\", null], [\"Villa farniente\", null], [\"Heart of N\\u00eemes\", 3.0], [\"La Maison Rousseau Chambre d'h\\u00f4tes\", null], [\"La Villa Capuccine\", null], [\"Dolce N\\u00ceMES CENTRE\", 3.0], [\"Mas la Farelle\", 3.0], [\"Au C\\u0153ur de la Cit\\u00e9 des Antonins\", null], [\"Chambre d'H\\u00f4tes de Charme Le Bartas\", 3.0], [\"Le mazet d'Uz\\u00e8s\", 3.0], [\"AU BORD DE L'ALZON\", 3.0], [\"Maison individuelle \\u00e0 10 mn \\u00e0 pied du centre ville\", null], [\"Appartement dans Hotel de Flaux\", 3.0], [\"Le Sabotier\", null], [\"Le Clos d'Uz\\u00e8s - B&B\", 3.0], [\"Mazet de la Lavande\", null], [\"Les Olives\", 3.0], [\"Le Vincent, appartement de charme \\u00e0 Uz\\u00e8s\", null], [\"Joli studio au c\\u0153ur d'Uz\\u00e8s\", null], [\"Le Portalet\", 3.0], [\"Chez Vous\", 4.0], [\"Le g\\u00eete\", null], [\"RAVISSANT STUDIO\", 3.0], [\"Appartement avec Piscine priv\\u00e9e dans R\\u00e9sidence pour 6 personnes\", 3.0], [\"Appartement 2 \\u00e0 4 personnes rue pi\\u00e9tonne centre historique\", 4.0], [\"les bignones\", null], [\"Le Mas des Alexandrins\", 3.0], [\"BEL APPARTEMENT SPACIEUX CENTRE VILLE UZES T3\", null], [\"Le Pr\\u00e9 Aux Cigales\", 3.0], [\"L'Albiousse\", 4.0], [\"La gar\\u00e7onni\\u00e8red\\u2019Uzes\", 3.0], [\"UZES DECOUVERTES\", null], [\"Apartment Poppy\", 3.0], [\"Les G\\u00eetes de Cayenne - G\\u00eete Olivia\", 3.0], [\"H\\u00f4tel Abalone - Centre Gare\", 2.0], [\"*DOLCE NIMES - T2 STANDING - CLIM *\", 3.0], [\"La Bastide\", 4.0], [\"Antichambre\", 4.0], [\"A 2mn de la Coupole, T1 COSY, plein centre\", null], [\"Feel@Home Nemausus \\u00ab Le 4 \\u00bb\", 3.0], [\"Twenty's Business Flats N\\u00eemes Trigone\", 3.0], [\"Appart sympa dans le vieux Nimes\", null], [\"Feel@Home Nemausus \\u00ab Le 42 \\u00bb\", 3.0], [\"Citotel H\\u00f4tel Cesar\", 2.0], [\"Face \\u00e0 face unique avec les ar\\u00e8nes\", 3.0], [\"Antonin - Premiere conciergerie\", 3.0], [\"Les Trois Rois\", null], [\"Le Bonheur de la Campagne \\u00e0 la Ville\", 3.0], [\"Ingrid Mary\", 3.0], [\"le logis de l\\u2019\\u00e9toile\", 3.0], [\"Mazet proven\\u00e7al d'exception au coeur de Nimes\", null], [\"Feel@Home Nemausus \\u00ab Le 11 \\u00bb\", 3.0], [\"Ciel de N\\u00eemes - Premi\\u00e8re conciergerie\", 3.0], [\"La place Zen - Free Wifi - City Center\", 3.0], [\"appartement centre ville ar\\u00e8nes neufs climatise 50m2 cuisine \\u00e9quip\\u00e9e 4 personnes et wifi fibre\", 3.0], [\"L\\u2019\\u00eelot Dailleurs\", null], [\"Maison de ville \\u00e0 N\\u00eemes\", 3.0], [\"le pool house\", null], [\"Chez Pepito Rooftop\", 3.0], [\"Tour du Roy\", 3.0], [\"au 5 de la SOURCE - 3*\", null], [\"Appartement Les Marronniers\", 3.0], [\"Un instant en Uzege...\", null], [\"La Taverne\", 2.0], [\"Mazet de M\\u00f4\", 3.0], [\"One-Bedroom Apartment in Uzes\", 3.0], [\"Appartement Paradis - Uz\\u00e8s-Pietra ducale\", null], [\"La Pascallane\", null], [\"Maison Andr\\u00e9\", null], [\"Uz\\u00e8s Townhouse with Loggia & Views\", 3.0], [\"Le mas des Lilas\", 3.0], [\"Mas Myro\", 3.0], [\"Moulin du Pont d'Alzon\", null], [\"Appartement 3 mn a pied du centre d'Uz\\u00e8s\", null], [\"Apartment Au Gr\\u00e9 Du Voyage\", 3.0], [\"Duch\\u00e9 d'Uz\\u00e8s Villa Celina Avenue des C\\u00e9vennes\", null], [\"Calme et Charmant Studio \\u00e0 deux pas du centre historique d Uz\\u00e8s\", 3.0], [\"La Maison Comte, Uz\\u00e8s\", 3.0], [\"Patio De Violette\", 3.0], [\"Le domaine des Or\\u00e9ades\", null], [\"Le Mas Blanc Uz\\u00e8s\", null], [\"Les to\\u00eets d'Uz\\u00e8s\", 3.0], [\"La Maisonnette romantique\", 3.0], [\"Appartement avec belle vue sur le duch\\u00e9\", null], [\"Studio N\\u00eemes Centre\", 3.0], [\"La Suite de Diane\", 4.0], [\"Une \\u00e2me \\u00e0 N\\u00eemes : La Suite\", 4.0], [\"Calme et Cosy\", null], [\"R\\u00e9sidence La Servie Studio 7\", 3.0], [\"Chambre chez l habitant\", null], [\"Studio proche gare et centre ville\", null], [\"N\\u00eemes Appart centre ville N\\u00eemes\", null], [\"Appart Le Massillon Arenes Centre\", 2.0], [\"Appartement Garance\", 3.0], [\"T2Nimes Parking Balcon Wifi Eric\", null], [\"Appartement \\u00e0 N\\u00eemes en pleine nature avec Piscine\", 3.0], [\"B&B Le Garric\", 3.0], [\"KNF HOUSE - Superbe T2 DUPLEX, \\u00e0 5min des Ar\\u00e8nes\", null], [\"Charmant deux-pi\\u00e8ces de 37m2 avec belle terrasse\", null], [\"Palmiers et Crocos du vieux N\\u00eemes\", null], [\"joli appartement lumineux et spacieux\", 3.0], [\"Une \\u00e2me \\u00e0 N\\u00eemes : cot\\u00e9 cour\", 4.0], [\"R\\u00e9sidenceLa Servie Studio 6\", 3.0], [\"Chambre SDB WC WIFI chambre chez l habitant\", null], [\"jardin des pr\\u00eacheurs\", 3.0], [\"T'en Fouti\", null], [\"Cosy CROCO - Appart T2 Centre N\\u00eemes - Wifi et Parking\", 3.0], [\"Appart charme Arenes Nimes\", 3.0], [\"Calme cocon troglodyte au coeur de la ville\", 3.0], [\"Bon Jour Uz\\u00e8s\", null], [\"Appart'17-Domaine de la source\", 3.0], [\"Appartement 1 chambre avec Piscine\", null], [\"Le Logis du Castel\", null], [\"Maison des Arts\", null], [\"Bacchus Chambres d'h\\u00f4tes NON FUMEUR\", null], [\"La Villa L\\u00e9a\", 3.0], [\"Auberge d'Uzes\", 2.0], [\"Les Olivettes\", 3.0], [\"Les belles de Blauzac\", null], [\"les bignones centre Uz\\u00e8s\", null], [\"Appartement centre Uz\\u00e8s, terrasse et parking\", null], [\"Jewel of Uz\\u00e8s\", null], [\"L'Escalette appart\", 3.0], [\"A 1mn des Ar\\u00e8nes, grand studio de charme, cosy\", null], [\"N\\u00eemes en Garrigues\", null], [\"Patrick&Pierre Bed and Breakfast N\\u00eemes\", 3.0], [\"Les villas du triangle - chambres d'h\\u00f4tes\", 3.0], [\"Bed and Breakfast P&P N\\u00eemes-Centre\", 3.0], [\"Tee 3\", 3.0], [\"Appartement, piscine dans un superbe environnement\", null], [\"Severine\", 3.0], [\"Cosy N\\u00eemes\", 3.0], [\"R\\u00e9sidence Du Golf\", 3.0], [\"Studio spacieux \\u00e0 5 minutes du centre\", null], [\"200 Traverse du Pissadou\", null], [\"le B\\u00e9n\\u00e9dictins\", 3.0], [\"Appartement proche centre ville design et calme\", 3.0], [\"N\\u00ceMES ROUSSY\", null], [\"Studio - Les villas du triangle\", 3.0], [\"coquelicot\", null], [\"Appartement Denim\", 3.0], [\"Suite 609\", null], [\"Le Mas Des Cigales\", 3.0], [\"Petit Studio 13 m2 avec terrasse 15 mn centre Nimes\", 3.0], [\"mas des oliviers\", null], [\"Maison familiale \\u00e0 N\\u00eemes\", null], [\"Chez Eve\", 3.0], [\"La balade N\\u00eemoise - Centre - Parking - Clim\", null], [\"Appartement Spacieux de Grand Standing de 200 m\\u00b2\", 3.0], [\"Grand H\\u00f4tel de N\\u00eemes\", 4.0], [\"le 39\", null], [\"Les Esclafidous\", 3.0], [\"Bien Loin d'Ici Spa B&B\", 4.0], [\"les charmilles\", 3.0], [\"Insula I - Appartement Arenes Centre-ville\", 3.0], [\"Residence La Servie Appart N\\u00b020\", null], [\"Appartement Priv\\u00e9 Climatis\\u00e9 entre Ar\\u00e8nes et Maison Carr\\u00e9e\", 4.0], [\"Mazet\", null], [\"LE ROYAL\", null], [\"Studio avec Parking\", null], [\"Grand studio centre ville\", null], [\"RESIDENCE LA SERVIE\", null], [\"P2 - NEUF - BALCON - COEUR DE VILLE\", null], [\"liste rouge\", null], [\"Chambre ind\\u00e9pendante avec SDB-Terrasse privative. Centre ville\", 3.0], [\"Chambre d'H\\u00f4tes de la Carriere Romaine\", 3.0], [\"Terrasse trop\\u00e9zienne centre Nimes\", null], [\"Cocon Boh\\u00e8me, nid douillet proche maison carr\\u00e9e\", null], [\"Le Croco Citadin, charme de l'ancien en centre-ville, parking inclus\", null], [\"Duplex Denim\", 3.0], [\"Loft Boh\\u00e8me Placette\", null], [\"\\u2606LE COCOON\\u2606STUDIO - CENTRE-VILLE\\u2606\", null], [\"Logement 120 M2 & option bureaux\", null], [\"Hotel La Voile\", 3.0], [\"Les Terrasses Du Mirage\", 3.0], [\"villa du sud piscine\", null], [\"Le Mas de la Griotte\", 4.0], [\"Villa with 5 bedrooms in BormeslesMimosas with private pool\", 4.0], [\"Merveille\", 3.0], [\"Le petit atelier\", null], [\"lou mazet\", null], [\"Provencal Holiday Home in Bormes-les-Mimosas with Terrace\", 3.0], [\"Appartement Bormes-les-Mimosas, 2 pi\\u00e8ces, 4 personnes - FR-1-308-51\", null], [\"Gaou Benat\", null], [\"Ou Souleou\", 3.0], [\"Hostellerie du Cigalou - Les Collectionneurs\", 3.0], [\"Stunning Villa in La Londe-les-Maures with Private Pool\", 3.0], [\"charmante villa individuelle proche de la mer\", 3.0], [\"Appartement Bormes-les-Mimosas, 2 pi\\u00e8ces, 5 personnes - FR-1-251-136\", null], [\"Vue mer. Domaine Gaou B\\u00e9nat. Bormes les Mimosas. Appt 1 ch. 2-4 pers\", null], [\"Appartement Bormes-les-Mimosas, 3 pi\\u00e8ces, 6 personnes - FR-1-308-48\", null], [\"STUDIO GEORGETTE\", null], [\"So&Ca C\\u00f4te d'Azur II\", 3.0], [\"Hotel Les Jardins de Bormes\", 3.0], [\"Appartement climatis\\u00e9 neuf vieux village Bormes\", 3.0], [\"Appartement Bormes-les-Mimosas, 2 pi\\u00e8ces, 4 personnes - FR-1-251-358\", null], [\"Holiday Home Jalna - BOM120\", 3.0], [\"Appartement Bormes-les-Mimosas, 2 pi\\u00e8ces, 4 personnes - FR-1-251-334\", null], [\"Appartement Bormes-les-Mimosas, 1 pi\\u00e8ce, 2 personnes - FR-1-251-161\", null], [\"Studio La Faviere\", 2.0], [\"Hotel Restaurant Bellevue\", 2.0], [\"Studio Village de Bormes les Mimosas-1\", 2.0], [\"Maison Bormes-les-Mimosas, 2 pi\\u00e8ces, 6 personnes - FR-1-251-273\", null], [\"Appartement Bormes-les-Mimosas, 1 pi\\u00e8ce, 4 personnes - FR-1-251-320\", 2.0], [\"Maison exotique et jacuzzi option s\\u00e9jour activit\\u00e9s incluses\", null], [\"Rez de Villa Bormes les mimosas le Lavandou\", null], [\"Maison Villa vue mer piscine Bormes les mimosas Le Lavandou\", null], [\"Les Bastides du Haut Para\", 4.0], [\"H\\u00f4tel Paradis\", 2.0], [\"Appartement climatis\\u00e9 neuf vieux village Bormes\", 3.0], [\"Appartement Bormes-les-Mimosas, 1 pi\\u00e8ce, 4 personnes - FR-1-251-2\", null], [\"bleu marine\", null], [\"Villa Nais B&B\", 3.0], [\"Grand Studio 3 \\u00e9toiles\", null], [\"Appartement vue mer \\\"Les Terrasses du mirage\\\"\", null], [\"Appartement Bormes-les-Mimosas, 2 pi\\u00e8ces, 4 personnes - FR-1-251-40\", 2.0], [\"HomeStay Bormes\", null], [\"H\\u00f4tel Les Mimosas\", 2.0], [\"Camping Lou Cabasson\", 3.0], [\"Appartement Bormes-les-Mimosas, 1 pi\\u00e8ce, 3 personnes - FR-1-308-125\", null], [\"Studio cabine Les Rives de la Favi\\u00e8re piscine et tennis les pieds dans l'eau\", null], [\"Le Hameau de la Nicolini\\u00e8re\", 3.0], [\"Apartement Bord de Mer La Faviere\", 3.0], [\"Suite Priv\\u00e9e Bed and Breakfast\", null], [\"Le mazet en \\u00e9t\\u00e9\", null], [\"Villa Meridia\", 4.0], [\"Le clos des combettes\", null], [\"Cocon du Sud\", 4.0], [\"Chambres d'H\\u00f4tes Lovely Planette\", 3.0], [\"Studio N\\u00b01\", 3.0], [\"DOMUS ARENA\", null], [\"Patio Ar\\u00e8nes\", 3.0], [\"L 'AUTHENTIK - STUDIO - IMMERSION COEUR DE VILLE\", null], [\"Le Mazet Camplanier Nimes\", null], [\"Suite & Spa No idem\", null], [\"auberge des garrigues\", 1.0], [\"Appartement Romanit\\u00e9\", 3.0], [\"la pause nimoise\", null], [\"La chambre haute\", 3.0], [\"Chambre c\\u00f4t\\u00e9 jardin\", 3.0], [\"Inn 4 Bears\", 3.0], [\"Petit Paradis Nemausus\", null], [\"Villa de la Phal\\u00e8ne\", 4.0], [\"Au coeur de N\\u00eemes \\u00e0 100m des Ar\\u00e8nes - Discover Nimes\", null], [\"VILLA LUMIERE\", null], [\"Modern Villa in Nimes with Private Pool\", 4.0], [\"appartement P3 neuf 50 m2\", null], [\"appart neuf P3 nimes\", null], [\"Appartement Bormes-les-Mimosas, 2 pi\\u00e8ces, 4 personnes - FR-1-251-311\", null], [\"Studio centre historique de Bormes les Mimosas\", 3.0], [\"Les Terrasses\", 3.0], [\"Camping Clau Mar Jo\", 4.0], [\"LES TERRACH\", null], [\"L\\u2019Heure Bleue\", null], [\"Asklan\", 3.0], [\"SELECT'soHOME Le BELLA VISTA\", null], [\"Grand T3 class\\u00e9 3 \\u00e9toiles- CLIM + 2 terrasses\", null], [\"Appartement Bormes-les-Mimosas, 1 pi\\u00e8ce, 4 personnes - FR-1-251-271\", null], [\"Les Iles d' Or Appartement\", null], [\"Village Vacances La Manne\", null], [\"L'Amiraut\\u00e9\", 3.0], [\"Chambres d'h\\u00f4tes \\\"Les Passiflores\\\"\", 3.0], [\"Superbe Duplex 35m2 vue mer avec piscine\", 3.0], [\"Coeur de village\", 3.0], [\"Appartement La Favi\\u00e8re\", null], [\"SERENADA\", null], [\"Camping manjastre ***\", null], [\"Brise Marine\", null], [\"Studio avec Jardin et Parking Priv\\u00e9s\", 3.0], [\"Sud R\\u00e9sidence F1 bis\", null], [\"Appartement Bormes-les-Mimosas, 2 pi\\u00e8ces, 4 personnes - FR-1-251-370\", null], [\"Appartement Bormes-les-Mimosas, 2 pi\\u00e8ces, 4 personnes - FR-1-251-365\", null], [\"studio \\u00e0 la favi\\u00e8re 2 \\u00e9toiles\", null], [\"ROUSSILLON\", null], [\"Atipyc Nimes\", null], [\"Auberge de Jeunesse HI N\\u00eemes\", null], [\"Les Jardins de Pasteur\", 3.0], [\"Le coin du soleil\", null], [\"Studio in BormeslesMimosas with wonderful sea view shared pool and enclosed garden\", 3.0], [\"Apartment Village de Bormes les Mimosas-2\", 2.0], [\"Appartement Bormes-les-Mimosas, 2 pi\\u00e8ces, 4 personnes - FR-1-251-373\", null], [\"Appartement Bormes-les-Mimosas, 3 pi\\u00e8ces, 5 personnes - FR-1-251-371\", null], [\"Bormes les Mimosas\", 4.0], [\"L'oiseau du Paradis\", null], [\"Le Residence des angles avec vue sur mer\", null], [\"Boutique Holiday Home in Bormes-les-Mimosas with Pool\", 3.0], [\"Maison Bormes-les-Mimosas, 4 pi\\u00e8ces, 6 personnes - FR-1-308-27\", null], [\"Maison Bormes-les-Mimosas, 2 pi\\u00e8ces, 4 personnes - FR-1-308-70\", 2.0], [\"Villa Le Pas de Courtin\", 4.0], [\"Provencal Holiday Home in Bormes-les-Mimosas with Pool\", 3.0], [\"Cosy Holiday Home in Bormes-les-Mimosas Near Sea\", 3.0], [\"Appartement Bormes-les-Mimosas, 2 pi\\u00e8ces, 4 personnes - FR-1-251-313\", null], [\"Villa with 3 bedrooms in BormeslesMimosas with private pool and enclosed garden 4 km from the beach\", 3.0], [\"Villa Mimosas\", 3.0], [\"Gaou Villa Vue Panoramique\", null], [\"Appartement Bormes-les-Mimosas, 2 pi\\u00e8ces, 4 personnes - FR-1-251-111\", null], [\"Villa proven\\u00e7ale proche plages\", null], [\"Appartement Bormes-les-Mimosas, 4 pi\\u00e8ces, 6 personnes - FR-1-251-209\", null], [\"Studio in BormeslesMimosas with enclosed garden and WiFi 400 m from the beach\", 3.0], [\"Appartement Bormes-les-Mimosas, 2 pi\\u00e8ces, 6 personnes - FR-1-251-211\", null], [\"Maeva Particuliers - Studio 2 personnes plages et criques\", null], [\"Appartement Bormes-les-Mimosas, 3 pi\\u00e8ces, 4 personnes - FR-1-251-76\", 2.0], [\"Appartement Bormes-les-Mimosas, 2 pi\\u00e8ces, 4 personnes - FR-1-251-220\", null], [\"Les Eucalyptus\", 4.0], [\"Plein Ciel\", 3.0], [\"Cozy Villa in Bormes-les-Mimosas with Private Pool\", 4.0], [\"Appartement Bormes-les-Mimosas, 1 pi\\u00e8ce, 4 personnes - FR-1-251-226\", null], [\"Studio in BormeslesMimosas with wonderful sea view private pool and balcony 50 m from the beach\", 3.0], [\"Appartement Bormes-les-Mimosas, 2 pi\\u00e8ces, 4 personnes - FR-1-251-351\", null]], \"hovertemplate\": \"<b>%{hovertext}</b><br><br>lattitude=%{lat}<br>longitude=%{lon}<br>name=%{customdata[0]}<br>ranking=%{customdata[1]}<br>score=%{marker.color}<extra></extra>\", \"hovertext\": [\"Nimes\", \"Nimes\", \"Nimes\", \"Nimes\", \"Nimes\", \"Nimes\", \"Nimes\", \"Nimes\", \"Nimes\", \"Nimes\", \"Nimes\", \"Nimes\", \"Nimes\", \"Nimes\", \"Nimes\", \"Nimes\", \"Nimes\", \"Nimes\", \"Nimes\", \"Nimes\", \"Nimes\", \"Nimes\", \"Nimes\", \"Nimes\", \"Nimes\", \"Uzes\", \"Uzes\", \"Uzes\", \"Uzes\", \"Uzes\", \"Uzes\", \"Uzes\", \"Uzes\", \"Uzes\", \"Uzes\", \"Uzes\", \"Uzes\", \"Uzes\", \"Uzes\", \"Uzes\", \"Uzes\", \"Uzes\", \"Uzes\", \"Uzes\", \"Uzes\", \"Uzes\", \"Uzes\", \"Uzes\", \"Uzes\", \"Uzes\", \"Nimes\", \"Nimes\", \"Nimes\", \"Nimes\", \"Nimes\", \"Nimes\", \"Nimes\", \"Nimes\", \"Nimes\", \"Nimes\", \"Nimes\", \"Nimes\", \"Nimes\", \"Nimes\", \"Nimes\", \"Nimes\", \"Nimes\", \"Nimes\", \"Nimes\", \"Nimes\", \"Nimes\", \"Nimes\", \"Nimes\", \"Nimes\", \"Nimes\", \"Uzes\", \"Uzes\", \"Uzes\", \"Uzes\", \"Uzes\", \"Uzes\", \"Uzes\", \"Uzes\", \"Uzes\", \"Uzes\", \"Uzes\", \"Uzes\", \"Uzes\", \"Uzes\", \"Uzes\", \"Uzes\", \"Uzes\", \"Uzes\", \"Uzes\", \"Uzes\", \"Uzes\", \"Uzes\", \"Uzes\", \"Uzes\", \"Uzes\", \"Nimes\", \"Nimes\", \"Nimes\", \"Nimes\", \"Nimes\", \"Nimes\", \"Nimes\", \"Nimes\", \"Nimes\", \"Nimes\", \"Nimes\", \"Nimes\", \"Nimes\", \"Nimes\", \"Nimes\", \"Nimes\", \"Nimes\", \"Nimes\", \"Nimes\", \"Nimes\", \"Nimes\", \"Nimes\", \"Nimes\", \"Nimes\", \"Nimes\", \"Uzes\", \"Uzes\", \"Uzes\", \"Uzes\", \"Uzes\", \"Uzes\", \"Uzes\", \"Uzes\", \"Uzes\", \"Uzes\", \"Uzes\", \"Uzes\", \"Uzes\", \"Uzes\", \"Uzes\", \"Uzes\", \"Uzes\", \"Uzes\", \"Uzes\", \"Uzes\", \"Uzes\", \"Uzes\", \"Uzes\", \"Uzes\", \"Uzes\", \"Nimes\", \"Nimes\", \"Nimes\", \"Nimes\", \"Nimes\", \"Nimes\", \"Nimes\", \"Nimes\", \"Nimes\", \"Nimes\", \"Nimes\", \"Nimes\", \"Nimes\", \"Nimes\", \"Nimes\", \"Nimes\", \"Nimes\", \"Nimes\", \"Nimes\", \"Nimes\", \"Nimes\", \"Nimes\", \"Nimes\", \"Nimes\", \"Nimes\", \"Uzes\", \"Uzes\", \"Uzes\", \"Uzes\", \"Uzes\", \"Uzes\", \"Uzes\", \"Uzes\", \"Uzes\", \"Uzes\", \"Uzes\", \"Uzes\", \"Uzes\", \"Uzes\", \"Nimes\", \"Nimes\", \"Nimes\", \"Nimes\", \"Nimes\", \"Nimes\", \"Nimes\", \"Nimes\", \"Nimes\", \"Nimes\", \"Nimes\", \"Nimes\", \"Nimes\", \"Nimes\", \"Nimes\", \"Nimes\", \"Nimes\", \"Nimes\", \"Nimes\", \"Nimes\", \"Nimes\", \"Nimes\", \"Nimes\", \"Nimes\", \"Nimes\", \"Nimes\", \"Nimes\", \"Nimes\", \"Nimes\", \"Nimes\", \"Nimes\", \"Nimes\", \"Nimes\", \"Nimes\", \"Nimes\", \"Nimes\", \"Nimes\", \"Nimes\", \"Nimes\", \"Nimes\", \"Nimes\", \"Nimes\", \"Nimes\", \"Nimes\", \"Nimes\", \"Nimes\", \"Nimes\", \"Nimes\", \"Nimes\", \"Nimes\", \"Bormes les Mimosas\", \"Bormes les Mimosas\", \"Bormes les Mimosas\", \"Bormes les Mimosas\", \"Bormes les Mimosas\", \"Bormes les Mimosas\", \"Bormes les Mimosas\", \"Bormes les Mimosas\", \"Bormes les Mimosas\", \"Bormes les Mimosas\", \"Bormes les Mimosas\", \"Bormes les Mimosas\", \"Bormes les Mimosas\", \"Bormes les Mimosas\", \"Bormes les Mimosas\", \"Bormes les Mimosas\", \"Bormes les Mimosas\", \"Bormes les Mimosas\", \"Bormes les Mimosas\", \"Bormes les Mimosas\", \"Bormes les Mimosas\", \"Bormes les Mimosas\", \"Bormes les Mimosas\", \"Bormes les Mimosas\", \"Bormes les Mimosas\", \"Bormes les Mimosas\", \"Bormes les Mimosas\", \"Bormes les Mimosas\", \"Bormes les Mimosas\", \"Bormes les Mimosas\", \"Bormes les Mimosas\", \"Bormes les Mimosas\", \"Bormes les Mimosas\", \"Bormes les Mimosas\", \"Bormes les Mimosas\", \"Bormes les Mimosas\", \"Bormes les Mimosas\", \"Bormes les Mimosas\", \"Bormes les Mimosas\", \"Bormes les Mimosas\", \"Bormes les Mimosas\", \"Bormes les Mimosas\", \"Bormes les Mimosas\", \"Bormes les Mimosas\", \"Bormes les Mimosas\", \"Bormes les Mimosas\", \"Bormes les Mimosas\", \"Bormes les Mimosas\", \"Bormes les Mimosas\", \"Bormes les Mimosas\", \"Nimes\", \"Nimes\", \"Nimes\", \"Nimes\", \"Nimes\", \"Nimes\", \"Nimes\", \"Nimes\", \"Nimes\", \"Nimes\", \"Nimes\", \"Nimes\", \"Nimes\", \"Nimes\", \"Nimes\", \"Nimes\", \"Nimes\", \"Nimes\", \"Nimes\", \"Nimes\", \"Nimes\", \"Nimes\", \"Nimes\", \"Nimes\", \"Nimes\", \"Bormes les Mimosas\", \"Bormes les Mimosas\", \"Bormes les Mimosas\", \"Bormes les Mimosas\", \"Bormes les Mimosas\", \"Bormes les Mimosas\", \"Bormes les Mimosas\", \"Bormes les Mimosas\", \"Bormes les Mimosas\", \"Bormes les Mimosas\", \"Bormes les Mimosas\", \"Bormes les Mimosas\", \"Bormes les Mimosas\", \"Bormes les Mimosas\", \"Bormes les Mimosas\", \"Bormes les Mimosas\", \"Bormes les Mimosas\", \"Bormes les Mimosas\", \"Bormes les Mimosas\", \"Bormes les Mimosas\", \"Bormes les Mimosas\", \"Bormes les Mimosas\", \"Bormes les Mimosas\", \"Bormes les Mimosas\", \"Bormes les Mimosas\", \"Nimes\", \"Nimes\", \"Nimes\", \"Nimes\", \"Nimes\", \"Bormes les Mimosas\", \"Bormes les Mimosas\", \"Bormes les Mimosas\", \"Bormes les Mimosas\", \"Bormes les Mimosas\", \"Bormes les Mimosas\", \"Bormes les Mimosas\", \"Bormes les Mimosas\", \"Bormes les Mimosas\", \"Bormes les Mimosas\", \"Bormes les Mimosas\", \"Bormes les Mimosas\", \"Bormes les Mimosas\", \"Bormes les Mimosas\", \"Bormes les Mimosas\", \"Bormes les Mimosas\", \"Bormes les Mimosas\", \"Bormes les Mimosas\", \"Bormes les Mimosas\", \"Bormes les Mimosas\", \"Bormes les Mimosas\", \"Bormes les Mimosas\", \"Bormes les Mimosas\", \"Bormes les Mimosas\", \"Bormes les Mimosas\", \"Bormes les Mimosas\", \"Bormes les Mimosas\", \"Bormes les Mimosas\", \"Bormes les Mimosas\", \"Bormes les Mimosas\", \"Bormes les Mimosas\"], \"lat\": [43.8342375300246, 43.8395947565407, 43.822731120282704, 43.821585485623, 43.8147073451298, 43.8388150962031, 43.8354206497776, 43.813890585896, 43.815377000000005, 43.832493280445206, 43.8320559021468, 43.8157834, 43.8317575459101, 43.8247659222373, 43.833873534889705, 43.814653152919995, 43.815334, 43.83436329202829, 43.81557634920521, 43.837759733289204, 43.8223192, 43.83581534027449, 43.836128154772204, 43.838666127684, 43.8364238163426, 44.0126325895461, 44.020244, 44.0108142596191, 44.009641947615606, 44.012349, 44.0124643709857, 44.014177705504295, 44.0518489483609, 44.023053337, 44.009668, 44.0124311, 44.01274447195371, 44.014756, 44.015097499999996, 44.011246500000006, 44.0068325745551, 44.01177979999999, 44.01167638147199, 44.008349, 44.012017, 44.011847405338, 43.9922866307744, 44.011209524617996, 44.0130735595176, 44.001412, 43.839691530887, 43.8347057502948, 43.788451892348796, 43.836776, 43.7885821536422, 43.8281614, 43.82057674771621, 43.838872168459204, 43.813455, 43.870469, 43.824581, 43.8369370620494, 43.841164, 43.842067884776, 43.878316, 43.83899501872371, 43.836649147239, 43.838388, 43.837286600000006, 43.840503068795, 43.82474620000001, 43.8420013, 43.813455, 43.8345493, 43.860096500000004, 43.996696040291994, 43.995238, 44.0151604, 44.0120095232665, 44.011332, 44.0187071958688, 43.996230421818, 43.9957992430491, 44.013279060475995, 44.01422, 44.01116716507111, 44.013612, 44.030429568117, 44.0141777, 44.017212186005004, 44.009788029775, 44.0143457130385, 43.995891861679105, 44.0137, 44.0154451458477, 44.012719690467904, 44.011945000000004, 44.018242, 44.010672364011604, 44.012178600000006, 43.8330272990424, 43.8403071, 43.849395, 43.834472, 43.8399995, 43.838815200016896, 43.831503999999995, 43.83546975589001, 43.829368245185, 43.833226587366894, 43.8345493, 43.835752, 43.829170655751, 43.83746655804671, 43.819014, 43.8362611, 43.846759000000006, 43.8309446498752, 43.837391700000005, 43.837146999999995, 43.834112988480996, 43.8400032, 43.8278875112154, 43.863234999999996, 43.841024, 44.0045397, 44.019386539501, 44.0132239, 44.009038200000006, 44.014659, 44.010351196102896, 44.0136, 44.0077179, 44.019545, 44.0111396, 44.013392387020204, 43.9971194612628, 43.9986494853399, 44.020161302983894, 44.012765, 44.01386019922651, 44.017987100000006, 44.009679999999996, 44.011153, 44.0284314247316, 44.037437, 44.044067167921, 44.0131999975249, 44.010751722279, 44.0127652, 43.8397627962523, 43.838390999999994, 43.839391387137006, 43.8394982, 43.8339136, 43.823275, 43.8383716, 43.8371232, 43.8314949808831, 43.8396639, 43.8218615, 43.865328600000005, 43.87402217088321, 43.8334491, 43.831511862392, 43.837993, 43.8432805239309, 43.8389985239352, 43.8339136, 43.823489, 43.840976333513005, 43.85160894986589, 43.8428856, 43.831676, 43.8373053, 44.011972072032, 44.0195447296099, 44.0077179, 44.013875, 44.010806, 44.020168, 44.014362301043995, 43.9927782658901, 43.997428, 43.965211796231, 44.014312, 44.0130804, 44.012499132108005, 44.00271, 43.8364405, 43.862278, 43.8342464784836, 43.840966288992206, 43.83501, 43.850871999999995, 43.869203376467, 43.830589708505705, 43.848611068690005, 43.8512565239271, 43.83986635897801, 43.8413941, 43.841119899999995, 43.829266, 43.8358929, 43.828159299999996, 43.8204417, 43.8397616, 43.847767, 43.8495235519448, 43.8284391, 43.863585799999996, 43.833642397176, 43.811083, 43.840143177897, 43.8388343, 43.814719925457204, 43.8396878, 43.83924609708261, 43.8736159387224, 43.818459000000004, 43.837463, 43.8339136, 43.835906, 43.847853391316995, 43.83297520000001, 43.8265257253759, 43.841094344743205, 43.833914, 43.8351842, 43.847304, 43.836775, 43.8385091178479, 43.8418084, 43.8394659, 43.8359429, 43.830719200000004, 43.83409167497, 43.83866210000001, 43.8338689, 43.12549, 43.1441295, 43.1451578, 43.125542030409, 43.101446222562195, 43.1521251, 43.142501, 43.143936592874006, 43.149978999999995, 43.147461, 43.1041393122817, 43.143527260059, 43.1519579, 43.174135, 43.135475065834996, 43.145711999999996, 43.104960592158, 43.137739, 43.1511666, 43.1224787826285, 43.14893353509439, 43.150692, 43.123267999999996, 43.15255365, 43.123438, 43.123399, 43.123091607304794, 43.151877593039295, 43.1507771, 43.134805, 43.120854, 43.139781238147, 43.1461474, 43.1461474, 43.145950799999994, 43.144686, 43.150738963796904, 43.122359, 43.1225577, 43.159155431371204, 43.145389553984, 43.1441295, 43.12426, 43.146445, 43.149187929214705, 43.1249993161731, 43.122226, 43.120892100000006, 43.103480785351294, 43.12602593973121, 43.83501, 43.872819, 43.842763640929995, 43.8602863, 43.8423709365602, 43.857101, 43.8281078, 43.8358595, 43.8328550945411, 43.8380784, 43.846263, 43.83874, 43.8549624630414, 43.831942, 43.85597, 43.861261, 43.834811, 43.8589782903443, 43.837701946901, 43.8348317, 43.835562345053994, 43.876852694862, 43.855521, 43.8387419, 43.8387419, 43.150799, 43.1503605745765, 43.1441295, 43.1346192250055, 43.1441295, 43.1224521672396, 43.1226934600377, 43.123227599048995, 43.145378900740994, 43.122479, 43.1273952345891, 43.130438055338296, 43.1224057589826, 43.140955, 43.1431217, 43.150077, 43.12368127425, 43.122461, 43.162318, 43.1527327032658, 43.1403633, 43.127065, 43.123129, 43.123076, 43.122706409062005, 43.840102457305, 43.8356454, 43.8430619235136, 43.8423115697134, 43.8308855, 43.144243007966296, 43.1507771, 43.124328999999996, 43.124432, 43.1102841, 43.1422703, 43.094616544869005, 43.149978999999995, 43.140082, 43.133846000000005, 43.151361200000004, 43.149978999999995, 43.149978999999995, 43.123062, 43.1489129963623, 43.1406139, 43.103887, 43.123138, 43.1415124, 43.12853, 43.127119, 43.121103999999995, 43.1230903, 43.128532, 43.12298, 43.1113783, 43.1050092, 43.109522, 43.12151, 43.122366, 43.122354], \"legendgroup\": \"\", \"lon\": [4.36079040169716, 4.36108410358429, 4.36412572860718, 4.3645977973938, 4.34483259916306, 4.3548184633255, 4.36340421438217, 4.34434175491333, 4.345905, 4.367856681346891, 4.36736449599266, 4.3463127, 4.366973564028741, 4.369046241045, 4.36143395952456, 4.3443095684051505, 4.34405200000003, 4.3653367459774, 4.34660352766514, 4.3638722598552695, 4.3085558, 4.35914017260075, 4.36126994535164, 4.3527679145336196, 4.364745318889621, 4.41414892673492, 4.409254, 4.41779908857734, 4.41788524389267, 4.41847, 4.4218001110450595, 4.42260727286339, 4.52761954571533, 4.42047223448753, 4.418032, 4.4192362, 4.421130716800691, 4.420526000000001, 4.4155765, 4.4188127999999995, 4.42035013436225, 4.4063082, 4.419088375741, 4.4077357, 4.420584, 4.414136186178, 4.43396687463974, 4.420136667484, 4.420540630817411, 4.419783, 4.352454786508, 4.36731219291687, 4.35384232647618, 4.358018, 4.35380257666111, 4.3547902000000205, 4.31912697851658, 4.36974763870239, 4.394221, 4.40491, 4.350535, 4.35709834098816, 4.367986, 4.367556011233, 4.403321, 4.3628114461898795, 4.358286242328, 4.351273, 4.3617059000000005, 4.35905188941047, 4.3578095999999995, 4.363243, 4.394221, 4.3583989999999995, 4.35288949999995, 4.425974246032999, 4.421976, 4.409710400000001, 4.41944123544317, 4.41826, 4.41590916501241, 4.425882684579, 4.42739207738509, 4.418153234359, 4.419562, 4.4207141147499005, 4.417987999999999, 4.430426121704, 4.4220873, 4.421508988098, 4.416435415344, 4.42268847778905, 4.4274671792374, 4.417992900000001, 4.40986999921734, 4.42112375519059, 4.419267, 4.418825, 4.420305317830531, 4.4063181000000196, 4.36618968844414, 4.3702517, 4.323469, 4.356771, 4.3605545, 4.36241362382685, 4.367797, 4.358533313492, 4.357869620164, 4.36554998159409, 4.3583989999999995, 4.3585, 4.35692072209, 4.35176469789235, 4.325773000000001, 4.3587013, 4.3521019999999995, 4.36287749743395, 4.3567136, 4.3604613, 4.357895298811, 4.356959099999999, 4.35043288220902, 4.39901, 4.359022, 4.4120199, 4.428176841664, 4.4222682, 4.4145317, 4.4200515, 4.4221975386231, 4.41709, 4.408578299999999, 4.428515, 4.419136900000001, 4.42081974225846, 4.4257870316505405, 4.4080924987792995, 4.43052643696217, 4.414323, 4.42187352513122, 4.406860900000001, 4.416392500000001, 4.420694, 4.420023858328929, 4.45216, 4.406036122198, 4.41806849265981, 4.41664519384835, 4.4143231, 4.3569419908074, 4.346347, 4.353717209869, 4.3659224000000005, 4.3659196, 4.336528700000001, 4.3634307, 4.3700304, 4.35929775238037, 4.3567599, 4.360779099999999, 4.408804099999999, 4.36582088470459, 4.3536415, 4.353877655408, 4.3590919999999995, 4.36270317857361, 4.35544762513121, 4.3659196, 4.338147, 4.361336513492, 4.37470570206642, 4.3590621, 4.36020259999998, 4.3579281, 4.419075213492, 4.42851483821869, 4.408578299999999, 4.420367, 4.41752, 4.393468, 4.4109196466270095, 4.42427515961754, 4.412575, 4.366439263439, 4.4227419999999995, 4.4179317000000005, 4.4209441306879995, 4.419951999999999, 4.3581325, 4.355442, 4.35091853141785, 4.39121264054484, 4.349857, 4.31083, 4.396387546165, 4.352826777358009, 4.36314443988113, 4.300739765167241, 4.365462947524, 4.305626599999999, 4.353431400000001, 4.3589839999999995, 4.3651165, 4.3849952000000005, 4.338027200000001, 4.3567186, 4.345362000000001, 4.32767230552258, 4.37537829999997, 4.3792798, 4.378096529052, 4.298631200000001, 4.358334849074, 4.3699188, 4.34627361595631, 4.3595836, 4.36190008308881, 4.37002603862311, 4.362642, 4.3644419999999995, 4.3659196, 4.3563627, 4.3168780753939995, 4.3548706, 4.36118152275398, 4.35806623448817, 4.36592, 4.3499098, 4.32921, 4.356929, 4.34529528021812, 4.3578190999999995, 4.3564264, 4.3580585, 4.354801599999999, 4.353883746419, 4.3455847, 4.3570549000000005, 6.357300000000009, 6.3514903999999905, 6.350740099999999, 6.3299831515900005, 6.3494006790984905, 6.303449, 6.3491788, 6.336323240475, 6.348528, 6.333876, 6.35253846130161, 6.3538708767209995, 6.3432834999999805, 6.2815129999999995, 6.34520855, 6.353338, 6.350386371747001, 6.36702, 6.3429208, 6.35557819444273, 6.30326628684998, 6.342641, 6.353343, 6.34461521, 6.352387, 6.354647, 6.35409096255898, 6.34313598275185, 6.3408264, 6.342843, 6.358391, 6.343650942571, 6.3551950999999995, 6.3551950999999995, 6.325990200000001, 6.335125000000059, 6.3424907962951895, 6.355631, 6.3582753, 6.32169306278229, 6.352965860852, 6.3514904, 6.3585519999999995, 6.327724, 6.300260871648789, 6.33001287274965, 6.35964, 6.3578873, 6.3279238343238795, 6.356754667493759, 4.349857, 4.355637000000001, 4.35472676925542, 4.3879348, 4.36280185950704, 4.347915, 4.36375910000004, 4.3597831, 4.35906688830883, 4.3590621, 4.32207, 4.356284, 4.25264456667333, 4.364726999999999, 4.3650199999999995, 4.366921, 4.34698, 4.34992061622097, 4.360085403076, 4.296515, 4.358772399406, 4.364816659817, 4.38529, 4.380243, 4.380243, 6.340985, 6.34262602776289, 6.3514903999999905, 6.346775740385059, 6.3514904, 6.3560132682324095, 6.359026074799321, 6.3550555399510005, 6.347052703180001, 6.357518, 6.3559877872467005, 6.336336989132629, 6.35769883802868, 6.3560360000000005, 6.35213980000003, 6.342641, 6.359452253164999, 6.362675, 6.32142, 6.34291335940361, 6.3367149000000005, 6.358890799999999, 6.354093, 6.354372, 6.3548284889649995, 4.388635501664, 4.3595184, 4.33440423123322, 4.38565535917309, 4.3323983, 6.35172106997529, 6.3408264, 6.360716, 6.361154, 6.3527473, 6.3550733, 6.363467389692, 6.348528, 6.351975, 6.342013, 6.3024373, 6.348528, 6.348528, 6.3529160000000005, 6.348206144774621, 6.3512346, 6.347498000000001, 6.353827, 6.340289599999999, 6.354105000000001, 6.357718999999941, 6.364415, 6.3538607, 6.356294, 6.3599190000000005, 6.3542213000001, 6.3470347, 6.343982, 6.357799, 6.357703099999981, 6.356155], \"marker\": {\"color\": [8.2, 8.1, 7.0, 7.3, 7.9, 8.1, 8.1, 7.9, 7.5, 7.7, 8.1, 7.5, 8.4, 7.8, 8.9, 7.2, 6.7, 8.8, 7.4, 6.8, null, 8.5, 7.2, 9.1, 8.4, 7.8, 9.8, 9.1, 9.3, 9.8, 8.9, 9.2, null, 9.0, 9.7, 9.5, 8.9, 9.2, null, 9.2, 9.4, 8.9, null, 8.5, 9.7, 9.0, 8.5, null, 9.7, 8.8, 9.6, 9.0, 7.6, 9.7, 8.5, 7.5, 8.2, 7.8, 8.0, 9.7, 8.5, 8.3, 7.3, 5.3, 8.7, 7.6, 10.0, 9.1, 7.2, 9.1, null, 9.3, 8.0, 8.9, 9.3, 8.1, 9.9, null, 9.6, 9.2, 9.4, null, 8.0, null, 8.0, 9.0, null, null, 9.5, 8.7, 8.5, 8.9, 9.5, 9.5, 9.8, 9.7, 8.2, 9.6, null, 8.1, 7.1, 9.2, null, 9.9, null, 9.7, 8.6, 8.7, 9.6, 7.2, 8.7, 8.6, 8.9, 9.7, 8.6, 9.5, 9.0, 9.7, 7.8, 9.7, 8.4, 9.2, 8.5, 9.5, 9.0, 8.6, 8.2, 9.3, null, 8.9, 9.6, 9.5, 8.5, 8.7, null, 9.1, 8.2, 9.4, 7.5, null, 9.5, null, 9.0, 8.8, 8.8, 9.6, 9.4, 8.6, 8.3, 9.0, 8.1, 9.7, 9.6, 8.3, 8.9, 6.5, null, 8.3, 8.8, 8.0, null, 9.2, 8.5, null, 7.9, 8.1, 9.1, 9.7, 8.1, 5.5, 8.6, 9.4, 9.1, 9.6, 9.0, 10.0, 8.1, 9.1, 9.5, 7.9, 8.9, 9.2, 8.2, 9.6, null, null, null, null, 8.5, null, 9.1, 9.5, 9.3, 9.7, 9.3, null, 7.1, 8.7, 8.4, null, 9.7, 8.8, 8.6, 9.2, 9.7, 8.9, 9.1, 10.0, 9.6, 8.8, null, null, 8.8, null, 9.5, 7.4, 9.3, 9.0, 9.8, 8.3, 8.7, null, 9.2, 8.9, 7.6, null, null, null, null, 9.7, 7.8, 9.5, 8.5, 8.7, null, 9.2, null, 6.7, null, 8.2, 8.6, null, null, null, 8.5, 9.0, null, 7.9, null, 8.6, 9.4, 8.1, null, 9.7, null, null, null, null, 9.9, 8.6, null, null, null, null, null, 9.1, 7.5, 5.8, null, null, null, null, 9.7, 8.8, 7.9, null, null, null, 9.3, 9.0, null, null, 9.7, 7.7, 7.8, null, 9.1, 7.9, 8.4, 8.9, 9.3, 9.4, null, 9.7, 9.4, 9.4, null, 7.8, 6.4, null, null, 6.5, 8.8, 9.7, 9.9, 9.6, 9.2, null, null, null, null, null, null, null, 8.0, 9.2, 8.2, 7.8, null, 7.8, 8.0, 8.8, null, null, 8.3, 7.5, 8.9, 8.9, 8.5, 8.4, 8.4, null, null, 7.0, 8.7, 9.3, null, null, null, null, null, null, 7.0, null, null, null, null, null, null, null, null, null, null, null, null, null, null, null, null, null, null, null, null, null, null, null, null, null, null, null, null, null, null, null, null], \"coloraxis\": \"coloraxis\"}, \"mode\": \"markers\", \"name\": \"\", \"showlegend\": false, \"subplot\": \"mapbox\", \"type\": \"scattermapbox\"}],\n",
       "                        {\"coloraxis\": {\"colorbar\": {\"title\": {\"text\": \"score\"}}, \"colorscale\": [[0.0, \"rgb(3, 35, 51)\"], [0.09090909090909091, \"rgb(13, 48, 100)\"], [0.18181818181818182, \"rgb(53, 50, 155)\"], [0.2727272727272727, \"rgb(93, 62, 153)\"], [0.36363636363636365, \"rgb(126, 77, 143)\"], [0.45454545454545453, \"rgb(158, 89, 135)\"], [0.5454545454545454, \"rgb(193, 100, 121)\"], [0.6363636363636364, \"rgb(225, 113, 97)\"], [0.7272727272727273, \"rgb(246, 139, 69)\"], [0.8181818181818182, \"rgb(251, 173, 60)\"], [0.9090909090909091, \"rgb(246, 211, 70)\"], [1.0, \"rgb(231, 250, 90)\"]]}, \"legend\": {\"tracegroupgap\": 0}, \"mapbox\": {\"center\": {\"lat\": 43.67988953878767, \"lon\": 4.934501270709418}, \"domain\": {\"x\": [0.0, 1.0], \"y\": [0.0, 1.0]}, \"style\": \"carto-positron\", \"zoom\": 4}, \"margin\": {\"t\": 60}, \"template\": {\"data\": {\"bar\": [{\"error_x\": {\"color\": \"#2a3f5f\"}, \"error_y\": {\"color\": \"#2a3f5f\"}, \"marker\": {\"line\": {\"color\": \"#E5ECF6\", \"width\": 0.5}}, \"type\": \"bar\"}], \"barpolar\": [{\"marker\": {\"line\": {\"color\": \"#E5ECF6\", \"width\": 0.5}}, \"type\": \"barpolar\"}], \"carpet\": [{\"aaxis\": {\"endlinecolor\": \"#2a3f5f\", \"gridcolor\": \"white\", \"linecolor\": \"white\", \"minorgridcolor\": \"white\", \"startlinecolor\": \"#2a3f5f\"}, \"baxis\": {\"endlinecolor\": \"#2a3f5f\", \"gridcolor\": \"white\", \"linecolor\": \"white\", \"minorgridcolor\": \"white\", \"startlinecolor\": \"#2a3f5f\"}, \"type\": \"carpet\"}], \"choropleth\": [{\"colorbar\": {\"outlinewidth\": 0, \"ticks\": \"\"}, \"type\": \"choropleth\"}], \"contour\": [{\"colorbar\": {\"outlinewidth\": 0, \"ticks\": \"\"}, \"colorscale\": [[0.0, \"#0d0887\"], [0.1111111111111111, \"#46039f\"], [0.2222222222222222, \"#7201a8\"], [0.3333333333333333, \"#9c179e\"], [0.4444444444444444, \"#bd3786\"], [0.5555555555555556, \"#d8576b\"], [0.6666666666666666, \"#ed7953\"], [0.7777777777777778, \"#fb9f3a\"], [0.8888888888888888, \"#fdca26\"], [1.0, \"#f0f921\"]], \"type\": \"contour\"}], \"contourcarpet\": [{\"colorbar\": {\"outlinewidth\": 0, \"ticks\": \"\"}, \"type\": \"contourcarpet\"}], \"heatmap\": [{\"colorbar\": {\"outlinewidth\": 0, \"ticks\": \"\"}, \"colorscale\": [[0.0, \"#0d0887\"], [0.1111111111111111, \"#46039f\"], [0.2222222222222222, \"#7201a8\"], [0.3333333333333333, \"#9c179e\"], [0.4444444444444444, \"#bd3786\"], [0.5555555555555556, \"#d8576b\"], [0.6666666666666666, \"#ed7953\"], [0.7777777777777778, \"#fb9f3a\"], [0.8888888888888888, \"#fdca26\"], [1.0, \"#f0f921\"]], \"type\": \"heatmap\"}], \"heatmapgl\": [{\"colorbar\": {\"outlinewidth\": 0, \"ticks\": \"\"}, \"colorscale\": [[0.0, \"#0d0887\"], [0.1111111111111111, \"#46039f\"], [0.2222222222222222, \"#7201a8\"], [0.3333333333333333, \"#9c179e\"], [0.4444444444444444, \"#bd3786\"], [0.5555555555555556, \"#d8576b\"], [0.6666666666666666, \"#ed7953\"], [0.7777777777777778, \"#fb9f3a\"], [0.8888888888888888, \"#fdca26\"], [1.0, \"#f0f921\"]], \"type\": \"heatmapgl\"}], \"histogram\": [{\"marker\": {\"colorbar\": {\"outlinewidth\": 0, \"ticks\": \"\"}}, \"type\": \"histogram\"}], \"histogram2d\": [{\"colorbar\": {\"outlinewidth\": 0, \"ticks\": \"\"}, \"colorscale\": [[0.0, \"#0d0887\"], [0.1111111111111111, \"#46039f\"], [0.2222222222222222, \"#7201a8\"], [0.3333333333333333, \"#9c179e\"], [0.4444444444444444, \"#bd3786\"], [0.5555555555555556, \"#d8576b\"], [0.6666666666666666, \"#ed7953\"], [0.7777777777777778, \"#fb9f3a\"], [0.8888888888888888, \"#fdca26\"], [1.0, \"#f0f921\"]], \"type\": \"histogram2d\"}], \"histogram2dcontour\": [{\"colorbar\": {\"outlinewidth\": 0, \"ticks\": \"\"}, \"colorscale\": [[0.0, \"#0d0887\"], [0.1111111111111111, \"#46039f\"], [0.2222222222222222, \"#7201a8\"], [0.3333333333333333, \"#9c179e\"], [0.4444444444444444, \"#bd3786\"], [0.5555555555555556, \"#d8576b\"], [0.6666666666666666, \"#ed7953\"], [0.7777777777777778, \"#fb9f3a\"], [0.8888888888888888, \"#fdca26\"], [1.0, \"#f0f921\"]], \"type\": \"histogram2dcontour\"}], \"mesh3d\": [{\"colorbar\": {\"outlinewidth\": 0, \"ticks\": \"\"}, \"type\": \"mesh3d\"}], \"parcoords\": [{\"line\": {\"colorbar\": {\"outlinewidth\": 0, \"ticks\": \"\"}}, \"type\": \"parcoords\"}], \"pie\": [{\"automargin\": true, \"type\": \"pie\"}], \"scatter\": [{\"marker\": {\"colorbar\": {\"outlinewidth\": 0, \"ticks\": \"\"}}, \"type\": \"scatter\"}], \"scatter3d\": [{\"line\": {\"colorbar\": {\"outlinewidth\": 0, \"ticks\": \"\"}}, \"marker\": {\"colorbar\": {\"outlinewidth\": 0, \"ticks\": \"\"}}, \"type\": \"scatter3d\"}], \"scattercarpet\": [{\"marker\": {\"colorbar\": {\"outlinewidth\": 0, \"ticks\": \"\"}}, \"type\": \"scattercarpet\"}], \"scattergeo\": [{\"marker\": {\"colorbar\": {\"outlinewidth\": 0, \"ticks\": \"\"}}, \"type\": \"scattergeo\"}], \"scattergl\": [{\"marker\": {\"colorbar\": {\"outlinewidth\": 0, \"ticks\": \"\"}}, \"type\": \"scattergl\"}], \"scattermapbox\": [{\"marker\": {\"colorbar\": {\"outlinewidth\": 0, \"ticks\": \"\"}}, \"type\": \"scattermapbox\"}], \"scatterpolar\": [{\"marker\": {\"colorbar\": {\"outlinewidth\": 0, \"ticks\": \"\"}}, \"type\": \"scatterpolar\"}], \"scatterpolargl\": [{\"marker\": {\"colorbar\": {\"outlinewidth\": 0, \"ticks\": \"\"}}, \"type\": \"scatterpolargl\"}], \"scatterternary\": [{\"marker\": {\"colorbar\": {\"outlinewidth\": 0, \"ticks\": \"\"}}, \"type\": \"scatterternary\"}], \"surface\": [{\"colorbar\": {\"outlinewidth\": 0, \"ticks\": \"\"}, \"colorscale\": [[0.0, \"#0d0887\"], [0.1111111111111111, \"#46039f\"], [0.2222222222222222, \"#7201a8\"], [0.3333333333333333, \"#9c179e\"], [0.4444444444444444, \"#bd3786\"], [0.5555555555555556, \"#d8576b\"], [0.6666666666666666, \"#ed7953\"], [0.7777777777777778, \"#fb9f3a\"], [0.8888888888888888, \"#fdca26\"], [1.0, \"#f0f921\"]], \"type\": \"surface\"}], \"table\": [{\"cells\": {\"fill\": {\"color\": \"#EBF0F8\"}, \"line\": {\"color\": \"white\"}}, \"header\": {\"fill\": {\"color\": \"#C8D4E3\"}, \"line\": {\"color\": \"white\"}}, \"type\": \"table\"}]}, \"layout\": {\"annotationdefaults\": {\"arrowcolor\": \"#2a3f5f\", \"arrowhead\": 0, \"arrowwidth\": 1}, \"coloraxis\": {\"colorbar\": {\"outlinewidth\": 0, \"ticks\": \"\"}}, \"colorscale\": {\"diverging\": [[0, \"#8e0152\"], [0.1, \"#c51b7d\"], [0.2, \"#de77ae\"], [0.3, \"#f1b6da\"], [0.4, \"#fde0ef\"], [0.5, \"#f7f7f7\"], [0.6, \"#e6f5d0\"], [0.7, \"#b8e186\"], [0.8, \"#7fbc41\"], [0.9, \"#4d9221\"], [1, \"#276419\"]], \"sequential\": [[0.0, \"#0d0887\"], [0.1111111111111111, \"#46039f\"], [0.2222222222222222, \"#7201a8\"], [0.3333333333333333, \"#9c179e\"], [0.4444444444444444, \"#bd3786\"], [0.5555555555555556, \"#d8576b\"], [0.6666666666666666, \"#ed7953\"], [0.7777777777777778, \"#fb9f3a\"], [0.8888888888888888, \"#fdca26\"], [1.0, \"#f0f921\"]], \"sequentialminus\": [[0.0, \"#0d0887\"], [0.1111111111111111, \"#46039f\"], [0.2222222222222222, \"#7201a8\"], [0.3333333333333333, \"#9c179e\"], [0.4444444444444444, \"#bd3786\"], [0.5555555555555556, \"#d8576b\"], [0.6666666666666666, \"#ed7953\"], [0.7777777777777778, \"#fb9f3a\"], [0.8888888888888888, \"#fdca26\"], [1.0, \"#f0f921\"]]}, \"colorway\": [\"#636efa\", \"#EF553B\", \"#00cc96\", \"#ab63fa\", \"#FFA15A\", \"#19d3f3\", \"#FF6692\", \"#B6E880\", \"#FF97FF\", \"#FECB52\"], \"font\": {\"color\": \"#2a3f5f\"}, \"geo\": {\"bgcolor\": \"white\", \"lakecolor\": \"white\", \"landcolor\": \"#E5ECF6\", \"showlakes\": true, \"showland\": true, \"subunitcolor\": \"white\"}, \"hoverlabel\": {\"align\": \"left\"}, \"hovermode\": \"closest\", \"mapbox\": {\"style\": \"light\"}, \"paper_bgcolor\": \"white\", \"plot_bgcolor\": \"#E5ECF6\", \"polar\": {\"angularaxis\": {\"gridcolor\": \"white\", \"linecolor\": \"white\", \"ticks\": \"\"}, \"bgcolor\": \"#E5ECF6\", \"radialaxis\": {\"gridcolor\": \"white\", \"linecolor\": \"white\", \"ticks\": \"\"}}, \"scene\": {\"xaxis\": {\"backgroundcolor\": \"#E5ECF6\", \"gridcolor\": \"white\", \"gridwidth\": 2, \"linecolor\": \"white\", \"showbackground\": true, \"ticks\": \"\", \"zerolinecolor\": \"white\"}, \"yaxis\": {\"backgroundcolor\": \"#E5ECF6\", \"gridcolor\": \"white\", \"gridwidth\": 2, \"linecolor\": \"white\", \"showbackground\": true, \"ticks\": \"\", \"zerolinecolor\": \"white\"}, \"zaxis\": {\"backgroundcolor\": \"#E5ECF6\", \"gridcolor\": \"white\", \"gridwidth\": 2, \"linecolor\": \"white\", \"showbackground\": true, \"ticks\": \"\", \"zerolinecolor\": \"white\"}}, \"shapedefaults\": {\"line\": {\"color\": \"#2a3f5f\"}}, \"ternary\": {\"aaxis\": {\"gridcolor\": \"white\", \"linecolor\": \"white\", \"ticks\": \"\"}, \"baxis\": {\"gridcolor\": \"white\", \"linecolor\": \"white\", \"ticks\": \"\"}, \"bgcolor\": \"#E5ECF6\", \"caxis\": {\"gridcolor\": \"white\", \"linecolor\": \"white\", \"ticks\": \"\"}}, \"title\": {\"x\": 0.05}, \"xaxis\": {\"automargin\": true, \"gridcolor\": \"white\", \"linecolor\": \"white\", \"ticks\": \"\", \"title\": {\"standoff\": 15}, \"zerolinecolor\": \"white\", \"zerolinewidth\": 2}, \"yaxis\": {\"automargin\": true, \"gridcolor\": \"white\", \"linecolor\": \"white\", \"ticks\": \"\", \"title\": {\"standoff\": 15}, \"zerolinecolor\": \"white\", \"zerolinewidth\": 2}}}},\n",
       "                        {\"responsive\": true}\n",
       "                    ).then(function(){\n",
       "                            \n",
       "var gd = document.getElementById('ddd2a977-baba-40f1-94e5-cc0146036cb2');\n",
       "var x = new MutationObserver(function (mutations, observer) {{\n",
       "        var display = window.getComputedStyle(gd).display;\n",
       "        if (!display || display === 'none') {{\n",
       "            console.log([gd, 'removed!']);\n",
       "            Plotly.purge(gd);\n",
       "            observer.disconnect();\n",
       "        }}\n",
       "}});\n",
       "\n",
       "// Listen for the removal of the full notebook cells\n",
       "var notebookContainer = gd.closest('#notebook-container');\n",
       "if (notebookContainer) {{\n",
       "    x.observe(notebookContainer, {childList: true});\n",
       "}}\n",
       "\n",
       "// Listen for the clearing of the current output cell\n",
       "var outputEl = gd.closest('.output');\n",
       "if (outputEl) {{\n",
       "    x.observe(outputEl, {childList: true});\n",
       "}}\n",
       "\n",
       "                        })\n",
       "                };\n",
       "                });\n",
       "            </script>\n",
       "        </div>"
      ]
     },
     "metadata": {},
     "output_type": "display_data"
    }
   ],
   "source": [
    "def select_top_hotels(num_top_destination):\n",
    "    df_hotels = pd.read_csv(HOTELS_FILE_PATH)\n",
    "    return df_hotels.loc[df_hotels['city_id'].isin(list(df.head(num_top_destination).index))]\n",
    "\n",
    "df_hotels = select_top_hotels(3)\n",
    "\n",
    "fig = px.scatter_mapbox(df_hotels, \n",
    "                        lat=\"lattitude\", \n",
    "                        lon=\"longitude\", \n",
    "                        hover_name = 'city', \n",
    "                        zoom = 4,\n",
    "                        hover_data=[\"name\", \"ranking\"],\n",
    "                        color = 'score', \n",
    "                        color_continuous_scale = 'thermal',\n",
    "                        mapbox_style=\"carto-positron\")\n",
    "fig.show()"
   ]
  },
  {
   "cell_type": "code",
   "execution_count": 21,
   "metadata": {},
   "outputs": [
    {
     "name": "stdout",
     "output_type": "stream",
     "text": [
      "Requirement already satisfied: Boto3 in /opt/conda/lib/python3.8/site-packages (1.16.59)\n",
      "Requirement already satisfied: botocore<1.20.0,>=1.19.59 in /opt/conda/lib/python3.8/site-packages (from Boto3) (1.19.59)\n",
      "Requirement already satisfied: s3transfer<0.4.0,>=0.3.0 in /opt/conda/lib/python3.8/site-packages (from Boto3) (0.3.4)\n",
      "Requirement already satisfied: jmespath<1.0.0,>=0.7.1 in /opt/conda/lib/python3.8/site-packages (from Boto3) (0.10.0)\n",
      "Requirement already satisfied: python-dateutil<3.0.0,>=2.1 in /opt/conda/lib/python3.8/site-packages (from botocore<1.20.0,>=1.19.59->Boto3) (2.8.1)\n",
      "Requirement already satisfied: urllib3<1.27,>=1.25.4; python_version != \"3.4\" in /opt/conda/lib/python3.8/site-packages (from botocore<1.20.0,>=1.19.59->Boto3) (1.25.10)\n",
      "Requirement already satisfied: six>=1.5 in /opt/conda/lib/python3.8/site-packages (from python-dateutil<3.0.0,>=2.1->botocore<1.20.0,>=1.19.59->Boto3) (1.15.0)\n"
     ]
    }
   ],
   "source": [
    "# Installing boto3\n",
    "!pip install Boto3"
   ]
  },
  {
   "cell_type": "code",
   "execution_count": 22,
   "metadata": {},
   "outputs": [],
   "source": [
    "import boto3\n",
    "from io import StringIO\n",
    "\n",
    "def create_bucket(bucket_name):\n",
    "    bucket_exists = False\n",
    "    for bucket in s3.buckets.all():\n",
    "        bucket_exists |= bucket.name == bucket_name\n",
    "    if not bucket_exists:\n",
    "        s3.create_bucket(Bucket=bucket_name)\n",
    "    return s3.Bucket(bucket_name)\n",
    "\n",
    "# Creation of the S3 bucket\n",
    "s3 = boto3.resource(\"s3\")\n",
    "    \n",
    "bucket = create_bucket(\"tibo-best-destination\")\n",
    "\n",
    "# Loading csv files into S3 bucket\n",
    "csv_buffer = StringIO()\n",
    "df_cities.to_csv(csv_buffer, index=False)\n",
    "bucket.put_object(Key=\"cities.csv\", Body=csv_buffer.getvalue())\n",
    "\n",
    "csv_buffer = StringIO()\n",
    "df_weather.to_csv(csv_buffer, index=True)\n",
    "bucket.put_object(Key=\"weather.csv\", Body=csv_buffer.getvalue())\n",
    "\n",
    "# Loading hotels file into S3 bucket\n",
    "bucket.upload_file('results/hotels.csv', \"hotels.csv\")"
   ]
  },
  {
   "cell_type": "code",
   "execution_count": 41,
   "metadata": {},
   "outputs": [
    {
     "data": {
      "text/plain": [
       "{'ResponseMetadata': {'RequestId': 'F203CC3D981D728E',\n",
       "  'HostId': 'xCBA4H8/wZKYdoCar9+5JRwr22NT2uUi00yihDCFwDzMgHhENRep82a6jQJ+rLPBokX5sLjGCEs=',\n",
       "  'HTTPStatusCode': 204,\n",
       "  'HTTPHeaders': {'x-amz-id-2': 'xCBA4H8/wZKYdoCar9+5JRwr22NT2uUi00yihDCFwDzMgHhENRep82a6jQJ+rLPBokX5sLjGCEs=',\n",
       "   'x-amz-request-id': 'F203CC3D981D728E',\n",
       "   'date': 'Mon, 25 Jan 2021 22:43:51 GMT',\n",
       "   'server': 'AmazonS3'},\n",
       "  'RetryAttempts': 0}}"
      ]
     },
     "execution_count": 41,
     "metadata": {},
     "output_type": "execute_result"
    }
   ],
   "source": [
    "bucket.objects.all().delete()\n",
    "bucket.delete()"
   ]
  },
  {
   "cell_type": "code",
   "execution_count": 23,
   "metadata": {},
   "outputs": [
    {
     "name": "stdout",
     "output_type": "stream",
     "text": [
      "Requirement already satisfied: psycopg2-binary in /opt/conda/lib/python3.8/site-packages (2.8.6)\n"
     ]
    }
   ],
   "source": [
    "!pip install psycopg2-binary"
   ]
  },
  {
   "cell_type": "code",
   "execution_count": 24,
   "metadata": {},
   "outputs": [
    {
     "name": "stdout",
     "output_type": "stream",
     "text": [
      "2021-01-25 23:08:32,056 INFO sqlalchemy.engine.base.Engine select version()\n",
      "2021-01-25 23:08:32,058 INFO sqlalchemy.engine.base.Engine {}\n",
      "2021-01-25 23:08:32,072 INFO sqlalchemy.engine.base.Engine select current_schema()\n",
      "2021-01-25 23:08:32,073 INFO sqlalchemy.engine.base.Engine {}\n",
      "2021-01-25 23:08:32,088 INFO sqlalchemy.engine.base.Engine SELECT CAST('test plain returns' AS VARCHAR(60)) AS anon_1\n",
      "2021-01-25 23:08:32,089 INFO sqlalchemy.engine.base.Engine {}\n",
      "2021-01-25 23:08:32,096 INFO sqlalchemy.engine.base.Engine SELECT CAST('test unicode returns' AS VARCHAR(60)) AS anon_1\n",
      "2021-01-25 23:08:32,097 INFO sqlalchemy.engine.base.Engine {}\n",
      "2021-01-25 23:08:32,105 INFO sqlalchemy.engine.base.Engine show standard_conforming_strings\n",
      "2021-01-25 23:08:32,106 INFO sqlalchemy.engine.base.Engine {}\n",
      "2021-01-25 23:08:32,120 INFO sqlalchemy.engine.base.Engine select relname from pg_class c join pg_namespace n on n.oid=c.relnamespace where pg_catalog.pg_table_is_visible(c.oid) and relname=%(name)s\n",
      "2021-01-25 23:08:32,121 INFO sqlalchemy.engine.base.Engine {'name': 'cities'}\n",
      "2021-01-25 23:08:32,144 INFO sqlalchemy.engine.base.Engine \n",
      "CREATE TABLE cities (\n",
      "\tcity_id BIGINT, \n",
      "\tcity_name TEXT, \n",
      "\tdisplay_name TEXT, \n",
      "\tlat FLOAT(53), \n",
      "\tlon FLOAT(53)\n",
      ")\n",
      "\n",
      "\n",
      "2021-01-25 23:08:32,145 INFO sqlalchemy.engine.base.Engine {}\n",
      "2021-01-25 23:08:32,161 INFO sqlalchemy.engine.base.Engine COMMIT\n",
      "2021-01-25 23:08:32,170 INFO sqlalchemy.engine.base.Engine CREATE INDEX ix_cities_city_id ON cities (city_id)\n",
      "2021-01-25 23:08:32,171 INFO sqlalchemy.engine.base.Engine {}\n",
      "2021-01-25 23:08:32,186 INFO sqlalchemy.engine.base.Engine COMMIT\n",
      "2021-01-25 23:08:32,197 INFO sqlalchemy.engine.base.Engine BEGIN (implicit)\n",
      "2021-01-25 23:08:32,198 INFO sqlalchemy.engine.base.Engine INSERT INTO cities (city_id, city_name, display_name, lat, lon) VALUES (%(city_id)s, %(city_name)s, %(display_name)s, %(lat)s, %(lon)s)\n",
      "2021-01-25 23:08:32,199 INFO sqlalchemy.engine.base.Engine ({'city_id': 0, 'city_name': 'Mont Saint Michel', 'display_name': 'Le Mont-Saint-Michel, Avranches, Manche, Normandie, France métropolitaine, 50170, France', 'lat': 48.6358559, 'lon': -1.5126096}, {'city_id': 1, 'city_name': 'St Malo', 'display_name': 'Saint-Malo, Ille-et-Vilaine, Bretagne, France métropolitaine, 35400, France', 'lat': 48.6454528, 'lon': -2.015418}, {'city_id': 2, 'city_name': 'Bayeux', 'display_name': 'Bayeux, Calvados, Normandie, France métropolitaine, 14400, France', 'lat': 49.2764624, 'lon': -0.7024738}, {'city_id': 3, 'city_name': 'Le Havre', 'display_name': 'Le Havre, Seine-Maritime, Normandie, France métropolitaine, France', 'lat': 49.4938975, 'lon': 0.1079732}, {'city_id': 4, 'city_name': 'Rouen', 'display_name': 'Rouen, Seine-Maritime, Normandie, France métropolitaine, France', 'lat': 49.4404591, 'lon': 1.0939658}, {'city_id': 5, 'city_name': 'Paris', 'display_name': 'Paris, Île-de-France, France métropolitaine, France', 'lat': 48.8566969, 'lon': 2.3514616}, {'city_id': 6, 'city_name': 'Amiens', 'display_name': 'Amiens, Somme, Hauts-de-France, France métropolitaine, France', 'lat': 49.8941708, 'lon': 2.2956951}, {'city_id': 7, 'city_name': 'Lille', 'display_name': 'Lille, Nord, Hauts-de-France, France métropolitaine, France', 'lat': 50.6365654, 'lon': 3.0635282}  ... displaying 10 of 35 total bound parameter sets ...  {'city_id': 33, 'city_name': 'Bayonne', 'display_name': 'Bayonne, Pyrénées-Atlantiques, Nouvelle-Aquitaine, France métropolitaine, 64100, France', 'lat': 43.4933379, 'lon': -1.475099}, {'city_id': 34, 'city_name': 'La Rochelle', 'display_name': 'La Rochelle, Charente-Maritime, Nouvelle-Aquitaine, France métropolitaine, 17000, France', 'lat': 46.1591126, 'lon': -1.1520434})\n",
      "2021-01-25 23:08:32,422 INFO sqlalchemy.engine.base.Engine COMMIT\n",
      "2021-01-25 23:08:32,436 INFO sqlalchemy.engine.base.Engine select relname from pg_class c join pg_namespace n on n.oid=c.relnamespace where pg_catalog.pg_table_is_visible(c.oid) and relname=%(name)s\n",
      "2021-01-25 23:08:32,437 INFO sqlalchemy.engine.base.Engine {'name': 'weather'}\n",
      "2021-01-25 23:08:32,460 INFO sqlalchemy.engine.base.Engine \n",
      "CREATE TABLE weather (\n",
      "\tindex BIGINT, \n",
      "\tcity_id BIGINT, \n",
      "\tdt TIMESTAMP WITHOUT TIME ZONE, \n",
      "\tsunrise TIMESTAMP WITHOUT TIME ZONE, \n",
      "\tsunset TIMESTAMP WITHOUT TIME ZONE, \n",
      "\tpressure BIGINT, \n",
      "\thumidity BIGINT, \n",
      "\tdew_point FLOAT(53), \n",
      "\twind_speed FLOAT(53), \n",
      "\twind_deg BIGINT, \n",
      "\tclouds BIGINT, \n",
      "\tpop FLOAT(53), \n",
      "\train FLOAT(53), \n",
      "\tuvi FLOAT(53), \n",
      "\tday_temp FLOAT(53), \n",
      "\tmin_temp FLOAT(53), \n",
      "\tmax_temp FLOAT(53), \n",
      "\tnight_temp FLOAT(53), \n",
      "\teve_temp FLOAT(53), \n",
      "\tmorn_temp FLOAT(53), \n",
      "\tday_feels_like FLOAT(53), \n",
      "\tnight_feels_like FLOAT(53), \n",
      "\teve_feels_like FLOAT(53), \n",
      "\tmorn_feels_like FLOAT(53), \n",
      "\tmain_weather TEXT, \n",
      "\tdescription_weather TEXT, \n",
      "\tsnow FLOAT(53), \n",
      "\tday_light_duration BIGINT\n",
      ")\n",
      "\n",
      "\n",
      "2021-01-25 23:08:32,461 INFO sqlalchemy.engine.base.Engine {}\n",
      "2021-01-25 23:08:32,477 INFO sqlalchemy.engine.base.Engine COMMIT\n",
      "2021-01-25 23:08:32,486 INFO sqlalchemy.engine.base.Engine CREATE INDEX ix_weather_index ON weather (index)\n",
      "2021-01-25 23:08:32,487 INFO sqlalchemy.engine.base.Engine {}\n",
      "2021-01-25 23:08:32,502 INFO sqlalchemy.engine.base.Engine COMMIT\n",
      "2021-01-25 23:08:32,515 INFO sqlalchemy.engine.base.Engine BEGIN (implicit)\n",
      "2021-01-25 23:08:32,523 INFO sqlalchemy.engine.base.Engine INSERT INTO weather (index, city_id, dt, sunrise, sunset, pressure, humidity, dew_point, wind_speed, wind_deg, clouds, pop, rain, uvi, day_temp, min_temp, max_temp, night_temp, eve_temp, morn_temp, day_feels_like, night_feels_like, eve_feels_like, morn_feels_like, main_weather, description_weather, snow, day_light_duration) VALUES (%(index)s, %(city_id)s, %(dt)s, %(sunrise)s, %(sunset)s, %(pressure)s, %(humidity)s, %(dew_point)s, %(wind_speed)s, %(wind_deg)s, %(clouds)s, %(pop)s, %(rain)s, %(uvi)s, %(day_temp)s, %(min_temp)s, %(max_temp)s, %(night_temp)s, %(eve_temp)s, %(morn_temp)s, %(day_feels_like)s, %(night_feels_like)s, %(eve_feels_like)s, %(morn_feels_like)s, %(main_weather)s, %(description_weather)s, %(snow)s, %(day_light_duration)s)\n",
      "2021-01-25 23:08:32,525 INFO sqlalchemy.engine.base.Engine ({'index': 0, 'city_id': 0, 'dt': datetime.datetime(2021, 1, 26, 12, 0), 'sunrise': datetime.datetime(2021, 1, 26, 7, 42, 58), 'sunset': datetime.datetime(2021, 1, 26, 16, 54), 'pressure': 1021, 'humidity': 72, 'dew_point': 0.06, 'wind_speed': 7.43, 'wind_deg': 185, 'clouds': 100, 'pop': 0.71, 'rain': 0.56, 'uvi': 0.63, 'day_temp': 4.58, 'min_temp': 0.38, 'max_temp': 4.95, 'night_temp': 4.42, 'eve_temp': 3.81, 'morn_temp': 1.29, 'day_feels_like': -2.61, 'night_feels_like': -1.71, 'eve_feels_like': -3.92, 'morn_feels_like': -3.78, 'main_weather': 'Rain', 'description_weather': 'light rain', 'snow': None, 'day_light_duration': 33062000000000}, {'index': 1, 'city_id': 0, 'dt': datetime.datetime(2021, 1, 27, 12, 0), 'sunrise': datetime.datetime(2021, 1, 27, 7, 41, 49), 'sunset': datetime.datetime(2021, 1, 27, 16, 55, 36), 'pressure': 1017, 'humidity': 90, 'dew_point': 9.77, 'wind_speed': 3.51, 'wind_deg': 227, 'clouds': 100, 'pop': 1.0, 'rain': 2.59, 'uvi': 0.55, 'day_temp': 11.21, 'min_temp': 4.6, 'max_temp': 11.75, 'night_temp': 11.65, 'eve_temp': 11.41, 'morn_temp': 8.63, 'day_feels_like': 8.7, 'night_feels_like': 7.5, 'eve_feels_like': 8.2, 'morn_feels_like': 5.83, 'main_weather': 'Rain', 'description_weather': 'moderate rain', 'snow': None, 'day_light_duration': 33227000000000}, {'index': 2, 'city_id': 0, 'dt': datetime.datetime(2021, 1, 28, 12, 0), 'sunrise': datetime.datetime(2021, 1, 28, 7, 40, 37), 'sunset': datetime.datetime(2021, 1, 28, 16, 57, 12), 'pressure': 1012, 'humidity': 82, 'dew_point': 10.28, 'wind_speed': 7.18, 'wind_deg': 254, 'clouds': 99, 'pop': 0.85, 'rain': 3.65, 'uvi': 0.68, 'day_temp': 13.13, 'min_temp': 11.33, 'max_temp': 13.26, 'night_temp': 11.79, 'eve_temp': 11.98, 'morn_temp': 11.98, 'day_feels_like': 8.18, 'night_feels_like': 6.43, 'eve_feels_like': 7.54, 'morn_feels_like': 7.72, 'main_weather': 'Rain', 'description_weather': 'light rain', 'snow': None, 'day_light_duration': 33395000000000}, {'index': 3, 'city_id': 0, 'dt': datetime.datetime(2021, 1, 29, 12, 0), 'sunrise': datetime.datetime(2021, 1, 29, 7, 39, 23), 'sunset': datetime.datetime(2021, 1, 29, 16, 58, 49), 'pressure': 1010, 'humidity': 80, 'dew_point': 8.06, 'wind_speed': 6.61, 'wind_deg': 263, 'clouds': 72, 'pop': 1.0, 'rain': 2.14, 'uvi': 0.93, 'day_temp': 11.35, 'min_temp': 7.47, 'max_temp': 11.35, 'night_temp': 7.47, 'eve_temp': 8.78, 'morn_temp': 8.87, 'day_feels_like': 6.26, 'night_feels_like': 4.48, 'eve_feels_like': 5.16, 'morn_feels_like': 5.2, 'main_weather': 'Rain', 'description_weather': 'light rain', 'snow': None, 'day_light_duration': 33566000000000}, {'index': 4, 'city_id': 0, 'dt': datetime.datetime(2021, 1, 30, 12, 0), 'sunrise': datetime.datetime(2021, 1, 30, 7, 38, 7), 'sunset': datetime.datetime(2021, 1, 30, 17, 0, 27), 'pressure': 1009, 'humidity': 82, 'dew_point': 6.63, 'wind_speed': 1.8, 'wind_deg': 123, 'clouds': 97, 'pop': 0.02, 'rain': None, 'uvi': 0.66, 'day_temp': 9.52, 'min_temp': 5.65, 'max_temp': 10.48, 'night_temp': 7.79, 'eve_temp': 7.98, 'morn_temp': 5.65, 'day_feels_like': 7.47, 'night_feels_like': 3.95, 'eve_feels_like': 4.78, 'morn_feels_like': 3.29, 'main_weather': 'Clouds', 'description_weather': 'overcast clouds', 'snow': None, 'day_light_duration': 33740000000000}, {'index': 5, 'city_id': 0, 'dt': datetime.datetime(2021, 1, 31, 12, 0), 'sunrise': datetime.datetime(2021, 1, 31, 7, 36, 49), 'sunset': datetime.datetime(2021, 1, 31, 17, 2, 4), 'pressure': 992, 'humidity': 72, 'dew_point': 7.67, 'wind_speed': 12.12, 'wind_deg': 247, 'clouds': 62, 'pop': 1.0, 'rain': 7.71, 'uvi': 1.0, 'day_temp': 12.44, 'min_temp': 9.16, 'max_temp': 12.73, 'night_temp': 10.22, 'eve_temp': 10.69, 'morn_temp': 10.65, 'day_feels_like': 3.38, 'night_feels_like': -1.42, 'eve_feels_like': -0.68, 'morn_feels_like': 3.08, 'main_weather': 'Rain', 'description_weather': 'light rain', 'snow': None, 'day_light_duration': 33915000000000}, {'index': 6, 'city_id': 0, 'dt': datetime.datetime(2021, 2, 1, 12, 0), 'sunrise': datetime.datetime(2021, 2, 1, 7, 35, 29), 'sunset': datetime.datetime(2021, 2, 1, 17, 3, 42), 'pressure': 1006, 'humidity': 89, 'dew_point': 9.11, 'wind_speed': 8.03, 'wind_deg': 233, 'clouds': 100, 'pop': 1.0, 'rain': 7.15, 'uvi': 1.0, 'day_temp': 10.82, 'min_temp': 8.2, 'max_temp': 12.01, 'night_temp': 11.71, 'eve_temp': 11.54, 'morn_temp': 8.2, 'day_feels_like': 5.0, 'night_feels_like': 8.06, 'eve_feels_like': 7.46, 'morn_feels_like': 2.72, 'main_weather': 'Rain', 'description_weather': 'moderate rain', 'snow': None, 'day_light_duration': 34093000000000}, {'index': 7, 'city_id': 0, 'dt': datetime.datetime(2021, 2, 2, 12, 0), 'sunrise': datetime.datetime(2021, 2, 2, 7, 34, 8), 'sunset': datetime.datetime(2021, 2, 2, 17, 5, 21), 'pressure': 1003, 'humidity': 74, 'dew_point': 9.01, 'wind_speed': 9.82, 'wind_deg': 232, 'clouds': 67, 'pop': 1.0, 'rain': 5.18, 'uvi': 1.0, 'day_temp': 13.51, 'min_temp': 9.46, 'max_temp': 13.51, 'night_temp': 9.46, 'eve_temp': 10.16, 'morn_temp': 11.5, 'day_feels_like': 6.41, 'night_feels_like': 3.08, 'eve_feels_like': 3.79, 'morn_feels_like': 4.87, 'main_weather': 'Rain', 'description_weather': 'light rain', 'snow': None, 'day_light_duration': 34273000000000}  ... displaying 10 of 280 total bound parameter sets ...  {'index': 278, 'city_id': 34, 'dt': datetime.datetime(2021, 2, 1, 12, 0), 'sunrise': datetime.datetime(2021, 2, 1, 7, 27, 19), 'sunset': datetime.datetime(2021, 2, 1, 17, 8, 59), 'pressure': 1014, 'humidity': 85, 'dew_point': 8.64, 'wind_speed': 9.7, 'wind_deg': 246, 'clouds': 100, 'pop': 1.0, 'rain': 5.77, 'uvi': 1.0, 'day_temp': 10.9, 'min_temp': 9.87, 'max_temp': 11.85, 'night_temp': 11.85, 'eve_temp': 11.06, 'morn_temp': 9.89, 'day_feels_like': 3.76, 'night_feels_like': 3.36, 'eve_feels_like': 3.3, 'morn_feels_like': 3.87, 'main_weather': 'Rain', 'description_weather': 'moderate rain', 'snow': None, 'day_light_duration': 34900000000000}, {'index': 279, 'city_id': 34, 'dt': datetime.datetime(2021, 2, 2, 12, 0), 'sunrise': datetime.datetime(2021, 2, 2, 7, 26, 6), 'sunset': datetime.datetime(2021, 2, 2, 17, 10, 29), 'pressure': 1011, 'humidity': 88, 'dew_point': 9.83, 'wind_speed': 10.19, 'wind_deg': 233, 'clouds': 100, 'pop': 0.99, 'rain': 2.18, 'uvi': 1.0, 'day_temp': 11.58, 'min_temp': 10.77, 'max_temp': 11.62, 'night_temp': 10.77, 'eve_temp': 10.86, 'morn_temp': 11.33, 'day_feels_like': 4.4, 'night_feels_like': 5.25, 'eve_feels_like': 4.61, 'morn_feels_like': 5.08, 'main_weather': 'Rain', 'description_weather': 'light rain', 'snow': None, 'day_light_duration': 35063000000000})\n"
     ]
    },
    {
     "name": "stderr",
     "output_type": "stream",
     "text": [
      "/opt/conda/lib/python3.8/site-packages/pandas/core/generic.py:2605: UserWarning:\n",
      "\n",
      "the 'timedelta' type is not supported, and will be written as integer values (ns frequency) to the database.\n",
      "\n"
     ]
    },
    {
     "name": "stdout",
     "output_type": "stream",
     "text": [
      "2021-01-25 23:08:34,307 INFO sqlalchemy.engine.base.Engine COMMIT\n",
      "2021-01-25 23:08:34,320 INFO sqlalchemy.engine.base.Engine select relname from pg_class c join pg_namespace n on n.oid=c.relnamespace where pg_catalog.pg_table_is_visible(c.oid) and relname=%(name)s\n",
      "2021-01-25 23:08:34,321 INFO sqlalchemy.engine.base.Engine {'name': 'hotels'}\n",
      "2021-01-25 23:08:34,342 INFO sqlalchemy.engine.base.Engine \n",
      "CREATE TABLE hotels (\n",
      "\tindex BIGINT, \n",
      "\tcity_id BIGINT, \n",
      "\tname TEXT, \n",
      "\tdescription TEXT, \n",
      "\tlink TEXT, \n",
      "\tscore FLOAT(53), \n",
      "\tnb_review FLOAT(53), \n",
      "\tdistance_from_center FLOAT(53), \n",
      "\tlattitude FLOAT(53), \n",
      "\tlongitude FLOAT(53), \n",
      "\ttype TEXT, \n",
      "\tranking FLOAT(53)\n",
      ")\n",
      "\n",
      "\n",
      "2021-01-25 23:08:34,343 INFO sqlalchemy.engine.base.Engine {}\n",
      "2021-01-25 23:08:34,360 INFO sqlalchemy.engine.base.Engine COMMIT\n",
      "2021-01-25 23:08:34,369 INFO sqlalchemy.engine.base.Engine CREATE INDEX ix_hotels_index ON hotels (index)\n",
      "2021-01-25 23:08:34,370 INFO sqlalchemy.engine.base.Engine {}\n",
      "2021-01-25 23:08:34,385 INFO sqlalchemy.engine.base.Engine COMMIT\n",
      "2021-01-25 23:08:34,396 INFO sqlalchemy.engine.base.Engine BEGIN (implicit)\n",
      "2021-01-25 23:08:34,401 INFO sqlalchemy.engine.base.Engine INSERT INTO hotels (index, city_id, name, description, link, score, nb_review, distance_from_center, lattitude, longitude, type, ranking) VALUES (%(index)s, %(city_id)s, %(name)s, %(description)s, %(link)s, %(score)s, %(nb_review)s, %(distance_from_center)s, %(lattitude)s, %(longitude)s, %(type)s, %(ranking)s)\n",
      "2021-01-25 23:08:34,402 INFO sqlalchemy.engine.base.Engine ({'index': 3085, 'city_id': 24, 'name': 'Odalys City Nîmes Le Cheval Blanc', 'description': 'Odalys City Nîmes Le Cheval Blanc is set in the historic heart of Nimes, opposite the Roman Arena and a 5-minute walk from Nimes Train Station.', 'link': 'https://www.booking.com/hotel/fr/le-cheval-blanc.en-gb.html?label=gen173nr-1FCAEoggI46AdIM1gEaBWIAQGYAQm4AQrIAQXYAQHoAQH4AQuIAgGoAgS4AsGWvYAGwAIB0gIk ... (151 characters truncated) ... dren=0&hapos=1&hpos=1&no_rooms=1&sr_order=popularity&srepoch=1611615058&srpvid=3628a0a9350a00af&ucfs=1&from=searchresults\\n;highlight_room=#hotelTmpl', 'score': 8.2, 'nb_review': 1.0, 'distance_from_center': 400.0, 'lattitude': 43.8342375300246, 'longitude': 4.36079040169716, 'type': 'hotel', 'ranking': 3.0}, {'index': 3086, 'city_id': 24, 'name': 'Best Western Marquis de la Baume', 'description': 'Located in the centre of the historic town of Nîmes, Hôtel Marquis de la Baume is a 17th-century town house just 3.7 km from Parc Expo Nîmes and 650 metres from Nîmes Arena. Free WiFi is provided.', 'link': 'https://www.booking.com/hotel/fr/ha-tel-la-baume.en-gb.html?label=gen173nr-1FCAEoggI46AdIM1gEaBWIAQGYAQm4AQrIAQXYAQHoAQH4AQuIAgGoAgS4AsGWvYAGwAIB0gIk ... (151 characters truncated) ... dren=0&hapos=2&hpos=2&no_rooms=1&sr_order=popularity&srepoch=1611615058&srpvid=3628a0a9350a00af&ucfs=1&from=searchresults\\n;highlight_room=#hotelTmpl', 'score': 8.1, 'nb_review': 1.0, 'distance_from_center': 300.0, 'lattitude': 43.8395947565407, 'longitude': 4.36108410358429, 'type': 'hotel', 'ranking': 4.0}, {'index': 3087, 'city_id': 24, 'name': 'Campanile Nîmes Centre Mas-Carbonnel', 'description': 'Located in Nîmes, this 3-star hotel offers free WiFi, a 24-hour reception and daily newspapers. Nîmes Arena, the Maison Carrée and the train station are less than a 20-minute walk away.', 'link': 'https://www.booking.com/hotel/fr/campanile-nimes-centre-mas-carbonnel.en-gb.html?label=gen173nr-1FCAEoggI46AdIM1gEaBWIAQGYAQm4AQrIAQXYAQHoAQH4AQuIAgG ... (172 characters truncated) ... dren=0&hapos=3&hpos=3&no_rooms=1&sr_order=popularity&srepoch=1611615058&srpvid=3628a0a9350a00af&ucfs=1&from=searchresults\\n;highlight_room=#hotelTmpl', 'score': 7.0, 'nb_review': 1.0, 'distance_from_center': 1700.0, 'lattitude': 43.822731120282704, 'longitude': 4.36412572860718, 'type': 'hotel', 'ranking': 3.0}, {'index': 3088, 'city_id': 24, 'name': \"Appart'City Nimes\", 'description': \"This Appart'City is located in Nîmes, a 20-minute walk from the Arena of Nîmes and the TGV Train Station  It is 500 metres from Le Parnasse Sports Centre and Exhibition Centre.\", 'link': 'https://www.booking.com/hotel/fr/appart-city-nimes.en-gb.html?label=gen173nr-1FCAEoggI46AdIM1gEaBWIAQGYAQm4AQrIAQXYAQHoAQH4AQuIAgGoAgS4AsGWvYAGwAIB0g ... (153 characters truncated) ... dren=0&hapos=4&hpos=4&no_rooms=1&sr_order=popularity&srepoch=1611615058&srpvid=3628a0a9350a00af&ucfs=1&from=searchresults\\n;highlight_room=#hotelTmpl', 'score': 7.3, 'nb_review': 1.0, 'distance_from_center': 1800.0, 'lattitude': 43.821585485623, 'longitude': 4.3645977973938, 'type': 'hotel', 'ranking': 3.0}, {'index': 3089, 'city_id': 24, 'name': 'Kyriad Nîmes Ouest A9', 'description': 'Located a 10-minute drive from the centre of Nîmes, this 3-star hotel is ideally located 2 km from the exit 25 of the A9 motorway.', 'link': 'https://www.booking.com/hotel/fr/kyriad-na-r-mes-ouest.en-gb.html?label=gen173nr-1FCAEoggI46AdIM1gEaBWIAQGYAQm4AQrIAQXYAQHoAQH4AQuIAgGoAgS4AsGWvYAGwA ... (157 characters truncated) ... dren=0&hapos=5&hpos=5&no_rooms=1&sr_order=popularity&srepoch=1611615058&srpvid=3628a0a9350a00af&ucfs=1&from=searchresults\\n;highlight_room=#hotelTmpl', 'score': 7.9, 'nb_review': 1.0, 'distance_from_center': 2900.0, 'lattitude': 43.8147073451298, 'longitude': 4.34483259916306, 'type': 'hotel', 'ranking': 3.0}, {'index': 3090, 'city_id': 24, 'name': 'Royal Hôtel', 'description': 'Set in the heart of Nîmes, Royal Hôtel features an on-site restaurant, La Bodéguita, which opens onto Assas Square.', 'link': 'https://www.booking.com/hotel/fr/royal.en-gb.html?label=gen173nr-1FCAEoggI46AdIM1gEaBWIAQGYAQm4AQrIAQXYAQHoAQH4AQuIAgGoAgS4AsGWvYAGwAIB0gIkODgzYjU3OT ... (141 characters truncated) ... dren=0&hapos=6&hpos=6&no_rooms=1&sr_order=popularity&srepoch=1611615058&srpvid=3628a0a9350a00af&ucfs=1&from=searchresults\\n;highlight_room=#hotelTmpl', 'score': 8.1, 'nb_review': 573.0, 'distance_from_center': 450.0, 'lattitude': 43.8388150962031, 'longitude': 4.3548184633255, 'type': 'hotel', 'ranking': 3.0}, {'index': 3091, 'city_id': 24, 'name': 'Novotel Atria Nimes Centre', 'description': 'Located in Nîmes city centre, this hotel is just minutes from the Train Station, the Arènes Roman amphitheatre, and the town’s main square.', 'link': 'https://www.booking.com/hotel/fr/atria-nimes-centre.en-gb.html?label=gen173nr-1FCAEoggI46AdIM1gEaBWIAQGYAQm4AQrIAQXYAQHoAQH4AQuIAgGoAgS4AsGWvYAGwAIB0 ... (154 characters truncated) ... dren=0&hapos=7&hpos=7&no_rooms=1&sr_order=popularity&srepoch=1611615058&srpvid=3628a0a9350a00af&ucfs=1&from=searchresults\\n;highlight_room=#hotelTmpl', 'score': 8.1, 'nb_review': 1.0, 'distance_from_center': 350.0, 'lattitude': 43.8354206497776, 'longitude': 4.36340421438217, 'type': 'hotel', 'ranking': 4.0}, {'index': 3092, 'city_id': 24, 'name': 'ibis Nîmes Ouest - A9', 'description': 'Located right next to the exit 25 of the A9 motorway, ibis Nîmes Ouest is located 4 km from the centre of Nîmes and 12 km from Nîmes Airport. The hotel features an outdoor swimming pool and free WiFi....', 'link': 'https://www.booking.com/hotel/fr/ibis-na-r-mes-ouest.en-gb.html?label=gen173nr-1FCAEoggI46AdIM1gEaBWIAQGYAQm4AQrIAQXYAQHoAQH4AQuIAgGoAgS4AsGWvYAGwAIB ... (155 characters truncated) ... dren=0&hapos=8&hpos=8&no_rooms=1&sr_order=popularity&srepoch=1611615058&srpvid=3628a0a9350a00af&ucfs=1&from=searchresults\\n;highlight_room=#hotelTmpl', 'score': 7.9, 'nb_review': 1.0, 'distance_from_center': 3000.0, 'lattitude': 43.813890585896, 'longitude': 4.34434175491333, 'type': 'hotel', 'ranking': 3.0}  ... displaying 10 of 375 total bound parameter sets ...  {'index': 7172, 'city_id': 18, 'name': 'Studio in BormeslesMimosas with wonderful sea view private pool and balcony 50 m from the beach', 'description': 'Set in Bormes-les-Mimosas, Studio in Bormes-les-Mimosas, with wonderful sea view, private pool and balcony - 50 m from the beach offers accommodation with an outdoor pool.', 'link': 'https://www.booking.com/hotel/fr/apartment-avenue-de-la-mer.en-gb.html?label=gen173nr-1FCAEoggI46AdIM1gEaBWIAQGYAQm4AQrIAQXYAQHoAQH4AQuIAgGoAgS4AsGWv ... (192 characters truncated) ... en=0&hapos=105&hpos=5&no_rooms=1&sr_order=popularity&srepoch=1611615079&srpvid=a3f6a0b3062500ab&ucfs=1&from=searchresults\\n;highlight_room=#hotelTmpl', 'score': None, 'nb_review': None, 'distance_from_center': 3500.0, 'lattitude': 43.122366, 'longitude': 6.357703099999981, 'type': 'host', 'ranking': 3.0}, {'index': 7173, 'city_id': 18, 'name': 'Appartement Bormes-les-Mimosas, 2 pièces, 4 personnes - FR-1-251-351', 'description': 'Appartement Bormes-les-Mimosas, 2 pièces, 4 personnes - FR-1-251-351 is set in Bormes-les-Mimosas. With free private parking, the property is 1.2 km from Grande Plage and 600 metres from La Favière.', 'link': 'https://www.booking.com/hotel/fr/apartment-4-personnes-appt-3-pieces-4-couchages-bormes-les-mimosas.en-gb.html?label=gen173nr-1FCAEoggI46AdIM1gEaBWIA ... (232 characters truncated) ... en=0&hapos=106&hpos=6&no_rooms=1&sr_order=popularity&srepoch=1611615079&srpvid=a3f6a0b3062500ab&ucfs=1&from=searchresults\\n;highlight_room=#hotelTmpl', 'score': None, 'nb_review': None, 'distance_from_center': 3400.0, 'lattitude': 43.122354, 'longitude': 6.356155, 'type': None, 'ranking': None})\n",
      "2021-01-25 23:08:36,818 INFO sqlalchemy.engine.base.Engine COMMIT\n",
      "2021-01-25 23:08:36,826 INFO sqlalchemy.engine.base.Engine ALTER TABLE cities ADD UNIQUE (city_id)\n",
      "2021-01-25 23:08:36,827 INFO sqlalchemy.engine.base.Engine {}\n",
      "2021-01-25 23:08:36,845 INFO sqlalchemy.engine.base.Engine COMMIT\n",
      "2021-01-25 23:08:36,854 INFO sqlalchemy.engine.base.Engine ALTER TABLE weather ADD CONSTRAINT fk_city_id FOREIGN KEY(city_id) REFERENCES cities(city_id) ON DELETE CASCADE\n",
      "2021-01-25 23:08:36,854 INFO sqlalchemy.engine.base.Engine {}\n",
      "2021-01-25 23:08:36,868 INFO sqlalchemy.engine.base.Engine COMMIT\n",
      "2021-01-25 23:08:36,876 INFO sqlalchemy.engine.base.Engine ALTER TABLE hotels ADD CONSTRAINT fk_city_id FOREIGN KEY(city_id) REFERENCES cities(city_id) ON DELETE CASCADE\n",
      "2021-01-25 23:08:36,877 INFO sqlalchemy.engine.base.Engine {}\n",
      "2021-01-25 23:08:36,892 INFO sqlalchemy.engine.base.Engine COMMIT\n"
     ]
    }
   ],
   "source": [
    "import pandas as pd\n",
    "from sqlalchemy import create_engine\n",
    "from sqlalchemy.sql import text\n",
    "\n",
    "engine = create_engine(\"postgresql+psycopg2://postgres:'MY_PASSWORD'@'MY_HOST':5432/postgres\", echo=True)\n",
    "\n",
    "df_cities.to_sql(\"cities\", engine)\n",
    "df_weather.to_sql(\"weather\", engine)\n",
    "df_hotels.drop(['city'], axis=1).to_sql(\"hotels\", engine)\n",
    "\n",
    "cmd_cities = text(\"ALTER TABLE cities ADD UNIQUE (city_id)\")\n",
    "\n",
    "cmd_weather = text(\"ALTER TABLE weather ADD CONSTRAINT fk_city_id FOREIGN KEY(city_id) REFERENCES cities(city_id) ON DELETE CASCADE\")\n",
    "\n",
    "cmd_hotels = text(\"ALTER TABLE hotels ADD CONSTRAINT fk_city_id FOREIGN KEY(city_id) REFERENCES cities(city_id) ON DELETE CASCADE\")\n",
    "\n",
    "with engine.connect() as conn:\n",
    "    result = conn.execute(cmd_cities)\n",
    "    result = conn.execute(cmd_weather)\n",
    "    result = conn.execute(cmd_hotels)"
   ]
  },
  {
   "cell_type": "code",
   "execution_count": null,
   "metadata": {},
   "outputs": [],
   "source": []
  }
 ],
 "metadata": {
  "kernelspec": {
   "display_name": "Python 3",
   "language": "python",
   "name": "python3"
  },
  "language_info": {
   "codemirror_mode": {
    "name": "ipython",
    "version": 3
   },
   "file_extension": ".py",
   "mimetype": "text/x-python",
   "name": "python",
   "nbconvert_exporter": "python",
   "pygments_lexer": "ipython3",
   "version": "3.8.6"
  }
 },
 "nbformat": 4,
 "nbformat_minor": 4
}
